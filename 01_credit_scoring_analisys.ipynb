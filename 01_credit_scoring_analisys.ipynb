{
 "cells": [
  {
   "cell_type": "markdown",
   "id": "43670b87",
   "metadata": {},
   "source": [
    "# Исследование надежности заемщиков."
   ]
  },
  {
   "cell_type": "markdown",
   "id": "4dc06bf1",
   "metadata": {},
   "source": [
    "**Цель проекта:** на полученных из банка данных с характеристиками заёмщиков (пол, возраст и другие, суммарно около 10 характеристик) проверить, если ли зависимость между фактом непогашения кредита в срок и: \n",
    " - семейным положением\n",
    " - количеством детей\n",
    " - уровнем дохода\n",
    " - целью кредита\n",
    " \n",
    "Результаты исследования будут использованы для модификации модели кредитного скоринга."
   ]
  },
  {
   "cell_type": "markdown",
   "id": "2ef5a920",
   "metadata": {},
   "source": [
    "## Обзор данных:"
   ]
  },
  {
   "cell_type": "code",
   "execution_count": 46,
   "id": "b95aee62",
   "metadata": {},
   "outputs": [],
   "source": [
    "import pandas as pd"
   ]
  },
  {
   "cell_type": "code",
   "execution_count": 47,
   "id": "0aa9abb9",
   "metadata": {},
   "outputs": [
    {
     "name": "stdout",
     "output_type": "stream",
     "text": [
      "<class 'pandas.core.frame.DataFrame'>\n",
      "RangeIndex: 21525 entries, 0 to 21524\n",
      "Data columns (total 12 columns):\n",
      " #   Column            Non-Null Count  Dtype  \n",
      "---  ------            --------------  -----  \n",
      " 0   children          21525 non-null  int64  \n",
      " 1   days_employed     19351 non-null  float64\n",
      " 2   dob_years         21525 non-null  int64  \n",
      " 3   education         21525 non-null  object \n",
      " 4   education_id      21525 non-null  int64  \n",
      " 5   family_status     21525 non-null  object \n",
      " 6   family_status_id  21525 non-null  int64  \n",
      " 7   gender            21525 non-null  object \n",
      " 8   income_type       21525 non-null  object \n",
      " 9   debt              21525 non-null  int64  \n",
      " 10  total_income      19351 non-null  float64\n",
      " 11  purpose           21525 non-null  object \n",
      "dtypes: float64(2), int64(5), object(5)\n",
      "memory usage: 2.0+ MB\n"
     ]
    }
   ],
   "source": [
    "#загрузим данные и отобразим сводную информацию по таблице\n",
    "try:\n",
    "    df = pd.read_csv('datasets/data.csv')\n",
    "    df.info()\n",
    "except:\n",
    "    display('Проверьте доступ к данным')"
   ]
  },
  {
   "cell_type": "markdown",
   "id": "aa542bfa",
   "metadata": {},
   "source": [
    "В полученной таблице 12 столбцов, более 21тыс. строк. Имеются пропуски и вещественный тип данных в двух столбцах. Это ненормально, будет нам мешать - исправим."
   ]
  },
  {
   "cell_type": "markdown",
   "id": "820ca26e",
   "metadata": {},
   "source": [
    "### Заполнение пропусков"
   ]
  },
  {
   "cell_type": "markdown",
   "id": "eac6e03d",
   "metadata": {},
   "source": [
    "Пропуски имеются в двух столбцах: `days_employed` и `total_income`. Причина - скорее всего нежелание клиента делиться информацией о стаже и доходах с банком.  \n",
    "Пропущенные значения - количественные. Заполним их медианой - тогда крайние (минимальные и максимальные), нехарактерные для столбцов значения (из-за ошибок ввода или по другим причинам) не так сильно повлияют на статистику."
   ]
  },
  {
   "cell_type": "code",
   "execution_count": 48,
   "id": "825530a0",
   "metadata": {},
   "outputs": [
    {
     "data": {
      "text/plain": [
       "'Количество строк, в которых есть хотя бы одно пропущенное значение: 2174'"
      ]
     },
     "metadata": {},
     "output_type": "display_data"
    }
   ],
   "source": [
    "#отобразим количество строк с пропусками\n",
    "none_rows = df[df.isna().any(axis=1)].shape[0]\n",
    "display('Количество строк, в которых есть хотя бы одно пропущенное значение: {0}'.format(none_rows))"
   ]
  },
  {
   "cell_type": "code",
   "execution_count": 49,
   "id": "39881c5c",
   "metadata": {},
   "outputs": [
    {
     "data": {
      "text/plain": [
       "children            0.000000\n",
       "days_employed       0.100999\n",
       "dob_years           0.000000\n",
       "education           0.000000\n",
       "education_id        0.000000\n",
       "family_status       0.000000\n",
       "family_status_id    0.000000\n",
       "gender              0.000000\n",
       "income_type         0.000000\n",
       "debt                0.000000\n",
       "total_income        0.100999\n",
       "purpose             0.000000\n",
       "dtype: float64"
      ]
     },
     "execution_count": 49,
     "metadata": {},
     "output_type": "execute_result"
    }
   ],
   "source": [
    "#пропущенная часть данных по столбцам\n",
    "df.isna().mean()"
   ]
  },
  {
   "cell_type": "code",
   "execution_count": 50,
   "id": "f004e34a",
   "metadata": {},
   "outputs": [
    {
     "data": {
      "text/plain": [
       "'Доля пропущенных значений в столбце days_employed: 10%'"
      ]
     },
     "execution_count": 50,
     "metadata": {},
     "output_type": "execute_result"
    }
   ],
   "source": [
    "days_employed_nan_ratio = df.isna().mean().days_employed\n",
    "'Доля пропущенных значений в столбце days_employed: {:.0%}'.format(days_employed_nan_ratio)"
   ]
  },
  {
   "cell_type": "code",
   "execution_count": 51,
   "id": "970376e3",
   "metadata": {},
   "outputs": [
    {
     "data": {
      "text/plain": [
       "'Доля пропущенных значений в столбце total_income: 10%'"
      ]
     },
     "execution_count": 51,
     "metadata": {},
     "output_type": "execute_result"
    }
   ],
   "source": [
    "total_income_nan_ratio = df.isna().mean().total_income\n",
    "'Доля пропущенных значений в столбце total_income: {:.0%}'.format(total_income_nan_ratio)"
   ]
  },
  {
   "cell_type": "code",
   "execution_count": 52,
   "id": "25b78439",
   "metadata": {},
   "outputs": [
    {
     "data": {
      "text/plain": [
       "'Медианное значение days_employed: 2194'"
      ]
     },
     "execution_count": 52,
     "metadata": {},
     "output_type": "execute_result"
    }
   ],
   "source": [
    "days_employed_median = df['days_employed'].abs().median().astype(int)\n",
    "'Медианное значение days_employed: {0}'.format(days_employed_median)"
   ]
  },
  {
   "cell_type": "code",
   "execution_count": 53,
   "id": "c9e849af",
   "metadata": {},
   "outputs": [
    {
     "data": {
      "text/plain": [
       "'Медианное значение total_income: 145017'"
      ]
     },
     "execution_count": 53,
     "metadata": {},
     "output_type": "execute_result"
    }
   ],
   "source": [
    "total_income_median = df['total_income'].abs().median().astype(int)\n",
    "'Медианное значение total_income: {0}'.format(total_income_median)"
   ]
  },
  {
   "cell_type": "code",
   "execution_count": 54,
   "id": "cffa8ed5",
   "metadata": {},
   "outputs": [],
   "source": [
    "#заполним пропуски медианой\n",
    "df['days_employed'] = (\n",
    "    df['days_employed']\n",
    "    .fillna(df.groupby(by='income_type')['days_employed']\n",
    "    .transform('median'))\n",
    ")\n",
    "\n",
    "df['total_income'] = (\n",
    "    df['total_income']\n",
    "    .fillna(df.groupby(by='income_type')['total_income']\n",
    "    .transform('median'))\n",
    ")"
   ]
  },
  {
   "cell_type": "code",
   "execution_count": 55,
   "id": "ece821bb",
   "metadata": {},
   "outputs": [
    {
     "name": "stdout",
     "output_type": "stream",
     "text": [
      "<class 'pandas.core.frame.DataFrame'>\n",
      "Int64Index: 0 entries\n",
      "Data columns (total 12 columns):\n",
      " #   Column            Non-Null Count  Dtype  \n",
      "---  ------            --------------  -----  \n",
      " 0   children          0 non-null      int64  \n",
      " 1   days_employed     0 non-null      float64\n",
      " 2   dob_years         0 non-null      int64  \n",
      " 3   education         0 non-null      object \n",
      " 4   education_id      0 non-null      int64  \n",
      " 5   family_status     0 non-null      object \n",
      " 6   family_status_id  0 non-null      int64  \n",
      " 7   gender            0 non-null      object \n",
      " 8   income_type       0 non-null      object \n",
      " 9   debt              0 non-null      int64  \n",
      " 10  total_income      0 non-null      float64\n",
      " 11  purpose           0 non-null      object \n",
      "dtypes: float64(2), int64(5), object(5)\n",
      "memory usage: 0.0+ bytes\n"
     ]
    }
   ],
   "source": [
    "#проверим таблицу на пропуски\n",
    "df[df.isna().any(axis=1)].info()"
   ]
  },
  {
   "cell_type": "markdown",
   "id": "568b2b3c",
   "metadata": {},
   "source": [
    "### Проверка данных на аномалии и исправления."
   ]
  },
  {
   "cell_type": "code",
   "execution_count": 56,
   "id": "314fd787",
   "metadata": {},
   "outputs": [
    {
     "data": {
      "text/html": [
       "<div>\n",
       "<style scoped>\n",
       "    .dataframe tbody tr th:only-of-type {\n",
       "        vertical-align: middle;\n",
       "    }\n",
       "\n",
       "    .dataframe tbody tr th {\n",
       "        vertical-align: top;\n",
       "    }\n",
       "\n",
       "    .dataframe thead th {\n",
       "        text-align: right;\n",
       "    }\n",
       "</style>\n",
       "<table border=\"1\" class=\"dataframe\">\n",
       "  <thead>\n",
       "    <tr style=\"text-align: right;\">\n",
       "      <th></th>\n",
       "      <th>children</th>\n",
       "      <th>days_employed</th>\n",
       "      <th>dob_years</th>\n",
       "      <th>education</th>\n",
       "      <th>education_id</th>\n",
       "      <th>family_status</th>\n",
       "      <th>family_status_id</th>\n",
       "      <th>gender</th>\n",
       "      <th>income_type</th>\n",
       "      <th>debt</th>\n",
       "      <th>total_income</th>\n",
       "      <th>purpose</th>\n",
       "    </tr>\n",
       "  </thead>\n",
       "  <tbody>\n",
       "    <tr>\n",
       "      <th>0</th>\n",
       "      <td>1</td>\n",
       "      <td>-8437.673028</td>\n",
       "      <td>42</td>\n",
       "      <td>высшее</td>\n",
       "      <td>0</td>\n",
       "      <td>женат / замужем</td>\n",
       "      <td>0</td>\n",
       "      <td>F</td>\n",
       "      <td>сотрудник</td>\n",
       "      <td>0</td>\n",
       "      <td>253875.639453</td>\n",
       "      <td>покупка жилья</td>\n",
       "    </tr>\n",
       "    <tr>\n",
       "      <th>1</th>\n",
       "      <td>1</td>\n",
       "      <td>-4024.803754</td>\n",
       "      <td>36</td>\n",
       "      <td>среднее</td>\n",
       "      <td>1</td>\n",
       "      <td>женат / замужем</td>\n",
       "      <td>0</td>\n",
       "      <td>F</td>\n",
       "      <td>сотрудник</td>\n",
       "      <td>0</td>\n",
       "      <td>112080.014102</td>\n",
       "      <td>приобретение автомобиля</td>\n",
       "    </tr>\n",
       "    <tr>\n",
       "      <th>2</th>\n",
       "      <td>0</td>\n",
       "      <td>-5623.422610</td>\n",
       "      <td>33</td>\n",
       "      <td>Среднее</td>\n",
       "      <td>1</td>\n",
       "      <td>женат / замужем</td>\n",
       "      <td>0</td>\n",
       "      <td>M</td>\n",
       "      <td>сотрудник</td>\n",
       "      <td>0</td>\n",
       "      <td>145885.952297</td>\n",
       "      <td>покупка жилья</td>\n",
       "    </tr>\n",
       "    <tr>\n",
       "      <th>3</th>\n",
       "      <td>3</td>\n",
       "      <td>-4124.747207</td>\n",
       "      <td>32</td>\n",
       "      <td>среднее</td>\n",
       "      <td>1</td>\n",
       "      <td>женат / замужем</td>\n",
       "      <td>0</td>\n",
       "      <td>M</td>\n",
       "      <td>сотрудник</td>\n",
       "      <td>0</td>\n",
       "      <td>267628.550329</td>\n",
       "      <td>дополнительное образование</td>\n",
       "    </tr>\n",
       "    <tr>\n",
       "      <th>4</th>\n",
       "      <td>0</td>\n",
       "      <td>340266.072047</td>\n",
       "      <td>53</td>\n",
       "      <td>среднее</td>\n",
       "      <td>1</td>\n",
       "      <td>гражданский брак</td>\n",
       "      <td>1</td>\n",
       "      <td>F</td>\n",
       "      <td>пенсионер</td>\n",
       "      <td>0</td>\n",
       "      <td>158616.077870</td>\n",
       "      <td>сыграть свадьбу</td>\n",
       "    </tr>\n",
       "  </tbody>\n",
       "</table>\n",
       "</div>"
      ],
      "text/plain": [
       "   children  days_employed  dob_years education  education_id  \\\n",
       "0         1   -8437.673028         42    высшее             0   \n",
       "1         1   -4024.803754         36   среднее             1   \n",
       "2         0   -5623.422610         33   Среднее             1   \n",
       "3         3   -4124.747207         32   среднее             1   \n",
       "4         0  340266.072047         53   среднее             1   \n",
       "\n",
       "      family_status  family_status_id gender income_type  debt   total_income  \\\n",
       "0   женат / замужем                 0      F   сотрудник     0  253875.639453   \n",
       "1   женат / замужем                 0      F   сотрудник     0  112080.014102   \n",
       "2   женат / замужем                 0      M   сотрудник     0  145885.952297   \n",
       "3   женат / замужем                 0      M   сотрудник     0  267628.550329   \n",
       "4  гражданский брак                 1      F   пенсионер     0  158616.077870   \n",
       "\n",
       "                      purpose  \n",
       "0               покупка жилья  \n",
       "1     приобретение автомобиля  \n",
       "2               покупка жилья  \n",
       "3  дополнительное образование  \n",
       "4             сыграть свадьбу  "
      ]
     },
     "execution_count": 56,
     "metadata": {},
     "output_type": "execute_result"
    }
   ],
   "source": [
    "df.head()"
   ]
  },
  {
   "cell_type": "markdown",
   "id": "9ca03e81",
   "metadata": {},
   "source": [
    "В таблице встречаются отрицательные значения, которые должны быть положительными. И не приведенные к одному регистру слова."
   ]
  },
  {
   "cell_type": "code",
   "execution_count": 57,
   "id": "f5f226d9",
   "metadata": {},
   "outputs": [],
   "source": [
    "#делаем значения положительными\n",
    "df[['days_employed', 'total_income']] = df[['days_employed','total_income']].abs()\n",
    "df['children'] = df['children'].abs()"
   ]
  },
  {
   "cell_type": "code",
   "execution_count": 58,
   "id": "018cc084",
   "metadata": {
    "scrolled": true
   },
   "outputs": [],
   "source": [
    "#приводим слова к одному регистру\n",
    "df[['education', 'family_status', 'income_type', 'purpose']] = df[\n",
    "    ['education', 'family_status', 'income_type', 'purpose']].applymap(str.lower)"
   ]
  },
  {
   "cell_type": "code",
   "execution_count": 59,
   "id": "8548b6fc",
   "metadata": {
    "scrolled": true
   },
   "outputs": [
    {
     "data": {
      "text/plain": [
       "children\n",
       "0     14149\n",
       "1      4865\n",
       "2      2055\n",
       "3       330\n",
       "4        41\n",
       "5         9\n",
       "20       76\n",
       "Name: children, dtype: int64"
      ]
     },
     "execution_count": 59,
     "metadata": {},
     "output_type": "execute_result"
    }
   ],
   "source": [
    "df.groupby(by='children')['children'].count()"
   ]
  },
  {
   "cell_type": "markdown",
   "id": "71ef3780",
   "metadata": {},
   "source": [
    "В столбце `children` ещё одна аномалия. 76 раз встречается число 20. 20 детей - крайне маловероятно. Скорее всего при вводе данных случайно был приписан 0."
   ]
  },
  {
   "cell_type": "code",
   "execution_count": 60,
   "id": "66f920e1",
   "metadata": {},
   "outputs": [],
   "source": [
    "#заменим 20 на 2\n",
    "df.loc[df['children'] == 20, 'children'] = 2"
   ]
  },
  {
   "cell_type": "markdown",
   "id": "72c482c1",
   "metadata": {},
   "source": [
    "### Изменение типов данных."
   ]
  },
  {
   "cell_type": "markdown",
   "id": "f07d28ca",
   "metadata": {},
   "source": [
    "Два столбца содержат данные вещественного типа. Для дохода в рублях и стажа в днях это лишнее. Преобразуем в целочисленный."
   ]
  },
  {
   "cell_type": "code",
   "execution_count": 61,
   "id": "58b602a0",
   "metadata": {},
   "outputs": [],
   "source": [
    "df[['days_employed', 'total_income']] = df[['days_employed', 'total_income']].astype(int)"
   ]
  },
  {
   "cell_type": "markdown",
   "id": "0fe6537f",
   "metadata": {},
   "source": [
    "### Удаление дубликатов."
   ]
  },
  {
   "cell_type": "code",
   "execution_count": 62,
   "id": "5c659e4f",
   "metadata": {},
   "outputs": [
    {
     "data": {
      "text/plain": [
       "'Дублирующихся строк: 71'"
      ]
     },
     "metadata": {},
     "output_type": "display_data"
    }
   ],
   "source": [
    "duplicates = df[df.duplicated()]['total_income'].count()\n",
    "display('Дублирующихся строк: {0}'.format(duplicates))"
   ]
  },
  {
   "cell_type": "markdown",
   "id": "3e4c614e",
   "metadata": {},
   "source": [
    "Сложно сказать, почему в таблице дублируются некоторые записи. Возможно заёмщик несколько раз подавал заявку на кредит. Или же есть сбой в сборе данных. В любом случае такие повторы нам не нужны - удалим."
   ]
  },
  {
   "cell_type": "code",
   "execution_count": 63,
   "id": "0dc943f7",
   "metadata": {},
   "outputs": [
    {
     "data": {
      "text/plain": [
       "'Дублирующихся строк: 0'"
      ]
     },
     "metadata": {},
     "output_type": "display_data"
    }
   ],
   "source": [
    "df = df.drop_duplicates().reset_index(drop=True)\n",
    "duplicates = df[df.duplicated()]['total_income'].count()\n",
    "display('Дублирующихся строк: {0}'.format(duplicates))"
   ]
  },
  {
   "cell_type": "markdown",
   "id": "5b688355",
   "metadata": {},
   "source": [
    "### Формирование дополнительных датафреймов словарей, декомпозиция исходного датафрейма."
   ]
  },
  {
   "cell_type": "markdown",
   "id": "4bc61e6b",
   "metadata": {},
   "source": [
    "Работать с таблицей удобней, когда категориальные данные в ней представлены коротким ключом, а \"словарь\" с парами ключ-значение хранится в отдельной таблице."
   ]
  },
  {
   "cell_type": "code",
   "execution_count": 64,
   "id": "51902f64",
   "metadata": {},
   "outputs": [
    {
     "data": {
      "text/html": [
       "<div>\n",
       "<style scoped>\n",
       "    .dataframe tbody tr th:only-of-type {\n",
       "        vertical-align: middle;\n",
       "    }\n",
       "\n",
       "    .dataframe tbody tr th {\n",
       "        vertical-align: top;\n",
       "    }\n",
       "\n",
       "    .dataframe thead th {\n",
       "        text-align: right;\n",
       "    }\n",
       "</style>\n",
       "<table border=\"1\" class=\"dataframe\">\n",
       "  <thead>\n",
       "    <tr style=\"text-align: right;\">\n",
       "      <th></th>\n",
       "      <th>education_id</th>\n",
       "      <th>education</th>\n",
       "    </tr>\n",
       "  </thead>\n",
       "  <tbody>\n",
       "    <tr>\n",
       "      <th>0</th>\n",
       "      <td>0</td>\n",
       "      <td>высшее</td>\n",
       "    </tr>\n",
       "    <tr>\n",
       "      <th>1</th>\n",
       "      <td>1</td>\n",
       "      <td>среднее</td>\n",
       "    </tr>\n",
       "    <tr>\n",
       "      <th>2</th>\n",
       "      <td>2</td>\n",
       "      <td>неоконченное высшее</td>\n",
       "    </tr>\n",
       "    <tr>\n",
       "      <th>3</th>\n",
       "      <td>3</td>\n",
       "      <td>начальное</td>\n",
       "    </tr>\n",
       "    <tr>\n",
       "      <th>4</th>\n",
       "      <td>4</td>\n",
       "      <td>ученая степень</td>\n",
       "    </tr>\n",
       "  </tbody>\n",
       "</table>\n",
       "</div>"
      ],
      "text/plain": [
       "   education_id            education\n",
       "0             0               высшее\n",
       "1             1              среднее\n",
       "2             2  неоконченное высшее\n",
       "3             3            начальное\n",
       "4             4       ученая степень"
      ]
     },
     "execution_count": 64,
     "metadata": {},
     "output_type": "execute_result"
    }
   ],
   "source": [
    "#создадим таблицу, содержающую перечень образовательных категорий.\n",
    "education_dict = df[['education_id', 'education']].drop_duplicates().reset_index(drop=True)\n",
    "education_dict"
   ]
  },
  {
   "cell_type": "code",
   "execution_count": 65,
   "id": "add2e958",
   "metadata": {
    "scrolled": true
   },
   "outputs": [
    {
     "data": {
      "text/html": [
       "<div>\n",
       "<style scoped>\n",
       "    .dataframe tbody tr th:only-of-type {\n",
       "        vertical-align: middle;\n",
       "    }\n",
       "\n",
       "    .dataframe tbody tr th {\n",
       "        vertical-align: top;\n",
       "    }\n",
       "\n",
       "    .dataframe thead th {\n",
       "        text-align: right;\n",
       "    }\n",
       "</style>\n",
       "<table border=\"1\" class=\"dataframe\">\n",
       "  <thead>\n",
       "    <tr style=\"text-align: right;\">\n",
       "      <th></th>\n",
       "      <th>family_status_id</th>\n",
       "      <th>family_status</th>\n",
       "    </tr>\n",
       "  </thead>\n",
       "  <tbody>\n",
       "    <tr>\n",
       "      <th>0</th>\n",
       "      <td>0</td>\n",
       "      <td>женат / замужем</td>\n",
       "    </tr>\n",
       "    <tr>\n",
       "      <th>1</th>\n",
       "      <td>1</td>\n",
       "      <td>гражданский брак</td>\n",
       "    </tr>\n",
       "    <tr>\n",
       "      <th>2</th>\n",
       "      <td>2</td>\n",
       "      <td>вдовец / вдова</td>\n",
       "    </tr>\n",
       "    <tr>\n",
       "      <th>3</th>\n",
       "      <td>3</td>\n",
       "      <td>в разводе</td>\n",
       "    </tr>\n",
       "    <tr>\n",
       "      <th>4</th>\n",
       "      <td>4</td>\n",
       "      <td>не женат / не замужем</td>\n",
       "    </tr>\n",
       "  </tbody>\n",
       "</table>\n",
       "</div>"
      ],
      "text/plain": [
       "   family_status_id          family_status\n",
       "0                 0        женат / замужем\n",
       "1                 1       гражданский брак\n",
       "2                 2         вдовец / вдова\n",
       "3                 3              в разводе\n",
       "4                 4  не женат / не замужем"
      ]
     },
     "execution_count": 65,
     "metadata": {},
     "output_type": "execute_result"
    }
   ],
   "source": [
    "#создадим таблицу, содержающую перечень категорий семейного статуса.\n",
    "family_status_dict = df[['family_status_id', 'family_status']].drop_duplicates().reset_index(drop=True)\n",
    "family_status_dict"
   ]
  },
  {
   "cell_type": "code",
   "execution_count": 66,
   "id": "ff977663",
   "metadata": {
    "scrolled": true
   },
   "outputs": [
    {
     "data": {
      "text/html": [
       "<div>\n",
       "<style scoped>\n",
       "    .dataframe tbody tr th:only-of-type {\n",
       "        vertical-align: middle;\n",
       "    }\n",
       "\n",
       "    .dataframe tbody tr th {\n",
       "        vertical-align: top;\n",
       "    }\n",
       "\n",
       "    .dataframe thead th {\n",
       "        text-align: right;\n",
       "    }\n",
       "</style>\n",
       "<table border=\"1\" class=\"dataframe\">\n",
       "  <thead>\n",
       "    <tr style=\"text-align: right;\">\n",
       "      <th></th>\n",
       "      <th>children</th>\n",
       "      <th>education_id</th>\n",
       "      <th>family_status_id</th>\n",
       "      <th>gender</th>\n",
       "      <th>income_type</th>\n",
       "      <th>debt</th>\n",
       "      <th>total_income</th>\n",
       "      <th>purpose</th>\n",
       "    </tr>\n",
       "  </thead>\n",
       "  <tbody>\n",
       "    <tr>\n",
       "      <th>0</th>\n",
       "      <td>1</td>\n",
       "      <td>0</td>\n",
       "      <td>0</td>\n",
       "      <td>F</td>\n",
       "      <td>сотрудник</td>\n",
       "      <td>0</td>\n",
       "      <td>253875</td>\n",
       "      <td>покупка жилья</td>\n",
       "    </tr>\n",
       "    <tr>\n",
       "      <th>1</th>\n",
       "      <td>1</td>\n",
       "      <td>1</td>\n",
       "      <td>0</td>\n",
       "      <td>F</td>\n",
       "      <td>сотрудник</td>\n",
       "      <td>0</td>\n",
       "      <td>112080</td>\n",
       "      <td>приобретение автомобиля</td>\n",
       "    </tr>\n",
       "    <tr>\n",
       "      <th>2</th>\n",
       "      <td>0</td>\n",
       "      <td>1</td>\n",
       "      <td>0</td>\n",
       "      <td>M</td>\n",
       "      <td>сотрудник</td>\n",
       "      <td>0</td>\n",
       "      <td>145885</td>\n",
       "      <td>покупка жилья</td>\n",
       "    </tr>\n",
       "    <tr>\n",
       "      <th>3</th>\n",
       "      <td>3</td>\n",
       "      <td>1</td>\n",
       "      <td>0</td>\n",
       "      <td>M</td>\n",
       "      <td>сотрудник</td>\n",
       "      <td>0</td>\n",
       "      <td>267628</td>\n",
       "      <td>дополнительное образование</td>\n",
       "    </tr>\n",
       "    <tr>\n",
       "      <th>4</th>\n",
       "      <td>0</td>\n",
       "      <td>1</td>\n",
       "      <td>1</td>\n",
       "      <td>F</td>\n",
       "      <td>пенсионер</td>\n",
       "      <td>0</td>\n",
       "      <td>158616</td>\n",
       "      <td>сыграть свадьбу</td>\n",
       "    </tr>\n",
       "  </tbody>\n",
       "</table>\n",
       "</div>"
      ],
      "text/plain": [
       "   children  education_id  family_status_id gender income_type  debt  \\\n",
       "0         1             0                 0      F   сотрудник     0   \n",
       "1         1             1                 0      F   сотрудник     0   \n",
       "2         0             1                 0      M   сотрудник     0   \n",
       "3         3             1                 0      M   сотрудник     0   \n",
       "4         0             1                 1      F   пенсионер     0   \n",
       "\n",
       "   total_income                     purpose  \n",
       "0        253875               покупка жилья  \n",
       "1        112080     приобретение автомобиля  \n",
       "2        145885               покупка жилья  \n",
       "3        267628  дополнительное образование  \n",
       "4        158616             сыграть свадьбу  "
      ]
     },
     "execution_count": 66,
     "metadata": {},
     "output_type": "execute_result"
    }
   ],
   "source": [
    "#теперь удалим не нужные для анализа столбцы\n",
    "df = df.drop(columns=['days_employed', 'dob_years', 'education', 'family_status'])\n",
    "df.head()"
   ]
  },
  {
   "cell_type": "markdown",
   "id": "e50338bc",
   "metadata": {},
   "source": [
    "### Категоризация дохода."
   ]
  },
  {
   "cell_type": "markdown",
   "id": "26323625",
   "metadata": {},
   "source": [
    "Для нашей задачи храненить количественные данные в столбце `total_income` - неудобно. Наглядней будет представить доход категориями.\n",
    "- A - от 1млн₽\n",
    "- B - от 200т₽ до 1млн₽\n",
    "- С - от 50т₽ до 200т₽\n",
    "- D - от 30т₽ до 50т₽\n",
    "- E - до 30т₽"
   ]
  },
  {
   "cell_type": "code",
   "execution_count": 67,
   "id": "87247829",
   "metadata": {
    "scrolled": false
   },
   "outputs": [
    {
     "data": {
      "text/html": [
       "<div>\n",
       "<style scoped>\n",
       "    .dataframe tbody tr th:only-of-type {\n",
       "        vertical-align: middle;\n",
       "    }\n",
       "\n",
       "    .dataframe tbody tr th {\n",
       "        vertical-align: top;\n",
       "    }\n",
       "\n",
       "    .dataframe thead th {\n",
       "        text-align: right;\n",
       "    }\n",
       "</style>\n",
       "<table border=\"1\" class=\"dataframe\">\n",
       "  <thead>\n",
       "    <tr style=\"text-align: right;\">\n",
       "      <th></th>\n",
       "      <th>children</th>\n",
       "      <th>education_id</th>\n",
       "      <th>family_status_id</th>\n",
       "      <th>gender</th>\n",
       "      <th>income_type</th>\n",
       "      <th>debt</th>\n",
       "      <th>total_income</th>\n",
       "      <th>purpose</th>\n",
       "      <th>total_income_id</th>\n",
       "    </tr>\n",
       "  </thead>\n",
       "  <tbody>\n",
       "    <tr>\n",
       "      <th>0</th>\n",
       "      <td>1</td>\n",
       "      <td>0</td>\n",
       "      <td>0</td>\n",
       "      <td>F</td>\n",
       "      <td>сотрудник</td>\n",
       "      <td>0</td>\n",
       "      <td>253875</td>\n",
       "      <td>покупка жилья</td>\n",
       "      <td>B</td>\n",
       "    </tr>\n",
       "    <tr>\n",
       "      <th>1</th>\n",
       "      <td>1</td>\n",
       "      <td>1</td>\n",
       "      <td>0</td>\n",
       "      <td>F</td>\n",
       "      <td>сотрудник</td>\n",
       "      <td>0</td>\n",
       "      <td>112080</td>\n",
       "      <td>приобретение автомобиля</td>\n",
       "      <td>C</td>\n",
       "    </tr>\n",
       "    <tr>\n",
       "      <th>2</th>\n",
       "      <td>0</td>\n",
       "      <td>1</td>\n",
       "      <td>0</td>\n",
       "      <td>M</td>\n",
       "      <td>сотрудник</td>\n",
       "      <td>0</td>\n",
       "      <td>145885</td>\n",
       "      <td>покупка жилья</td>\n",
       "      <td>C</td>\n",
       "    </tr>\n",
       "    <tr>\n",
       "      <th>3</th>\n",
       "      <td>3</td>\n",
       "      <td>1</td>\n",
       "      <td>0</td>\n",
       "      <td>M</td>\n",
       "      <td>сотрудник</td>\n",
       "      <td>0</td>\n",
       "      <td>267628</td>\n",
       "      <td>дополнительное образование</td>\n",
       "      <td>B</td>\n",
       "    </tr>\n",
       "    <tr>\n",
       "      <th>4</th>\n",
       "      <td>0</td>\n",
       "      <td>1</td>\n",
       "      <td>1</td>\n",
       "      <td>F</td>\n",
       "      <td>пенсионер</td>\n",
       "      <td>0</td>\n",
       "      <td>158616</td>\n",
       "      <td>сыграть свадьбу</td>\n",
       "      <td>C</td>\n",
       "    </tr>\n",
       "  </tbody>\n",
       "</table>\n",
       "</div>"
      ],
      "text/plain": [
       "   children  education_id  family_status_id gender income_type  debt  \\\n",
       "0         1             0                 0      F   сотрудник     0   \n",
       "1         1             1                 0      F   сотрудник     0   \n",
       "2         0             1                 0      M   сотрудник     0   \n",
       "3         3             1                 0      M   сотрудник     0   \n",
       "4         0             1                 1      F   пенсионер     0   \n",
       "\n",
       "   total_income                     purpose total_income_id  \n",
       "0        253875               покупка жилья               B  \n",
       "1        112080     приобретение автомобиля               C  \n",
       "2        145885               покупка жилья               C  \n",
       "3        267628  дополнительное образование               B  \n",
       "4        158616             сыграть свадьбу               C  "
      ]
     },
     "execution_count": 67,
     "metadata": {},
     "output_type": "execute_result"
    }
   ],
   "source": [
    "#функция вернет категорию в соответствии с диапазоном дохода в ячейке\n",
    "def categorize_income(row):\n",
    "    if 0 <=row <=30000:\n",
    "        return 'E'\n",
    "    elif 30001 <= row <= 50000:\n",
    "        return 'D'\n",
    "    elif 50001 <= row <= 200000:\n",
    "        return 'C'\n",
    "    elif 200001 <= row <= 1000000:\n",
    "        return 'B'\n",
    "    return 'A'\n",
    "\n",
    "#добавим к таблице новый столбец с соответствующими категориями\n",
    "try:\n",
    "    df['total_income_id'] = df['total_income'].apply(categorize_income)\n",
    "except:\n",
    "    display('Проверьте значение столбца total_income')\n",
    "\n",
    "df.head()"
   ]
  },
  {
   "cell_type": "markdown",
   "id": "f2bd32c5",
   "metadata": {},
   "source": [
    "### Категоризация целей кредита."
   ]
  },
  {
   "cell_type": "code",
   "execution_count": 68,
   "id": "392cbd54",
   "metadata": {},
   "outputs": [
    {
     "data": {
      "text/plain": [
       "array(['покупка жилья', 'приобретение автомобиля',\n",
       "       'дополнительное образование', 'сыграть свадьбу',\n",
       "       'операции с жильем', 'образование', 'на проведение свадьбы',\n",
       "       'покупка жилья для семьи', 'покупка недвижимости',\n",
       "       'покупка коммерческой недвижимости', 'покупка жилой недвижимости',\n",
       "       'строительство собственной недвижимости', 'недвижимость',\n",
       "       'строительство недвижимости', 'на покупку подержанного автомобиля',\n",
       "       'на покупку своего автомобиля',\n",
       "       'операции с коммерческой недвижимостью',\n",
       "       'строительство жилой недвижимости', 'жилье',\n",
       "       'операции со своей недвижимостью', 'автомобили',\n",
       "       'заняться образованием', 'сделка с подержанным автомобилем',\n",
       "       'получение образования', 'автомобиль', 'свадьба',\n",
       "       'получение дополнительного образования', 'покупка своего жилья',\n",
       "       'операции с недвижимостью', 'получение высшего образования',\n",
       "       'свой автомобиль', 'сделка с автомобилем',\n",
       "       'профильное образование', 'высшее образование',\n",
       "       'покупка жилья для сдачи', 'на покупку автомобиля', 'ремонт жилью',\n",
       "       'заняться высшим образованием'], dtype=object)"
      ]
     },
     "execution_count": 68,
     "metadata": {},
     "output_type": "execute_result"
    }
   ],
   "source": [
    "#отобразим уникальные цели кредита, встречающиеся в таблице\n",
    "df['purpose'].unique()"
   ]
  },
  {
   "cell_type": "markdown",
   "id": "4e7b5c17",
   "metadata": {},
   "source": [
    "В столбце `purpose` цели кредита представлены ненаглядно. Если посмотреть внимательно, то все они сводятся к:\n",
    "- образование\n",
    "- недвижимость\n",
    "- автомобиль\n",
    "- свадьба\n",
    "\n",
    "Категоризуем цели."
   ]
  },
  {
   "cell_type": "code",
   "execution_count": 69,
   "id": "5f88e0cb",
   "metadata": {
    "scrolled": true
   },
   "outputs": [
    {
     "data": {
      "text/html": [
       "<div>\n",
       "<style scoped>\n",
       "    .dataframe tbody tr th:only-of-type {\n",
       "        vertical-align: middle;\n",
       "    }\n",
       "\n",
       "    .dataframe tbody tr th {\n",
       "        vertical-align: top;\n",
       "    }\n",
       "\n",
       "    .dataframe thead th {\n",
       "        text-align: right;\n",
       "    }\n",
       "</style>\n",
       "<table border=\"1\" class=\"dataframe\">\n",
       "  <thead>\n",
       "    <tr style=\"text-align: right;\">\n",
       "      <th></th>\n",
       "      <th>children</th>\n",
       "      <th>education_id</th>\n",
       "      <th>family_status_id</th>\n",
       "      <th>gender</th>\n",
       "      <th>income_type</th>\n",
       "      <th>debt</th>\n",
       "      <th>total_income</th>\n",
       "      <th>purpose</th>\n",
       "      <th>total_income_id</th>\n",
       "    </tr>\n",
       "  </thead>\n",
       "  <tbody>\n",
       "    <tr>\n",
       "      <th>0</th>\n",
       "      <td>1</td>\n",
       "      <td>0</td>\n",
       "      <td>0</td>\n",
       "      <td>F</td>\n",
       "      <td>сотрудник</td>\n",
       "      <td>0</td>\n",
       "      <td>253875</td>\n",
       "      <td>недвижимость</td>\n",
       "      <td>B</td>\n",
       "    </tr>\n",
       "    <tr>\n",
       "      <th>1</th>\n",
       "      <td>1</td>\n",
       "      <td>1</td>\n",
       "      <td>0</td>\n",
       "      <td>F</td>\n",
       "      <td>сотрудник</td>\n",
       "      <td>0</td>\n",
       "      <td>112080</td>\n",
       "      <td>автомобиль</td>\n",
       "      <td>C</td>\n",
       "    </tr>\n",
       "    <tr>\n",
       "      <th>2</th>\n",
       "      <td>0</td>\n",
       "      <td>1</td>\n",
       "      <td>0</td>\n",
       "      <td>M</td>\n",
       "      <td>сотрудник</td>\n",
       "      <td>0</td>\n",
       "      <td>145885</td>\n",
       "      <td>недвижимость</td>\n",
       "      <td>C</td>\n",
       "    </tr>\n",
       "    <tr>\n",
       "      <th>3</th>\n",
       "      <td>3</td>\n",
       "      <td>1</td>\n",
       "      <td>0</td>\n",
       "      <td>M</td>\n",
       "      <td>сотрудник</td>\n",
       "      <td>0</td>\n",
       "      <td>267628</td>\n",
       "      <td>образование</td>\n",
       "      <td>B</td>\n",
       "    </tr>\n",
       "    <tr>\n",
       "      <th>4</th>\n",
       "      <td>0</td>\n",
       "      <td>1</td>\n",
       "      <td>1</td>\n",
       "      <td>F</td>\n",
       "      <td>пенсионер</td>\n",
       "      <td>0</td>\n",
       "      <td>158616</td>\n",
       "      <td>свадьба</td>\n",
       "      <td>C</td>\n",
       "    </tr>\n",
       "  </tbody>\n",
       "</table>\n",
       "</div>"
      ],
      "text/plain": [
       "   children  education_id  family_status_id gender income_type  debt  \\\n",
       "0         1             0                 0      F   сотрудник     0   \n",
       "1         1             1                 0      F   сотрудник     0   \n",
       "2         0             1                 0      M   сотрудник     0   \n",
       "3         3             1                 0      M   сотрудник     0   \n",
       "4         0             1                 1      F   пенсионер     0   \n",
       "\n",
       "   total_income       purpose total_income_id  \n",
       "0        253875  недвижимость               B  \n",
       "1        112080    автомобиль               C  \n",
       "2        145885  недвижимость               C  \n",
       "3        267628   образование               B  \n",
       "4        158616       свадьба               C  "
      ]
     },
     "execution_count": 69,
     "metadata": {},
     "output_type": "execute_result"
    }
   ],
   "source": [
    "#функция найдёт в ячейке ключевые слова и вёрнет односложную цель.\n",
    "def change_purpose(row):\n",
    "    if ('жиль' in row) or ('недвижимо' in row):\n",
    "        return 'недвижимость'\n",
    "    elif 'недвижи' in row:\n",
    "        return 'недвижимость'\n",
    "    elif 'образовани' in row:\n",
    "        return 'образование'\n",
    "    elif 'свадьб' in row:\n",
    "        return 'свадьба'\n",
    "    elif 'авто' in row:\n",
    "        return 'автомобиль'\n",
    "    return 'другое'\n",
    "\n",
    "#применим к столбцу purpose функцию change_purpose и перезапишем его\n",
    "try:\n",
    "    df['purpose'] = df['purpose'].apply(change_purpose)\n",
    "except:\n",
    "    display('Проверьте значения столбца purpose')\n",
    "\n",
    "df.head()"
   ]
  },
  {
   "cell_type": "markdown",
   "id": "837b6fa6",
   "metadata": {},
   "source": [
    "## Ответы на вопросы:"
   ]
  },
  {
   "cell_type": "markdown",
   "id": "0f91ca8b",
   "metadata": {},
   "source": [
    "Как связан риск невозврата кредита в срок с:\n",
    "- количеством детей\n",
    "- семейным положением\n",
    "- доходом\n",
    "- целью кредита\n",
    "\n",
    "Для ответа на этот вопрос необходимо сгруппировать данные по интересующим нас категориям и посмотреть на процент невозврата в каждой."
   ]
  },
  {
   "cell_type": "code",
   "execution_count": 70,
   "id": "13d2dd8d",
   "metadata": {
    "scrolled": false
   },
   "outputs": [],
   "source": [
    "#на вход функции подаётся название категории\n",
    "#на выходе получим агрегированную по этой категории таблицу, где индекс - подкатегории, а столбцы -\n",
    "#количество заёмщиков и среднее значение (или риск) в каждой. Сортируем в порядке убывания риска.\n",
    "def calculate_risk(category, data=df):\n",
    "    return data.pivot_table(\n",
    "        index=category, values='debt', aggfunc={'mean', 'count'}).sort_values('mean', ascending=False)\n",
    "\n",
    "#эту функцию будем использовать для объединения полученной таблицы рисков с таблицей \"словаря\"\n",
    "#family_dict и education_dict\n",
    "def merge(risk_table, dictionary, on):\n",
    "    return dictionary.merge(risk_table, on=on, how='left').sort_values(\n",
    "        by='mean', ascending=False).drop(columns=on)\n"
   ]
  },
  {
   "cell_type": "code",
   "execution_count": 71,
   "id": "9cfd0437",
   "metadata": {
    "scrolled": true
   },
   "outputs": [],
   "source": [
    "#посчитаем интересующие риски и отобразим их в процентном формате.\n",
    "\n",
    "family_risk = calculate_risk('family_status_id')\n",
    "family_risk = merge(family_risk, family_status_dict, 'family_status_id').style.format({'mean': '{:,.1%}'.format}).hide_index()\n",
    "\n",
    "education_risk = calculate_risk('education_id')\n",
    "education_risk = merge(education_risk, education_dict, 'education_id').style.format({'mean': '{:,.1%}'.format}).hide_index()\n",
    "\n",
    "total_income_risk = calculate_risk('total_income_id').style.format({'mean': '{:,.1%}'.format})\n",
    "\n",
    "children_risk = calculate_risk('children').style.format({'mean': '{:,.1%}'.format})\n",
    "\n",
    "purpose_risk = calculate_risk('purpose').style.format({'mean': '{:,.1%}'.format})"
   ]
  },
  {
   "cell_type": "markdown",
   "id": "3e8c68e2",
   "metadata": {},
   "source": [
    "#### Вопрос 1: Дети"
   ]
  },
  {
   "cell_type": "code",
   "execution_count": 72,
   "id": "d3011f87",
   "metadata": {
    "scrolled": false
   },
   "outputs": [
    {
     "data": {
      "text/html": [
       "<style type=\"text/css\">\n",
       "</style>\n",
       "<table id=\"T_19a38_\">\n",
       "  <thead>\n",
       "    <tr>\n",
       "      <th class=\"blank level0\" >&nbsp;</th>\n",
       "      <th class=\"col_heading level0 col0\" >count</th>\n",
       "      <th class=\"col_heading level0 col1\" >mean</th>\n",
       "    </tr>\n",
       "    <tr>\n",
       "      <th class=\"index_name level0\" >children</th>\n",
       "      <th class=\"blank col0\" >&nbsp;</th>\n",
       "      <th class=\"blank col1\" >&nbsp;</th>\n",
       "    </tr>\n",
       "  </thead>\n",
       "  <tbody>\n",
       "    <tr>\n",
       "      <th id=\"T_19a38_level0_row0\" class=\"row_heading level0 row0\" >4</th>\n",
       "      <td id=\"T_19a38_row0_col0\" class=\"data row0 col0\" >41.000000</td>\n",
       "      <td id=\"T_19a38_row0_col1\" class=\"data row0 col1\" >9.8%</td>\n",
       "    </tr>\n",
       "    <tr>\n",
       "      <th id=\"T_19a38_level0_row1\" class=\"row_heading level0 row1\" >2</th>\n",
       "      <td id=\"T_19a38_row1_col0\" class=\"data row1 col0\" >2128.000000</td>\n",
       "      <td id=\"T_19a38_row1_col1\" class=\"data row1 col1\" >9.5%</td>\n",
       "    </tr>\n",
       "    <tr>\n",
       "      <th id=\"T_19a38_level0_row2\" class=\"row_heading level0 row2\" >1</th>\n",
       "      <td id=\"T_19a38_row2_col0\" class=\"data row2 col0\" >4855.000000</td>\n",
       "      <td id=\"T_19a38_row2_col1\" class=\"data row2 col1\" >9.2%</td>\n",
       "    </tr>\n",
       "    <tr>\n",
       "      <th id=\"T_19a38_level0_row3\" class=\"row_heading level0 row3\" >3</th>\n",
       "      <td id=\"T_19a38_row3_col0\" class=\"data row3 col0\" >330.000000</td>\n",
       "      <td id=\"T_19a38_row3_col1\" class=\"data row3 col1\" >8.2%</td>\n",
       "    </tr>\n",
       "    <tr>\n",
       "      <th id=\"T_19a38_level0_row4\" class=\"row_heading level0 row4\" >0</th>\n",
       "      <td id=\"T_19a38_row4_col0\" class=\"data row4 col0\" >14091.000000</td>\n",
       "      <td id=\"T_19a38_row4_col1\" class=\"data row4 col1\" >7.5%</td>\n",
       "    </tr>\n",
       "    <tr>\n",
       "      <th id=\"T_19a38_level0_row5\" class=\"row_heading level0 row5\" >5</th>\n",
       "      <td id=\"T_19a38_row5_col0\" class=\"data row5 col0\" >9.000000</td>\n",
       "      <td id=\"T_19a38_row5_col1\" class=\"data row5 col1\" >0.0%</td>\n",
       "    </tr>\n",
       "  </tbody>\n",
       "</table>\n"
      ],
      "text/plain": [
       "<pandas.io.formats.style.Styler at 0x7fd5e5fd3150>"
      ]
     },
     "execution_count": 72,
     "metadata": {},
     "output_type": "execute_result"
    }
   ],
   "source": [
    "children_risk"
   ]
  },
  {
   "cell_type": "markdown",
   "id": "9166b358",
   "metadata": {},
   "source": [
    "Бездетные заёмщики возвращают кредит в срок чаще остальных. Они же являются и крупнейшей категорией.  \n",
    "В целом больше детей - больше риск. Однако многодетные ровно с тремя - исключение. Они подходят к возврату кредита ответственно.  \n",
    "Статистика по заёмщикам с пятью детьми непоказательна, данных мало."
   ]
  },
  {
   "cell_type": "markdown",
   "id": "e6554f09",
   "metadata": {},
   "source": [
    "#### Вопрос 2: Семейное положение"
   ]
  },
  {
   "cell_type": "code",
   "execution_count": 73,
   "id": "64fb584b",
   "metadata": {
    "scrolled": true
   },
   "outputs": [
    {
     "data": {
      "text/html": [
       "<style type=\"text/css\">\n",
       "</style>\n",
       "<table id=\"T_6c7a2_\">\n",
       "  <thead>\n",
       "    <tr>\n",
       "      <th class=\"col_heading level0 col0\" >family_status</th>\n",
       "      <th class=\"col_heading level0 col1\" >count</th>\n",
       "      <th class=\"col_heading level0 col2\" >mean</th>\n",
       "    </tr>\n",
       "  </thead>\n",
       "  <tbody>\n",
       "    <tr>\n",
       "      <td id=\"T_6c7a2_row0_col0\" class=\"data row0 col0\" >не женат / не замужем</td>\n",
       "      <td id=\"T_6c7a2_row0_col1\" class=\"data row0 col1\" >2810.000000</td>\n",
       "      <td id=\"T_6c7a2_row0_col2\" class=\"data row0 col2\" >9.8%</td>\n",
       "    </tr>\n",
       "    <tr>\n",
       "      <td id=\"T_6c7a2_row1_col0\" class=\"data row1 col0\" >гражданский брак</td>\n",
       "      <td id=\"T_6c7a2_row1_col1\" class=\"data row1 col1\" >4151.000000</td>\n",
       "      <td id=\"T_6c7a2_row1_col2\" class=\"data row1 col2\" >9.3%</td>\n",
       "    </tr>\n",
       "    <tr>\n",
       "      <td id=\"T_6c7a2_row2_col0\" class=\"data row2 col0\" >женат / замужем</td>\n",
       "      <td id=\"T_6c7a2_row2_col1\" class=\"data row2 col1\" >12339.000000</td>\n",
       "      <td id=\"T_6c7a2_row2_col2\" class=\"data row2 col2\" >7.5%</td>\n",
       "    </tr>\n",
       "    <tr>\n",
       "      <td id=\"T_6c7a2_row3_col0\" class=\"data row3 col0\" >в разводе</td>\n",
       "      <td id=\"T_6c7a2_row3_col1\" class=\"data row3 col1\" >1195.000000</td>\n",
       "      <td id=\"T_6c7a2_row3_col2\" class=\"data row3 col2\" >7.1%</td>\n",
       "    </tr>\n",
       "    <tr>\n",
       "      <td id=\"T_6c7a2_row4_col0\" class=\"data row4 col0\" >вдовец / вдова</td>\n",
       "      <td id=\"T_6c7a2_row4_col1\" class=\"data row4 col1\" >959.000000</td>\n",
       "      <td id=\"T_6c7a2_row4_col2\" class=\"data row4 col2\" >6.6%</td>\n",
       "    </tr>\n",
       "  </tbody>\n",
       "</table>\n"
      ],
      "text/plain": [
       "<pandas.io.formats.style.Styler at 0x7fd5e472bd90>"
      ]
     },
     "execution_count": 73,
     "metadata": {},
     "output_type": "execute_result"
    }
   ],
   "source": [
    "family_risk"
   ]
  },
  {
   "cell_type": "markdown",
   "id": "f295a206",
   "metadata": {},
   "source": [
    "Успевшие побывать в браке - несут минимальный риск. Никогда не состоявшие в браке - максимальный."
   ]
  },
  {
   "cell_type": "markdown",
   "id": "4dc2c2ff",
   "metadata": {},
   "source": [
    "#### Вопрос 3: Уровень дохода"
   ]
  },
  {
   "cell_type": "code",
   "execution_count": 74,
   "id": "aad5355c",
   "metadata": {
    "scrolled": false
   },
   "outputs": [
    {
     "data": {
      "text/html": [
       "<style type=\"text/css\">\n",
       "</style>\n",
       "<table id=\"T_7c251_\">\n",
       "  <thead>\n",
       "    <tr>\n",
       "      <th class=\"blank level0\" >&nbsp;</th>\n",
       "      <th class=\"col_heading level0 col0\" >count</th>\n",
       "      <th class=\"col_heading level0 col1\" >mean</th>\n",
       "    </tr>\n",
       "    <tr>\n",
       "      <th class=\"index_name level0\" >total_income_id</th>\n",
       "      <th class=\"blank col0\" >&nbsp;</th>\n",
       "      <th class=\"blank col1\" >&nbsp;</th>\n",
       "    </tr>\n",
       "  </thead>\n",
       "  <tbody>\n",
       "    <tr>\n",
       "      <th id=\"T_7c251_level0_row0\" class=\"row_heading level0 row0\" >E</th>\n",
       "      <td id=\"T_7c251_row0_col0\" class=\"data row0 col0\" >22.000000</td>\n",
       "      <td id=\"T_7c251_row0_col1\" class=\"data row0 col1\" >9.1%</td>\n",
       "    </tr>\n",
       "    <tr>\n",
       "      <th id=\"T_7c251_level0_row1\" class=\"row_heading level0 row1\" >C</th>\n",
       "      <td id=\"T_7c251_row1_col0\" class=\"data row1 col0\" >16015.000000</td>\n",
       "      <td id=\"T_7c251_row1_col1\" class=\"data row1 col1\" >8.5%</td>\n",
       "    </tr>\n",
       "    <tr>\n",
       "      <th id=\"T_7c251_level0_row2\" class=\"row_heading level0 row2\" >A</th>\n",
       "      <td id=\"T_7c251_row2_col0\" class=\"data row2 col0\" >25.000000</td>\n",
       "      <td id=\"T_7c251_row2_col1\" class=\"data row2 col1\" >8.0%</td>\n",
       "    </tr>\n",
       "    <tr>\n",
       "      <th id=\"T_7c251_level0_row3\" class=\"row_heading level0 row3\" >B</th>\n",
       "      <td id=\"T_7c251_row3_col0\" class=\"data row3 col0\" >5042.000000</td>\n",
       "      <td id=\"T_7c251_row3_col1\" class=\"data row3 col1\" >7.1%</td>\n",
       "    </tr>\n",
       "    <tr>\n",
       "      <th id=\"T_7c251_level0_row4\" class=\"row_heading level0 row4\" >D</th>\n",
       "      <td id=\"T_7c251_row4_col0\" class=\"data row4 col0\" >350.000000</td>\n",
       "      <td id=\"T_7c251_row4_col1\" class=\"data row4 col1\" >6.0%</td>\n",
       "    </tr>\n",
       "  </tbody>\n",
       "</table>\n"
      ],
      "text/plain": [
       "<pandas.io.formats.style.Styler at 0x7fd5e8fd9f90>"
      ]
     },
     "execution_count": 74,
     "metadata": {},
     "output_type": "execute_result"
    }
   ],
   "source": [
    "total_income_risk"
   ]
  },
  {
   "cell_type": "markdown",
   "id": "25dc3c6f",
   "metadata": {},
   "source": [
    "Заёмщики с доходом от 30т₽ до 50т₽ и от 200т₽ до 1млнт₽ - самые ответственные. Интересно, что если доход находится между 50т₽ и 200т₽ - риск повышается. По категориям до 30т₽ и больше 1млн₽ мало данных, чтобы оценивать риски."
   ]
  },
  {
   "cell_type": "markdown",
   "id": "ff9f541e",
   "metadata": {},
   "source": [
    "#### Вопрос 4: Цели кредита"
   ]
  },
  {
   "cell_type": "code",
   "execution_count": 75,
   "id": "0cf1189d",
   "metadata": {
    "scrolled": false
   },
   "outputs": [
    {
     "data": {
      "text/html": [
       "<style type=\"text/css\">\n",
       "</style>\n",
       "<table id=\"T_eb0e5_\">\n",
       "  <thead>\n",
       "    <tr>\n",
       "      <th class=\"blank level0\" >&nbsp;</th>\n",
       "      <th class=\"col_heading level0 col0\" >count</th>\n",
       "      <th class=\"col_heading level0 col1\" >mean</th>\n",
       "    </tr>\n",
       "    <tr>\n",
       "      <th class=\"index_name level0\" >purpose</th>\n",
       "      <th class=\"blank col0\" >&nbsp;</th>\n",
       "      <th class=\"blank col1\" >&nbsp;</th>\n",
       "    </tr>\n",
       "  </thead>\n",
       "  <tbody>\n",
       "    <tr>\n",
       "      <th id=\"T_eb0e5_level0_row0\" class=\"row_heading level0 row0\" >автомобиль</th>\n",
       "      <td id=\"T_eb0e5_row0_col0\" class=\"data row0 col0\" >4306.000000</td>\n",
       "      <td id=\"T_eb0e5_row0_col1\" class=\"data row0 col1\" >9.4%</td>\n",
       "    </tr>\n",
       "    <tr>\n",
       "      <th id=\"T_eb0e5_level0_row1\" class=\"row_heading level0 row1\" >образование</th>\n",
       "      <td id=\"T_eb0e5_row1_col0\" class=\"data row1 col0\" >4013.000000</td>\n",
       "      <td id=\"T_eb0e5_row1_col1\" class=\"data row1 col1\" >9.2%</td>\n",
       "    </tr>\n",
       "    <tr>\n",
       "      <th id=\"T_eb0e5_level0_row2\" class=\"row_heading level0 row2\" >свадьба</th>\n",
       "      <td id=\"T_eb0e5_row2_col0\" class=\"data row2 col0\" >2324.000000</td>\n",
       "      <td id=\"T_eb0e5_row2_col1\" class=\"data row2 col1\" >8.0%</td>\n",
       "    </tr>\n",
       "    <tr>\n",
       "      <th id=\"T_eb0e5_level0_row3\" class=\"row_heading level0 row3\" >недвижимость</th>\n",
       "      <td id=\"T_eb0e5_row3_col0\" class=\"data row3 col0\" >10811.000000</td>\n",
       "      <td id=\"T_eb0e5_row3_col1\" class=\"data row3 col1\" >7.2%</td>\n",
       "    </tr>\n",
       "  </tbody>\n",
       "</table>\n"
      ],
      "text/plain": [
       "<pandas.io.formats.style.Styler at 0x7fd5e37f0990>"
      ]
     },
     "execution_count": 75,
     "metadata": {},
     "output_type": "execute_result"
    }
   ],
   "source": [
    "purpose_risk"
   ]
  },
  {
   "cell_type": "markdown",
   "id": "4978e685",
   "metadata": {},
   "source": [
    "Желающие приобрести недвижимость - представляют минимальные риски. И эта категория заёмщиков - самая большая."
   ]
  },
  {
   "cell_type": "markdown",
   "id": "567254dc",
   "metadata": {},
   "source": [
    "#### Вопрос 5: Образование"
   ]
  },
  {
   "cell_type": "code",
   "execution_count": 76,
   "id": "d2f5e567",
   "metadata": {
    "scrolled": false
   },
   "outputs": [
    {
     "data": {
      "text/html": [
       "<style type=\"text/css\">\n",
       "</style>\n",
       "<table id=\"T_1080f_\">\n",
       "  <thead>\n",
       "    <tr>\n",
       "      <th class=\"col_heading level0 col0\" >education</th>\n",
       "      <th class=\"col_heading level0 col1\" >count</th>\n",
       "      <th class=\"col_heading level0 col2\" >mean</th>\n",
       "    </tr>\n",
       "  </thead>\n",
       "  <tbody>\n",
       "    <tr>\n",
       "      <td id=\"T_1080f_row0_col0\" class=\"data row0 col0\" >начальное</td>\n",
       "      <td id=\"T_1080f_row0_col1\" class=\"data row0 col1\" >282.000000</td>\n",
       "      <td id=\"T_1080f_row0_col2\" class=\"data row0 col2\" >11.0%</td>\n",
       "    </tr>\n",
       "    <tr>\n",
       "      <td id=\"T_1080f_row1_col0\" class=\"data row1 col0\" >неоконченное высшее</td>\n",
       "      <td id=\"T_1080f_row1_col1\" class=\"data row1 col1\" >744.000000</td>\n",
       "      <td id=\"T_1080f_row1_col2\" class=\"data row1 col2\" >9.1%</td>\n",
       "    </tr>\n",
       "    <tr>\n",
       "      <td id=\"T_1080f_row2_col0\" class=\"data row2 col0\" >среднее</td>\n",
       "      <td id=\"T_1080f_row2_col1\" class=\"data row2 col1\" >15172.000000</td>\n",
       "      <td id=\"T_1080f_row2_col2\" class=\"data row2 col2\" >9.0%</td>\n",
       "    </tr>\n",
       "    <tr>\n",
       "      <td id=\"T_1080f_row3_col0\" class=\"data row3 col0\" >высшее</td>\n",
       "      <td id=\"T_1080f_row3_col1\" class=\"data row3 col1\" >5250.000000</td>\n",
       "      <td id=\"T_1080f_row3_col2\" class=\"data row3 col2\" >5.3%</td>\n",
       "    </tr>\n",
       "    <tr>\n",
       "      <td id=\"T_1080f_row4_col0\" class=\"data row4 col0\" >ученая степень</td>\n",
       "      <td id=\"T_1080f_row4_col1\" class=\"data row4 col1\" >6.000000</td>\n",
       "      <td id=\"T_1080f_row4_col2\" class=\"data row4 col2\" >0.0%</td>\n",
       "    </tr>\n",
       "  </tbody>\n",
       "</table>\n"
      ],
      "text/plain": [
       "<pandas.io.formats.style.Styler at 0x7fd5e63c5a10>"
      ]
     },
     "execution_count": 76,
     "metadata": {},
     "output_type": "execute_result"
    }
   ],
   "source": [
    "education_risk"
   ]
  },
  {
   "cell_type": "markdown",
   "id": "eabcc12a",
   "metadata": {},
   "source": [
    "В целом, приятней иметь дело с более образованным человеком.   \n",
    "Заёмщики с высшим образованием чаще других, причём аж на 3.7% минимум, отдают кредиты в срок. Есть предположение, что обладатели учёной степени - ещё более ответственны, хоть данных по ним крайне мало.  \n",
    "Любопытно, что неоконченное высшее образование, пусть и всего на 0.1%, несёт банку больший риск, чем среднее."
   ]
  },
  {
   "cell_type": "markdown",
   "id": "e0ddb5b9",
   "metadata": {},
   "source": [
    "## Общий вывод:"
   ]
  },
  {
   "cell_type": "markdown",
   "id": "76bd9693",
   "metadata": {},
   "source": [
    "На основе данных о ~20тыс. заёмщиках:\n",
    "- Меньший риск невозврата кредита в срок представляют  люди более образованные, состоявшие раньше в браке, бездетные и желающие приобрести недвижимость, с уровнем дохода от 30т₽ до 50т₽ или от 200т₽ до 1млн₽.\n",
    "- Категории заёмщиков: ученая степень, доходы меньше 30т₽ и больше 1млн₽, многодетные - представлены слабо. Стоит изучить их глубже и, возможно, дать задачу маркетологам привлечь новых клиентов из этих категорий.\n",
    "- Более образованные люди ответственней подходят к возврату кредита. В долгосрочной перспективе банку, возможно, выгодно будет разработать образовательные курсы и предлагать их заёмщикам (текущим и, может, потенциальным) на взаимовыгодных условиях.\n",
    "\n",
    "В полученных данных были аномалии:\n",
    "- Пропущенные значения в столбцах `total_income` и `days_employed`. Возможно это результат нежелания клиента раскрывать информацию, но может и ошибка сбора данных. Необходимо выяснить.\n",
    "- Дубликаты строк. Возможно это повторные обращения клиента в банк, но зачем их сохранять при этом? Необходимо разобраться.\n",
    "- Отрицательные значения в столбцах `days_employed`, `total_income`, `children`. А также аномальное несколько раз встречающееся `20` в столбце `children`. Узнать, как получаются такие значения.\n",
    "- Столбцы, не приведенные к одному регистру, и столбец `purpose` с не приведёнными к единой форме категориями - мешают обработке данных. Возможно стоит обновить программу для их сбора."
   ]
  }
 ],
 "metadata": {
  "ExecuteTimeLog": [
   {
    "duration": 972,
    "start_time": "2022-02-17T15:54:34.611Z"
   },
   {
    "duration": 86,
    "start_time": "2022-02-17T15:55:24.300Z"
   },
   {
    "duration": 115,
    "start_time": "2022-02-17T15:57:52.331Z"
   },
   {
    "duration": 87,
    "start_time": "2022-02-17T15:58:34.931Z"
   },
   {
    "duration": 128,
    "start_time": "2022-02-17T15:59:07.832Z"
   },
   {
    "duration": 439,
    "start_time": "2022-02-17T15:59:13.991Z"
   },
   {
    "duration": 364,
    "start_time": "2022-02-17T15:59:24.350Z"
   },
   {
    "duration": 126,
    "start_time": "2022-02-17T15:59:52.212Z"
   },
   {
    "duration": 113,
    "start_time": "2022-02-17T16:00:07.571Z"
   },
   {
    "duration": 399,
    "start_time": "2022-02-17T16:01:11.107Z"
   },
   {
    "duration": 85,
    "start_time": "2022-02-17T16:01:13.671Z"
   },
   {
    "duration": 69,
    "start_time": "2022-02-17T16:02:16.891Z"
   },
   {
    "duration": 10,
    "start_time": "2022-02-17T16:03:20.431Z"
   },
   {
    "duration": 10,
    "start_time": "2022-02-17T16:04:03.970Z"
   },
   {
    "duration": 9,
    "start_time": "2022-02-17T16:04:13.450Z"
   },
   {
    "duration": 9,
    "start_time": "2022-02-17T16:04:25.629Z"
   },
   {
    "duration": 37,
    "start_time": "2022-02-17T16:14:15.386Z"
   },
   {
    "duration": 11,
    "start_time": "2022-02-17T16:14:30.346Z"
   },
   {
    "duration": 41,
    "start_time": "2022-02-17T16:15:16.306Z"
   },
   {
    "duration": 19,
    "start_time": "2022-02-17T16:15:24.846Z"
   },
   {
    "duration": 24,
    "start_time": "2022-02-17T16:15:26.507Z"
   },
   {
    "duration": 60,
    "start_time": "2022-02-17T16:15:41.256Z"
   },
   {
    "duration": 360,
    "start_time": "2022-02-17T16:16:35.548Z"
   },
   {
    "duration": 375,
    "start_time": "2022-02-17T16:16:38.469Z"
   },
   {
    "duration": 8,
    "start_time": "2022-02-17T16:16:47.447Z"
   },
   {
    "duration": 27,
    "start_time": "2022-02-17T16:16:49.769Z"
   },
   {
    "duration": 7,
    "start_time": "2022-02-17T16:18:34.946Z"
   },
   {
    "duration": 5,
    "start_time": "2022-02-17T16:18:43.627Z"
   },
   {
    "duration": 7,
    "start_time": "2022-02-17T16:18:46.407Z"
   },
   {
    "duration": 6,
    "start_time": "2022-02-17T16:20:25.288Z"
   },
   {
    "duration": 77,
    "start_time": "2022-02-17T16:20:29.689Z"
   },
   {
    "duration": 38,
    "start_time": "2022-02-17T16:20:31.407Z"
   },
   {
    "duration": 28,
    "start_time": "2022-02-17T16:21:23.010Z"
   },
   {
    "duration": 372,
    "start_time": "2022-02-17T16:22:06.850Z"
   },
   {
    "duration": 8,
    "start_time": "2022-02-17T16:24:54.409Z"
   },
   {
    "duration": 96,
    "start_time": "2022-02-17T16:28:58.100Z"
   },
   {
    "duration": 41,
    "start_time": "2022-02-17T16:29:02.031Z"
   },
   {
    "duration": 40,
    "start_time": "2022-02-17T16:32:51.172Z"
   },
   {
    "duration": 41,
    "start_time": "2022-02-17T16:33:02.912Z"
   },
   {
    "duration": 37,
    "start_time": "2022-02-17T16:33:08.951Z"
   },
   {
    "duration": 17,
    "start_time": "2022-02-17T16:36:44.893Z"
   },
   {
    "duration": 16,
    "start_time": "2022-02-17T16:36:58.311Z"
   },
   {
    "duration": 26,
    "start_time": "2022-02-17T16:38:13.152Z"
   },
   {
    "duration": 17,
    "start_time": "2022-02-17T16:38:15.971Z"
   },
   {
    "duration": 18,
    "start_time": "2022-02-17T16:38:40.371Z"
   },
   {
    "duration": 16,
    "start_time": "2022-02-17T16:38:43.850Z"
   },
   {
    "duration": 16,
    "start_time": "2022-02-17T16:38:46.410Z"
   },
   {
    "duration": 17,
    "start_time": "2022-02-17T16:38:49.450Z"
   },
   {
    "duration": 17,
    "start_time": "2022-02-17T16:38:54.531Z"
   },
   {
    "duration": 18,
    "start_time": "2022-02-17T16:39:13.932Z"
   },
   {
    "duration": 417,
    "start_time": "2022-02-17T16:39:29.611Z"
   },
   {
    "duration": 22,
    "start_time": "2022-02-17T16:39:34.011Z"
   },
   {
    "duration": 16,
    "start_time": "2022-02-17T16:40:12.671Z"
   },
   {
    "duration": 66,
    "start_time": "2022-02-17T16:40:14.789Z"
   },
   {
    "duration": 329,
    "start_time": "2022-02-17T16:40:25.481Z"
   },
   {
    "duration": 14,
    "start_time": "2022-02-17T16:40:27.191Z"
   },
   {
    "duration": 13,
    "start_time": "2022-02-17T16:40:33.489Z"
   },
   {
    "duration": 16,
    "start_time": "2022-02-17T16:40:46.913Z"
   },
   {
    "duration": 15,
    "start_time": "2022-02-17T16:42:33.189Z"
   },
   {
    "duration": 99,
    "start_time": "2022-02-17T16:42:48.171Z"
   },
   {
    "duration": 15,
    "start_time": "2022-02-17T16:42:50.192Z"
   },
   {
    "duration": 21,
    "start_time": "2022-02-17T16:43:00.772Z"
   },
   {
    "duration": 106,
    "start_time": "2022-02-17T16:43:27.280Z"
   },
   {
    "duration": 101,
    "start_time": "2022-02-17T16:43:33.553Z"
   },
   {
    "duration": 14,
    "start_time": "2022-02-17T16:43:45.471Z"
   },
   {
    "duration": 12,
    "start_time": "2022-02-17T16:43:59.414Z"
   },
   {
    "duration": 14,
    "start_time": "2022-02-17T16:44:07.914Z"
   },
   {
    "duration": 14,
    "start_time": "2022-02-17T16:44:38.879Z"
   },
   {
    "duration": 13,
    "start_time": "2022-02-17T16:44:54.371Z"
   },
   {
    "duration": 13,
    "start_time": "2022-02-17T16:45:06.594Z"
   },
   {
    "duration": 96,
    "start_time": "2022-02-17T16:45:42.274Z"
   },
   {
    "duration": 13,
    "start_time": "2022-02-17T16:47:01.992Z"
   },
   {
    "duration": 42,
    "start_time": "2022-02-17T16:48:08.112Z"
   },
   {
    "duration": 6,
    "start_time": "2022-02-17T16:49:28.033Z"
   },
   {
    "duration": 6,
    "start_time": "2022-02-17T16:49:40.351Z"
   },
   {
    "duration": 9,
    "start_time": "2022-02-17T16:49:44.943Z"
   },
   {
    "duration": 9,
    "start_time": "2022-02-17T16:50:56.431Z"
   },
   {
    "duration": 7,
    "start_time": "2022-02-17T16:51:03.931Z"
   },
   {
    "duration": 5,
    "start_time": "2022-02-17T16:52:40.941Z"
   },
   {
    "duration": 7,
    "start_time": "2022-02-17T16:52:51.312Z"
   },
   {
    "duration": 102,
    "start_time": "2022-02-17T16:53:13.571Z"
   },
   {
    "duration": 104,
    "start_time": "2022-02-17T16:53:28.312Z"
   },
   {
    "duration": 127,
    "start_time": "2022-02-17T16:55:00.632Z"
   },
   {
    "duration": 8,
    "start_time": "2022-02-17T16:56:16.200Z"
   },
   {
    "duration": 105,
    "start_time": "2022-02-17T16:56:34.472Z"
   },
   {
    "duration": 8,
    "start_time": "2022-02-17T16:56:47.551Z"
   },
   {
    "duration": 295,
    "start_time": "2022-02-17T16:57:04.091Z"
   },
   {
    "duration": 7,
    "start_time": "2022-02-17T16:57:21.651Z"
   },
   {
    "duration": 7,
    "start_time": "2022-02-17T16:57:42.352Z"
   },
   {
    "duration": 7,
    "start_time": "2022-02-17T16:57:49.390Z"
   },
   {
    "duration": 7,
    "start_time": "2022-02-17T16:57:51.151Z"
   },
   {
    "duration": 7,
    "start_time": "2022-02-17T16:57:53.279Z"
   },
   {
    "duration": 7,
    "start_time": "2022-02-17T16:57:58.472Z"
   },
   {
    "duration": 7,
    "start_time": "2022-02-17T16:58:01.919Z"
   },
   {
    "duration": 10,
    "start_time": "2022-02-17T17:00:19.473Z"
   },
   {
    "duration": 8,
    "start_time": "2022-02-17T17:02:03.577Z"
   },
   {
    "duration": 8,
    "start_time": "2022-02-17T17:02:39.692Z"
   },
   {
    "duration": 9,
    "start_time": "2022-02-17T17:03:36.053Z"
   },
   {
    "duration": 8,
    "start_time": "2022-02-17T17:03:40.591Z"
   },
   {
    "duration": 7,
    "start_time": "2022-02-17T17:03:53.274Z"
   },
   {
    "duration": 9,
    "start_time": "2022-02-17T17:04:45.607Z"
   },
   {
    "duration": 9,
    "start_time": "2022-02-17T17:05:07.673Z"
   },
   {
    "duration": 10,
    "start_time": "2022-02-17T17:05:34.193Z"
   },
   {
    "duration": 8,
    "start_time": "2022-02-17T17:05:59.239Z"
   },
   {
    "duration": 6,
    "start_time": "2022-02-17T17:06:13.612Z"
   },
   {
    "duration": 9,
    "start_time": "2022-02-17T17:10:04.453Z"
   },
   {
    "duration": 7,
    "start_time": "2022-02-17T17:11:16.551Z"
   },
   {
    "duration": 7,
    "start_time": "2022-02-17T17:11:28.471Z"
   },
   {
    "duration": 29,
    "start_time": "2022-02-17T17:12:06.391Z"
   },
   {
    "duration": 101,
    "start_time": "2022-02-17T17:12:25.031Z"
   },
   {
    "duration": 9,
    "start_time": "2022-02-17T17:12:35.512Z"
   },
   {
    "duration": 11,
    "start_time": "2022-02-17T17:12:49.890Z"
   },
   {
    "duration": 127,
    "start_time": "2022-02-17T17:14:23.311Z"
   },
   {
    "duration": 83,
    "start_time": "2022-02-17T17:14:27.452Z"
   },
   {
    "duration": 276,
    "start_time": "2022-02-17T17:14:33.931Z"
   },
   {
    "duration": 7,
    "start_time": "2022-02-17T17:14:35.893Z"
   },
   {
    "duration": 6,
    "start_time": "2022-02-17T17:15:36.452Z"
   },
   {
    "duration": 8,
    "start_time": "2022-02-17T17:15:37.799Z"
   },
   {
    "duration": 124,
    "start_time": "2022-02-17T17:16:02.334Z"
   },
   {
    "duration": 5,
    "start_time": "2022-02-17T17:16:08.013Z"
   },
   {
    "duration": 7,
    "start_time": "2022-02-17T17:16:12.323Z"
   },
   {
    "duration": 8,
    "start_time": "2022-02-17T17:16:14.332Z"
   },
   {
    "duration": 7,
    "start_time": "2022-02-17T17:17:00.753Z"
   },
   {
    "duration": 7,
    "start_time": "2022-02-17T17:17:45.773Z"
   },
   {
    "duration": 8,
    "start_time": "2022-02-17T17:20:53.000Z"
   },
   {
    "duration": 7,
    "start_time": "2022-02-17T17:22:57.512Z"
   },
   {
    "duration": 7,
    "start_time": "2022-02-17T17:22:59.072Z"
   },
   {
    "duration": 8,
    "start_time": "2022-02-17T17:23:00.452Z"
   },
   {
    "duration": 5,
    "start_time": "2022-02-17T17:23:02.513Z"
   },
   {
    "duration": 6,
    "start_time": "2022-02-17T17:23:48.872Z"
   },
   {
    "duration": 22,
    "start_time": "2022-02-17T17:25:18.231Z"
   },
   {
    "duration": 99,
    "start_time": "2022-02-17T17:25:24.752Z"
   },
   {
    "duration": 17,
    "start_time": "2022-02-17T17:25:33.827Z"
   },
   {
    "duration": 307,
    "start_time": "2022-02-17T17:25:51.391Z"
   },
   {
    "duration": 346,
    "start_time": "2022-02-17T17:26:22.093Z"
   },
   {
    "duration": 14,
    "start_time": "2022-02-17T17:26:23.872Z"
   },
   {
    "duration": 12,
    "start_time": "2022-02-17T17:26:31.473Z"
   },
   {
    "duration": 15,
    "start_time": "2022-02-17T17:26:33.123Z"
   },
   {
    "duration": 12,
    "start_time": "2022-02-17T17:26:35.152Z"
   },
   {
    "duration": 307,
    "start_time": "2022-02-17T17:27:09.211Z"
   },
   {
    "duration": 297,
    "start_time": "2022-02-17T17:27:12.132Z"
   },
   {
    "duration": 19,
    "start_time": "2022-02-17T17:27:31.163Z"
   },
   {
    "duration": 293,
    "start_time": "2022-02-17T17:27:48.431Z"
   },
   {
    "duration": 14,
    "start_time": "2022-02-17T17:27:50.204Z"
   },
   {
    "duration": 32,
    "start_time": "2022-02-17T17:28:16.739Z"
   },
   {
    "duration": -229,
    "start_time": "2022-02-17T17:30:36.880Z"
   },
   {
    "duration": 34,
    "start_time": "2022-02-17T17:30:47.331Z"
   },
   {
    "duration": 10,
    "start_time": "2022-02-17T17:35:19.192Z"
   },
   {
    "duration": 77,
    "start_time": "2022-02-17T17:37:59.112Z"
   },
   {
    "duration": 21,
    "start_time": "2022-02-17T17:38:03.352Z"
   },
   {
    "duration": 10,
    "start_time": "2022-02-17T17:38:47.333Z"
   },
   {
    "duration": 8,
    "start_time": "2022-02-17T17:38:55.431Z"
   },
   {
    "duration": 37,
    "start_time": "2022-02-17T17:39:12.071Z"
   },
   {
    "duration": 19,
    "start_time": "2022-02-17T17:40:21.271Z"
   },
   {
    "duration": 19,
    "start_time": "2022-02-17T17:40:46.792Z"
   },
   {
    "duration": 224,
    "start_time": "2022-02-17T17:41:17.231Z"
   },
   {
    "duration": 95,
    "start_time": "2022-02-17T17:41:26.512Z"
   },
   {
    "duration": 90,
    "start_time": "2022-02-17T17:41:37.593Z"
   },
   {
    "duration": 353,
    "start_time": "2022-02-17T17:41:42.559Z"
   },
   {
    "duration": 37,
    "start_time": "2022-02-17T17:41:55.872Z"
   },
   {
    "duration": 15,
    "start_time": "2022-02-17T17:43:06.492Z"
   },
   {
    "duration": 16,
    "start_time": "2022-02-17T17:43:38.611Z"
   },
   {
    "duration": 11,
    "start_time": "2022-02-17T17:43:48.251Z"
   },
   {
    "duration": 10,
    "start_time": "2022-02-17T17:44:04.252Z"
   },
   {
    "duration": 27,
    "start_time": "2022-02-17T17:44:19.373Z"
   },
   {
    "duration": 24,
    "start_time": "2022-02-17T17:44:23.352Z"
   },
   {
    "duration": 54,
    "start_time": "2022-02-17T17:44:36.953Z"
   },
   {
    "duration": 8,
    "start_time": "2022-02-17T17:47:31.677Z"
   },
   {
    "duration": 14,
    "start_time": "2022-02-17T17:47:52.687Z"
   },
   {
    "duration": -237,
    "start_time": "2022-02-17T17:48:31.464Z"
   },
   {
    "duration": 4072,
    "start_time": "2022-02-17T17:48:36.132Z"
   },
   {
    "duration": 26,
    "start_time": "2022-02-17T17:49:00.652Z"
   },
   {
    "duration": 23,
    "start_time": "2022-02-17T17:49:20.671Z"
   },
   {
    "duration": 24,
    "start_time": "2022-02-17T17:55:13.992Z"
   },
   {
    "duration": 50,
    "start_time": "2022-02-17T17:55:26.651Z"
   },
   {
    "duration": 37,
    "start_time": "2022-02-17T17:57:57.853Z"
   },
   {
    "duration": 5,
    "start_time": "2022-02-17T17:58:09.964Z"
   },
   {
    "duration": 16,
    "start_time": "2022-02-17T17:58:40.772Z"
   },
   {
    "duration": 18,
    "start_time": "2022-02-17T18:02:34.151Z"
   },
   {
    "duration": 70,
    "start_time": "2022-02-17T18:02:54.251Z"
   },
   {
    "duration": 12,
    "start_time": "2022-02-17T18:02:54.324Z"
   },
   {
    "duration": 25,
    "start_time": "2022-02-17T18:02:54.339Z"
   },
   {
    "duration": 10,
    "start_time": "2022-02-17T18:02:54.368Z"
   },
   {
    "duration": 10,
    "start_time": "2022-02-17T18:02:54.380Z"
   },
   {
    "duration": 11,
    "start_time": "2022-02-17T18:02:54.392Z"
   },
   {
    "duration": 5,
    "start_time": "2022-02-17T18:02:54.406Z"
   },
   {
    "duration": 56,
    "start_time": "2022-02-17T18:02:54.413Z"
   },
   {
    "duration": 388,
    "start_time": "2022-02-17T18:08:11.669Z"
   },
   {
    "duration": 298,
    "start_time": "2022-02-17T18:10:40.631Z"
   },
   {
    "duration": 485,
    "start_time": "2022-02-17T18:12:23.952Z"
   },
   {
    "duration": 296,
    "start_time": "2022-02-17T18:18:06.851Z"
   },
   {
    "duration": 313,
    "start_time": "2022-02-17T18:18:14.584Z"
   },
   {
    "duration": 304,
    "start_time": "2022-02-17T18:20:43.771Z"
   },
   {
    "duration": 7376,
    "start_time": "2022-02-17T18:20:51.731Z"
   },
   {
    "duration": 105,
    "start_time": "2022-02-17T18:21:38.809Z"
   },
   {
    "duration": 7156,
    "start_time": "2022-02-17T18:21:41.352Z"
   },
   {
    "duration": 10,
    "start_time": "2022-02-17T18:22:55.659Z"
   },
   {
    "duration": 71,
    "start_time": "2022-02-17T18:23:12.472Z"
   },
   {
    "duration": 17,
    "start_time": "2022-02-17T18:23:12.547Z"
   },
   {
    "duration": 7,
    "start_time": "2022-02-17T18:23:12.567Z"
   },
   {
    "duration": 7,
    "start_time": "2022-02-17T18:23:12.578Z"
   },
   {
    "duration": 9,
    "start_time": "2022-02-17T18:23:12.588Z"
   },
   {
    "duration": 7,
    "start_time": "2022-02-17T18:23:12.599Z"
   },
   {
    "duration": 56,
    "start_time": "2022-02-17T18:23:12.608Z"
   },
   {
    "duration": 16,
    "start_time": "2022-02-17T18:23:12.666Z"
   },
   {
    "duration": 5,
    "start_time": "2022-02-17T18:23:18.892Z"
   },
   {
    "duration": 5,
    "start_time": "2022-02-17T18:23:21.752Z"
   },
   {
    "duration": 9,
    "start_time": "2022-02-17T18:23:37.983Z"
   },
   {
    "duration": 6628,
    "start_time": "2022-02-17T18:24:45.491Z"
   },
   {
    "duration": 8,
    "start_time": "2022-02-17T18:25:23.410Z"
   },
   {
    "duration": 6,
    "start_time": "2022-02-17T18:25:34.292Z"
   },
   {
    "duration": 10,
    "start_time": "2022-02-17T18:25:43.003Z"
   },
   {
    "duration": -95,
    "start_time": "2022-02-17T18:26:01.884Z"
   },
   {
    "duration": 17,
    "start_time": "2022-02-17T18:29:25.771Z"
   },
   {
    "duration": 165,
    "start_time": "2022-02-17T18:29:46.651Z"
   },
   {
    "duration": 163,
    "start_time": "2022-02-17T18:30:01.412Z"
   },
   {
    "duration": 7,
    "start_time": "2022-02-17T18:30:24.600Z"
   },
   {
    "duration": 1316,
    "start_time": "2022-02-17T18:35:45.531Z"
   },
   {
    "duration": 5,
    "start_time": "2022-02-17T18:36:18.253Z"
   },
   {
    "duration": 5,
    "start_time": "2022-02-17T18:36:59.330Z"
   },
   {
    "duration": 6,
    "start_time": "2022-02-17T18:37:11.051Z"
   },
   {
    "duration": 33,
    "start_time": "2022-02-17T18:39:29.050Z"
   },
   {
    "duration": 7,
    "start_time": "2022-02-17T18:40:58.850Z"
   },
   {
    "duration": 7,
    "start_time": "2022-02-17T18:41:07.754Z"
   },
   {
    "duration": 33,
    "start_time": "2022-02-17T18:41:11.950Z"
   },
   {
    "duration": 392,
    "start_time": "2022-02-17T18:41:48.191Z"
   },
   {
    "duration": 285,
    "start_time": "2022-02-17T18:41:50.071Z"
   },
   {
    "duration": 335,
    "start_time": "2022-02-17T18:42:01.471Z"
   },
   {
    "duration": 387,
    "start_time": "2022-02-17T18:42:03.452Z"
   },
   {
    "duration": 20,
    "start_time": "2022-02-17T18:42:07.831Z"
   },
   {
    "duration": 16,
    "start_time": "2022-02-17T18:42:13.378Z"
   },
   {
    "duration": 34,
    "start_time": "2022-02-17T18:42:44.192Z"
   },
   {
    "duration": 270,
    "start_time": "2022-02-17T18:43:56.350Z"
   },
   {
    "duration": 8,
    "start_time": "2022-02-17T18:44:02.110Z"
   },
   {
    "duration": 32,
    "start_time": "2022-02-17T18:44:05.570Z"
   },
   {
    "duration": 35,
    "start_time": "2022-02-17T18:44:49.430Z"
   },
   {
    "duration": 33,
    "start_time": "2022-02-17T18:45:01.851Z"
   },
   {
    "duration": 35,
    "start_time": "2022-02-17T18:45:15.871Z"
   },
   {
    "duration": 34,
    "start_time": "2022-02-17T18:45:19.570Z"
   },
   {
    "duration": 34,
    "start_time": "2022-02-17T18:45:23.650Z"
   },
   {
    "duration": 57,
    "start_time": "2022-02-17T18:46:43.090Z"
   },
   {
    "duration": 35,
    "start_time": "2022-02-17T18:46:49.271Z"
   },
   {
    "duration": 34,
    "start_time": "2022-02-17T18:46:53.682Z"
   },
   {
    "duration": 6,
    "start_time": "2022-02-17T18:47:49.490Z"
   },
   {
    "duration": 36,
    "start_time": "2022-02-17T18:48:02.930Z"
   },
   {
    "duration": 37,
    "start_time": "2022-02-17T18:48:09.530Z"
   },
   {
    "duration": 37,
    "start_time": "2022-02-17T18:48:12.210Z"
   },
   {
    "duration": 75,
    "start_time": "2022-02-17T18:50:33.772Z"
   },
   {
    "duration": 38,
    "start_time": "2022-02-17T18:50:59.032Z"
   },
   {
    "duration": 35,
    "start_time": "2022-02-17T18:51:54.390Z"
   },
   {
    "duration": 33,
    "start_time": "2022-02-17T18:52:51.251Z"
   },
   {
    "duration": 28,
    "start_time": "2022-02-17T18:53:01.479Z"
   },
   {
    "duration": 76,
    "start_time": "2022-02-17T18:54:42.613Z"
   },
   {
    "duration": 14,
    "start_time": "2022-02-17T18:54:42.693Z"
   },
   {
    "duration": 6,
    "start_time": "2022-02-17T18:54:42.710Z"
   },
   {
    "duration": 43,
    "start_time": "2022-02-17T18:54:42.718Z"
   },
   {
    "duration": 7,
    "start_time": "2022-02-17T18:54:42.764Z"
   },
   {
    "duration": 9,
    "start_time": "2022-02-17T18:54:42.773Z"
   },
   {
    "duration": 5,
    "start_time": "2022-02-17T18:54:42.784Z"
   },
   {
    "duration": 22,
    "start_time": "2022-02-17T18:54:42.793Z"
   },
   {
    "duration": 44,
    "start_time": "2022-02-17T18:54:42.818Z"
   },
   {
    "duration": 18,
    "start_time": "2022-02-17T18:54:42.865Z"
   },
   {
    "duration": 4,
    "start_time": "2022-02-17T18:54:42.886Z"
   },
   {
    "duration": 22,
    "start_time": "2022-02-17T18:55:38.090Z"
   },
   {
    "duration": 21,
    "start_time": "2022-02-17T18:55:48.551Z"
   },
   {
    "duration": 364,
    "start_time": "2022-02-17T18:58:15.731Z"
   },
   {
    "duration": 49,
    "start_time": "2022-02-17T18:58:23.032Z"
   },
   {
    "duration": 78,
    "start_time": "2022-02-17T18:58:49.411Z"
   },
   {
    "duration": 15,
    "start_time": "2022-02-17T18:58:49.492Z"
   },
   {
    "duration": 8,
    "start_time": "2022-02-17T18:58:49.510Z"
   },
   {
    "duration": 6,
    "start_time": "2022-02-17T18:58:49.522Z"
   },
   {
    "duration": 8,
    "start_time": "2022-02-17T18:58:49.562Z"
   },
   {
    "duration": 9,
    "start_time": "2022-02-17T18:58:49.572Z"
   },
   {
    "duration": 8,
    "start_time": "2022-02-17T18:58:49.583Z"
   },
   {
    "duration": 18,
    "start_time": "2022-02-17T18:58:49.593Z"
   },
   {
    "duration": 45,
    "start_time": "2022-02-17T18:58:49.616Z"
   },
   {
    "duration": 134,
    "start_time": "2022-02-17T19:01:15.990Z"
   },
   {
    "duration": 275,
    "start_time": "2022-02-17T19:01:21.951Z"
   },
   {
    "duration": 523,
    "start_time": "2022-02-17T19:03:10.772Z"
   },
   {
    "duration": 606,
    "start_time": "2022-02-17T19:03:18.171Z"
   },
   {
    "duration": 4,
    "start_time": "2022-02-17T19:06:05.650Z"
   },
   {
    "duration": 2205,
    "start_time": "2022-02-17T19:06:15.052Z"
   },
   {
    "duration": 2185,
    "start_time": "2022-02-17T19:06:37.030Z"
   },
   {
    "duration": 567,
    "start_time": "2022-02-17T19:06:45.211Z"
   },
   {
    "duration": 2112,
    "start_time": "2022-02-17T19:07:46.791Z"
   },
   {
    "duration": 628,
    "start_time": "2022-02-17T19:08:15.771Z"
   },
   {
    "duration": 550,
    "start_time": "2022-02-17T19:08:17.979Z"
   },
   {
    "duration": 67,
    "start_time": "2022-02-17T19:08:51.111Z"
   },
   {
    "duration": 63,
    "start_time": "2022-02-17T19:09:14.231Z"
   },
   {
    "duration": 66,
    "start_time": "2022-02-17T19:09:21.632Z"
   },
   {
    "duration": 57,
    "start_time": "2022-02-17T19:09:49.792Z"
   },
   {
    "duration": 69,
    "start_time": "2022-02-17T19:10:04.472Z"
   },
   {
    "duration": 99,
    "start_time": "2022-02-17T19:10:22.590Z"
   },
   {
    "duration": 8,
    "start_time": "2022-02-17T19:11:09.392Z"
   },
   {
    "duration": 90,
    "start_time": "2022-02-17T19:11:12.091Z"
   },
   {
    "duration": 8,
    "start_time": "2022-02-17T19:11:59.451Z"
   },
   {
    "duration": 8,
    "start_time": "2022-02-17T19:12:02.311Z"
   },
   {
    "duration": 82,
    "start_time": "2022-02-17T19:12:11.951Z"
   },
   {
    "duration": 9,
    "start_time": "2022-02-17T19:12:30.232Z"
   },
   {
    "duration": 81,
    "start_time": "2022-02-17T19:12:33.731Z"
   },
   {
    "duration": 7,
    "start_time": "2022-02-17T19:12:36.600Z"
   },
   {
    "duration": 79,
    "start_time": "2022-02-17T19:12:38.211Z"
   },
   {
    "duration": 106,
    "start_time": "2022-02-17T19:12:43.611Z"
   },
   {
    "duration": 18,
    "start_time": "2022-02-17T19:12:43.722Z"
   },
   {
    "duration": 19,
    "start_time": "2022-02-17T19:12:43.745Z"
   },
   {
    "duration": 9,
    "start_time": "2022-02-17T19:12:43.768Z"
   },
   {
    "duration": 9,
    "start_time": "2022-02-17T19:12:43.780Z"
   },
   {
    "duration": 9,
    "start_time": "2022-02-17T19:12:43.793Z"
   },
   {
    "duration": 59,
    "start_time": "2022-02-17T19:12:43.805Z"
   },
   {
    "duration": 24,
    "start_time": "2022-02-17T19:12:43.868Z"
   },
   {
    "duration": 11,
    "start_time": "2022-02-17T19:12:43.896Z"
   },
   {
    "duration": 152,
    "start_time": "2022-02-17T19:12:43.910Z"
   },
   {
    "duration": 88,
    "start_time": "2022-02-17T19:12:46.051Z"
   },
   {
    "duration": 20,
    "start_time": "2022-02-17T19:13:13.670Z"
   },
   {
    "duration": 56,
    "start_time": "2022-02-17T19:13:20.671Z"
   },
   {
    "duration": 68,
    "start_time": "2022-02-17T19:13:33.151Z"
   },
   {
    "duration": 67,
    "start_time": "2022-02-17T19:13:40.712Z"
   },
   {
    "duration": 13,
    "start_time": "2022-02-17T19:13:40.782Z"
   },
   {
    "duration": 6,
    "start_time": "2022-02-17T19:13:40.799Z"
   },
   {
    "duration": 6,
    "start_time": "2022-02-17T19:13:40.808Z"
   },
   {
    "duration": 46,
    "start_time": "2022-02-17T19:13:40.817Z"
   },
   {
    "duration": 8,
    "start_time": "2022-02-17T19:13:40.874Z"
   },
   {
    "duration": 15,
    "start_time": "2022-02-17T19:13:40.885Z"
   },
   {
    "duration": 15,
    "start_time": "2022-02-17T19:13:40.903Z"
   },
   {
    "duration": 7,
    "start_time": "2022-02-17T19:13:40.921Z"
   },
   {
    "duration": 106,
    "start_time": "2022-02-17T19:13:40.930Z"
   },
   {
    "duration": 37,
    "start_time": "2022-02-17T19:13:41.039Z"
   },
   {
    "duration": 82,
    "start_time": "2022-02-17T19:13:41.079Z"
   },
   {
    "duration": 16,
    "start_time": "2022-02-17T19:17:51.630Z"
   },
   {
    "duration": 12,
    "start_time": "2022-02-17T19:19:31.960Z"
   },
   {
    "duration": 18,
    "start_time": "2022-02-17T19:19:39.092Z"
   },
   {
    "duration": 38,
    "start_time": "2022-02-17T19:20:28.713Z"
   },
   {
    "duration": 393,
    "start_time": "2022-02-17T19:21:02.961Z"
   },
   {
    "duration": 326,
    "start_time": "2022-02-17T19:21:27.611Z"
   },
   {
    "duration": 95,
    "start_time": "2022-02-17T19:21:54.191Z"
   },
   {
    "duration": 274,
    "start_time": "2022-02-17T19:21:57.171Z"
   },
   {
    "duration": 12,
    "start_time": "2022-02-17T19:22:10.832Z"
   },
   {
    "duration": 5,
    "start_time": "2022-02-17T19:23:45.592Z"
   },
   {
    "duration": 8,
    "start_time": "2022-02-17T19:23:50.211Z"
   },
   {
    "duration": 7,
    "start_time": "2022-02-17T19:24:04.092Z"
   },
   {
    "duration": 7,
    "start_time": "2022-02-17T19:24:33.253Z"
   },
   {
    "duration": 8,
    "start_time": "2022-02-17T19:25:32.091Z"
   },
   {
    "duration": 90,
    "start_time": "2022-02-17T19:28:28.500Z"
   },
   {
    "duration": 23,
    "start_time": "2022-02-17T19:37:12.099Z"
   },
   {
    "duration": 21,
    "start_time": "2022-02-17T19:37:32.400Z"
   },
   {
    "duration": 22,
    "start_time": "2022-02-17T20:00:30.741Z"
   },
   {
    "duration": 43,
    "start_time": "2022-02-17T20:00:49.460Z"
   },
   {
    "duration": 21,
    "start_time": "2022-02-17T20:01:04.541Z"
   },
   {
    "duration": 309,
    "start_time": "2022-02-17T20:11:31.579Z"
   },
   {
    "duration": 319,
    "start_time": "2022-02-17T20:11:37.659Z"
   },
   {
    "duration": 19,
    "start_time": "2022-02-17T20:11:47.842Z"
   },
   {
    "duration": 23,
    "start_time": "2022-02-17T20:11:53.640Z"
   },
   {
    "duration": 29,
    "start_time": "2022-02-17T20:11:57.560Z"
   },
   {
    "duration": 28,
    "start_time": "2022-02-17T20:12:05.440Z"
   },
   {
    "duration": 27,
    "start_time": "2022-02-17T20:12:07.861Z"
   },
   {
    "duration": 23,
    "start_time": "2022-02-17T20:12:13.181Z"
   },
   {
    "duration": 19,
    "start_time": "2022-02-17T20:12:22.701Z"
   },
   {
    "duration": 19,
    "start_time": "2022-02-17T20:12:26.919Z"
   },
   {
    "duration": 21,
    "start_time": "2022-02-17T20:12:29.220Z"
   },
   {
    "duration": 23,
    "start_time": "2022-02-17T20:12:34.921Z"
   },
   {
    "duration": 23,
    "start_time": "2022-02-17T20:12:41.320Z"
   },
   {
    "duration": 104,
    "start_time": "2022-02-17T20:24:09.440Z"
   },
   {
    "duration": 1120,
    "start_time": "2022-02-17T20:24:15.160Z"
   },
   {
    "duration": 327,
    "start_time": "2022-02-17T20:29:42.841Z"
   },
   {
    "duration": 206,
    "start_time": "2022-02-17T20:30:00.821Z"
   },
   {
    "duration": 204,
    "start_time": "2022-02-17T20:30:07.470Z"
   },
   {
    "duration": 238,
    "start_time": "2022-02-17T20:30:12.651Z"
   },
   {
    "duration": 241,
    "start_time": "2022-02-17T20:30:38.080Z"
   },
   {
    "duration": 70,
    "start_time": "2022-02-17T20:30:48.073Z"
   },
   {
    "duration": 22,
    "start_time": "2022-02-17T20:30:48.146Z"
   },
   {
    "duration": 5,
    "start_time": "2022-02-17T20:30:48.171Z"
   },
   {
    "duration": 7,
    "start_time": "2022-02-17T20:30:48.179Z"
   },
   {
    "duration": 9,
    "start_time": "2022-02-17T20:30:48.188Z"
   },
   {
    "duration": 8,
    "start_time": "2022-02-17T20:30:48.200Z"
   },
   {
    "duration": 7,
    "start_time": "2022-02-17T20:30:48.262Z"
   },
   {
    "duration": 17,
    "start_time": "2022-02-17T20:30:48.272Z"
   },
   {
    "duration": 8,
    "start_time": "2022-02-17T20:30:48.294Z"
   },
   {
    "duration": 120,
    "start_time": "2022-02-17T20:30:48.305Z"
   },
   {
    "duration": 34,
    "start_time": "2022-02-17T20:30:48.427Z"
   },
   {
    "duration": 62,
    "start_time": "2022-02-17T20:30:48.463Z"
   },
   {
    "duration": 36,
    "start_time": "2022-02-17T20:30:48.528Z"
   },
   {
    "duration": 16,
    "start_time": "2022-02-17T20:30:48.566Z"
   },
   {
    "duration": 9,
    "start_time": "2022-02-17T20:30:48.584Z"
   },
   {
    "duration": 251,
    "start_time": "2022-02-17T20:30:48.596Z"
   },
   {
    "duration": 218,
    "start_time": "2022-02-17T20:31:09.328Z"
   },
   {
    "duration": 73,
    "start_time": "2022-02-17T20:32:36.441Z"
   },
   {
    "duration": 13,
    "start_time": "2022-02-17T20:32:36.517Z"
   },
   {
    "duration": 32,
    "start_time": "2022-02-17T20:32:36.533Z"
   },
   {
    "duration": 7,
    "start_time": "2022-02-17T20:32:36.567Z"
   },
   {
    "duration": 9,
    "start_time": "2022-02-17T20:32:36.577Z"
   },
   {
    "duration": 9,
    "start_time": "2022-02-17T20:32:36.588Z"
   },
   {
    "duration": 7,
    "start_time": "2022-02-17T20:32:36.599Z"
   },
   {
    "duration": 61,
    "start_time": "2022-02-17T20:32:36.609Z"
   },
   {
    "duration": 7,
    "start_time": "2022-02-17T20:32:36.673Z"
   },
   {
    "duration": 106,
    "start_time": "2022-02-17T20:32:36.683Z"
   },
   {
    "duration": 22,
    "start_time": "2022-02-17T20:32:36.791Z"
   },
   {
    "duration": 85,
    "start_time": "2022-02-17T20:32:36.816Z"
   },
   {
    "duration": 16,
    "start_time": "2022-02-17T20:32:36.904Z"
   },
   {
    "duration": 40,
    "start_time": "2022-02-17T20:32:36.922Z"
   },
   {
    "duration": 8,
    "start_time": "2022-02-17T20:32:36.965Z"
   },
   {
    "duration": 36,
    "start_time": "2022-02-17T20:32:36.975Z"
   },
   {
    "duration": 73,
    "start_time": "2022-02-17T20:32:47.460Z"
   },
   {
    "duration": 30,
    "start_time": "2022-02-17T20:32:47.536Z"
   },
   {
    "duration": 8,
    "start_time": "2022-02-17T20:32:47.574Z"
   },
   {
    "duration": 7,
    "start_time": "2022-02-17T20:32:47.585Z"
   },
   {
    "duration": 12,
    "start_time": "2022-02-17T20:32:47.594Z"
   },
   {
    "duration": 7,
    "start_time": "2022-02-17T20:32:47.609Z"
   },
   {
    "duration": 49,
    "start_time": "2022-02-17T20:32:47.619Z"
   },
   {
    "duration": 23,
    "start_time": "2022-02-17T20:32:47.670Z"
   },
   {
    "duration": 7,
    "start_time": "2022-02-17T20:32:47.696Z"
   },
   {
    "duration": 110,
    "start_time": "2022-02-17T20:32:47.706Z"
   },
   {
    "duration": 21,
    "start_time": "2022-02-17T20:32:47.819Z"
   },
   {
    "duration": 76,
    "start_time": "2022-02-17T20:32:47.843Z"
   },
   {
    "duration": 15,
    "start_time": "2022-02-17T20:32:47.922Z"
   },
   {
    "duration": 18,
    "start_time": "2022-02-17T20:32:47.962Z"
   },
   {
    "duration": 8,
    "start_time": "2022-02-17T20:32:47.982Z"
   },
   {
    "duration": 32,
    "start_time": "2022-02-17T20:32:47.993Z"
   },
   {
    "duration": 288,
    "start_time": "2022-02-17T20:33:03.682Z"
   },
   {
    "duration": 285,
    "start_time": "2022-02-17T20:33:07.779Z"
   },
   {
    "duration": 37,
    "start_time": "2022-02-17T20:33:11.291Z"
   },
   {
    "duration": 36,
    "start_time": "2022-02-17T20:35:44.436Z"
   },
   {
    "duration": 32,
    "start_time": "2022-02-17T20:36:03.921Z"
   },
   {
    "duration": 39,
    "start_time": "2022-02-17T20:36:30.600Z"
   },
   {
    "duration": 36,
    "start_time": "2022-02-17T20:36:38.742Z"
   },
   {
    "duration": 741,
    "start_time": "2022-02-17T20:42:02.620Z"
   },
   {
    "duration": 722,
    "start_time": "2022-02-17T20:42:19.022Z"
   },
   {
    "duration": 11,
    "start_time": "2022-02-17T20:43:04.600Z"
   },
   {
    "duration": 35,
    "start_time": "2022-02-17T20:43:11.247Z"
   },
   {
    "duration": 229,
    "start_time": "2022-02-17T20:43:18.301Z"
   },
   {
    "duration": 1022,
    "start_time": "2022-02-17T20:44:07.942Z"
   },
   {
    "duration": 71,
    "start_time": "2022-02-17T20:44:42.740Z"
   },
   {
    "duration": 13,
    "start_time": "2022-02-17T20:44:42.814Z"
   },
   {
    "duration": 7,
    "start_time": "2022-02-17T20:44:42.829Z"
   },
   {
    "duration": 7,
    "start_time": "2022-02-17T20:44:42.863Z"
   },
   {
    "duration": 8,
    "start_time": "2022-02-17T20:44:42.872Z"
   },
   {
    "duration": 10,
    "start_time": "2022-02-17T20:44:42.883Z"
   },
   {
    "duration": 6,
    "start_time": "2022-02-17T20:44:42.895Z"
   },
   {
    "duration": 61,
    "start_time": "2022-02-17T20:44:42.904Z"
   },
   {
    "duration": 7,
    "start_time": "2022-02-17T20:44:42.969Z"
   },
   {
    "duration": 98,
    "start_time": "2022-02-17T20:44:42.978Z"
   },
   {
    "duration": 22,
    "start_time": "2022-02-17T20:44:43.078Z"
   },
   {
    "duration": 97,
    "start_time": "2022-02-17T20:44:43.103Z"
   },
   {
    "duration": 17,
    "start_time": "2022-02-17T20:44:43.203Z"
   },
   {
    "duration": 38,
    "start_time": "2022-02-17T20:44:43.223Z"
   },
   {
    "duration": 10,
    "start_time": "2022-02-17T20:44:43.263Z"
   },
   {
    "duration": 64,
    "start_time": "2022-02-17T20:44:46.002Z"
   },
   {
    "duration": 1211,
    "start_time": "2022-02-17T20:44:58.968Z"
   },
   {
    "duration": 74,
    "start_time": "2022-02-17T20:45:14.161Z"
   },
   {
    "duration": 31,
    "start_time": "2022-02-17T20:45:14.238Z"
   },
   {
    "duration": 10,
    "start_time": "2022-02-17T20:45:14.272Z"
   },
   {
    "duration": 8,
    "start_time": "2022-02-17T20:45:14.285Z"
   },
   {
    "duration": 13,
    "start_time": "2022-02-17T20:45:14.296Z"
   },
   {
    "duration": 52,
    "start_time": "2022-02-17T20:45:14.312Z"
   },
   {
    "duration": 7,
    "start_time": "2022-02-17T20:45:14.367Z"
   },
   {
    "duration": 23,
    "start_time": "2022-02-17T20:45:14.378Z"
   },
   {
    "duration": 8,
    "start_time": "2022-02-17T20:45:14.404Z"
   },
   {
    "duration": 116,
    "start_time": "2022-02-17T20:45:14.414Z"
   },
   {
    "duration": 33,
    "start_time": "2022-02-17T20:45:14.532Z"
   },
   {
    "duration": 65,
    "start_time": "2022-02-17T20:45:14.569Z"
   },
   {
    "duration": 35,
    "start_time": "2022-02-17T20:45:14.637Z"
   },
   {
    "duration": 16,
    "start_time": "2022-02-17T20:45:14.674Z"
   },
   {
    "duration": 8,
    "start_time": "2022-02-17T20:45:14.692Z"
   },
   {
    "duration": 119,
    "start_time": "2022-02-17T20:45:14.702Z"
   },
   {
    "duration": 44,
    "start_time": "2022-02-17T20:45:23.119Z"
   },
   {
    "duration": 316,
    "start_time": "2022-02-17T20:45:36.619Z"
   },
   {
    "duration": 424,
    "start_time": "2022-02-17T20:45:45.987Z"
   },
   {
    "duration": 15,
    "start_time": "2022-02-17T20:45:46.415Z"
   },
   {
    "duration": 8,
    "start_time": "2022-02-17T20:45:46.433Z"
   },
   {
    "duration": 13,
    "start_time": "2022-02-17T20:45:46.471Z"
   },
   {
    "duration": 21,
    "start_time": "2022-02-17T20:45:46.491Z"
   },
   {
    "duration": 13,
    "start_time": "2022-02-17T20:45:46.515Z"
   },
   {
    "duration": 13,
    "start_time": "2022-02-17T20:45:46.530Z"
   },
   {
    "duration": 34,
    "start_time": "2022-02-17T20:45:46.546Z"
   },
   {
    "duration": 20,
    "start_time": "2022-02-17T20:45:46.586Z"
   },
   {
    "duration": 131,
    "start_time": "2022-02-17T20:45:46.609Z"
   },
   {
    "duration": 49,
    "start_time": "2022-02-17T20:45:46.744Z"
   },
   {
    "duration": 93,
    "start_time": "2022-02-17T20:45:46.797Z"
   },
   {
    "duration": 24,
    "start_time": "2022-02-17T20:45:46.896Z"
   },
   {
    "duration": 43,
    "start_time": "2022-02-17T20:45:46.923Z"
   },
   {
    "duration": 16,
    "start_time": "2022-02-17T20:45:46.969Z"
   },
   {
    "duration": 98,
    "start_time": "2022-02-17T20:45:46.988Z"
   },
   {
    "duration": 91,
    "start_time": "2022-02-17T20:46:12.660Z"
   },
   {
    "duration": 13,
    "start_time": "2022-02-17T20:46:12.762Z"
   },
   {
    "duration": 6,
    "start_time": "2022-02-17T20:46:12.779Z"
   },
   {
    "duration": 7,
    "start_time": "2022-02-17T20:46:12.788Z"
   },
   {
    "duration": 8,
    "start_time": "2022-02-17T20:46:12.798Z"
   },
   {
    "duration": 53,
    "start_time": "2022-02-17T20:46:12.809Z"
   },
   {
    "duration": 6,
    "start_time": "2022-02-17T20:46:12.864Z"
   },
   {
    "duration": 15,
    "start_time": "2022-02-17T20:46:12.872Z"
   },
   {
    "duration": 6,
    "start_time": "2022-02-17T20:46:12.891Z"
   },
   {
    "duration": 114,
    "start_time": "2022-02-17T20:46:12.900Z"
   },
   {
    "duration": 19,
    "start_time": "2022-02-17T20:46:13.017Z"
   },
   {
    "duration": 91,
    "start_time": "2022-02-17T20:46:13.038Z"
   },
   {
    "duration": 35,
    "start_time": "2022-02-17T20:46:13.132Z"
   },
   {
    "duration": 20,
    "start_time": "2022-02-17T20:46:13.170Z"
   },
   {
    "duration": 15,
    "start_time": "2022-02-17T20:46:13.193Z"
   },
   {
    "duration": 105,
    "start_time": "2022-02-17T20:46:13.211Z"
   },
   {
    "duration": 70,
    "start_time": "2022-02-17T20:46:56.160Z"
   },
   {
    "duration": 69,
    "start_time": "2022-02-17T20:47:12.939Z"
   },
   {
    "duration": 102,
    "start_time": "2022-02-17T20:49:12.602Z"
   },
   {
    "duration": 291,
    "start_time": "2022-02-17T20:49:22.481Z"
   },
   {
    "duration": 35,
    "start_time": "2022-02-17T20:50:39.719Z"
   },
   {
    "duration": 35,
    "start_time": "2022-02-17T20:50:50.009Z"
   },
   {
    "duration": 580,
    "start_time": "2022-02-17T21:53:19.584Z"
   },
   {
    "duration": 15,
    "start_time": "2022-02-17T21:53:20.166Z"
   },
   {
    "duration": 5,
    "start_time": "2022-02-17T21:53:20.182Z"
   },
   {
    "duration": 17,
    "start_time": "2022-02-17T21:53:20.189Z"
   },
   {
    "duration": 6,
    "start_time": "2022-02-17T21:53:20.208Z"
   },
   {
    "duration": 5,
    "start_time": "2022-02-17T21:53:20.230Z"
   },
   {
    "duration": 4,
    "start_time": "2022-02-17T21:53:20.237Z"
   },
   {
    "duration": 13,
    "start_time": "2022-02-17T21:53:20.243Z"
   },
   {
    "duration": 5,
    "start_time": "2022-02-17T21:53:20.258Z"
   },
   {
    "duration": 78,
    "start_time": "2022-02-17T21:53:20.265Z"
   },
   {
    "duration": 14,
    "start_time": "2022-02-17T21:53:20.344Z"
   },
   {
    "duration": 42,
    "start_time": "2022-02-17T21:53:20.359Z"
   },
   {
    "duration": 31,
    "start_time": "2022-02-17T21:53:20.402Z"
   },
   {
    "duration": 11,
    "start_time": "2022-02-17T21:53:20.435Z"
   },
   {
    "duration": 6,
    "start_time": "2022-02-17T21:53:20.447Z"
   },
   {
    "duration": 223,
    "start_time": "2022-02-17T21:53:20.454Z"
   },
   {
    "duration": 163,
    "start_time": "2022-02-17T21:53:38.638Z"
   },
   {
    "duration": 176,
    "start_time": "2022-02-17T21:55:41.650Z"
   },
   {
    "duration": 171,
    "start_time": "2022-02-17T21:56:10.242Z"
   },
   {
    "duration": 188,
    "start_time": "2022-02-17T21:56:46.734Z"
   },
   {
    "duration": 31,
    "start_time": "2022-02-17T22:00:51.302Z"
   },
   {
    "duration": 39,
    "start_time": "2022-02-17T22:00:56.122Z"
   },
   {
    "duration": 28,
    "start_time": "2022-02-17T22:01:19.461Z"
   },
   {
    "duration": 295,
    "start_time": "2022-02-17T22:02:25.842Z"
   },
   {
    "duration": 184,
    "start_time": "2022-02-17T22:02:31.072Z"
   },
   {
    "duration": 198,
    "start_time": "2022-02-17T22:02:44.963Z"
   },
   {
    "duration": 188,
    "start_time": "2022-02-17T22:03:12.403Z"
   },
   {
    "duration": 26,
    "start_time": "2022-02-17T22:03:18.282Z"
   },
   {
    "duration": 26,
    "start_time": "2022-02-17T22:03:34.862Z"
   },
   {
    "duration": 53,
    "start_time": "2022-02-17T22:03:43.023Z"
   },
   {
    "duration": 11,
    "start_time": "2022-02-17T22:03:43.078Z"
   },
   {
    "duration": 4,
    "start_time": "2022-02-17T22:03:43.091Z"
   },
   {
    "duration": 33,
    "start_time": "2022-02-17T22:03:43.097Z"
   },
   {
    "duration": 7,
    "start_time": "2022-02-17T22:03:43.132Z"
   },
   {
    "duration": 6,
    "start_time": "2022-02-17T22:03:43.141Z"
   },
   {
    "duration": 5,
    "start_time": "2022-02-17T22:03:43.149Z"
   },
   {
    "duration": 12,
    "start_time": "2022-02-17T22:03:43.156Z"
   },
   {
    "duration": 6,
    "start_time": "2022-02-17T22:03:43.172Z"
   },
   {
    "duration": 97,
    "start_time": "2022-02-17T22:03:43.180Z"
   },
   {
    "duration": 15,
    "start_time": "2022-02-17T22:03:43.278Z"
   },
   {
    "duration": 58,
    "start_time": "2022-02-17T22:03:43.294Z"
   },
   {
    "duration": 13,
    "start_time": "2022-02-17T22:03:43.354Z"
   },
   {
    "duration": 13,
    "start_time": "2022-02-17T22:03:43.369Z"
   },
   {
    "duration": 6,
    "start_time": "2022-02-17T22:03:43.384Z"
   },
   {
    "duration": 59,
    "start_time": "2022-02-17T22:03:43.391Z"
   },
   {
    "duration": 26,
    "start_time": "2022-02-17T22:06:47.043Z"
   },
   {
    "duration": 38,
    "start_time": "2022-02-17T22:06:51.254Z"
   },
   {
    "duration": 60,
    "start_time": "2022-02-17T22:07:26.954Z"
   },
   {
    "duration": 10,
    "start_time": "2022-02-17T22:07:27.016Z"
   },
   {
    "duration": 5,
    "start_time": "2022-02-17T22:07:27.028Z"
   },
   {
    "duration": 6,
    "start_time": "2022-02-17T22:07:27.035Z"
   },
   {
    "duration": 5,
    "start_time": "2022-02-17T22:07:27.042Z"
   },
   {
    "duration": 5,
    "start_time": "2022-02-17T22:07:27.049Z"
   },
   {
    "duration": 4,
    "start_time": "2022-02-17T22:07:27.055Z"
   },
   {
    "duration": 16,
    "start_time": "2022-02-17T22:07:27.060Z"
   },
   {
    "duration": 5,
    "start_time": "2022-02-17T22:07:27.079Z"
   },
   {
    "duration": 84,
    "start_time": "2022-02-17T22:07:27.085Z"
   },
   {
    "duration": 15,
    "start_time": "2022-02-17T22:07:27.170Z"
   },
   {
    "duration": 55,
    "start_time": "2022-02-17T22:07:27.187Z"
   },
   {
    "duration": 11,
    "start_time": "2022-02-17T22:07:27.244Z"
   },
   {
    "duration": 12,
    "start_time": "2022-02-17T22:07:27.256Z"
   },
   {
    "duration": 6,
    "start_time": "2022-02-17T22:07:27.270Z"
   },
   {
    "duration": 69,
    "start_time": "2022-02-17T22:07:27.277Z"
   },
   {
    "duration": 39,
    "start_time": "2022-02-17T22:07:32.223Z"
   },
   {
    "duration": 174,
    "start_time": "2022-02-17T22:10:01.191Z"
   },
   {
    "duration": 574,
    "start_time": "2022-02-17T22:10:30.916Z"
   },
   {
    "duration": 572,
    "start_time": "2022-02-17T22:10:38.274Z"
   },
   {
    "duration": 568,
    "start_time": "2022-02-17T22:10:38.279Z"
   },
   {
    "duration": 563,
    "start_time": "2022-02-17T22:10:38.284Z"
   },
   {
    "duration": 561,
    "start_time": "2022-02-17T22:10:38.288Z"
   },
   {
    "duration": 556,
    "start_time": "2022-02-17T22:10:38.294Z"
   },
   {
    "duration": 555,
    "start_time": "2022-02-17T22:10:38.296Z"
   },
   {
    "duration": 548,
    "start_time": "2022-02-17T22:10:38.304Z"
   },
   {
    "duration": 545,
    "start_time": "2022-02-17T22:10:38.308Z"
   },
   {
    "duration": 542,
    "start_time": "2022-02-17T22:10:38.312Z"
   },
   {
    "duration": 539,
    "start_time": "2022-02-17T22:10:38.316Z"
   },
   {
    "duration": 528,
    "start_time": "2022-02-17T22:10:38.327Z"
   },
   {
    "duration": 524,
    "start_time": "2022-02-17T22:10:38.332Z"
   },
   {
    "duration": 520,
    "start_time": "2022-02-17T22:10:38.337Z"
   },
   {
    "duration": 517,
    "start_time": "2022-02-17T22:10:38.341Z"
   },
   {
    "duration": 514,
    "start_time": "2022-02-17T22:10:38.345Z"
   },
   {
    "duration": 512,
    "start_time": "2022-02-17T22:10:38.348Z"
   },
   {
    "duration": 52,
    "start_time": "2022-02-17T22:10:50.431Z"
   },
   {
    "duration": 10,
    "start_time": "2022-02-17T22:10:50.485Z"
   },
   {
    "duration": 6,
    "start_time": "2022-02-17T22:10:50.496Z"
   },
   {
    "duration": 5,
    "start_time": "2022-02-17T22:10:50.504Z"
   },
   {
    "duration": 24,
    "start_time": "2022-02-17T22:10:50.510Z"
   },
   {
    "duration": 5,
    "start_time": "2022-02-17T22:10:50.535Z"
   },
   {
    "duration": 4,
    "start_time": "2022-02-17T22:10:50.542Z"
   },
   {
    "duration": 12,
    "start_time": "2022-02-17T22:10:50.547Z"
   },
   {
    "duration": 5,
    "start_time": "2022-02-17T22:10:50.561Z"
   },
   {
    "duration": 84,
    "start_time": "2022-02-17T22:10:50.568Z"
   },
   {
    "duration": 14,
    "start_time": "2022-02-17T22:10:50.654Z"
   },
   {
    "duration": 40,
    "start_time": "2022-02-17T22:10:50.670Z"
   },
   {
    "duration": 27,
    "start_time": "2022-02-17T22:10:50.711Z"
   },
   {
    "duration": 12,
    "start_time": "2022-02-17T22:10:50.739Z"
   },
   {
    "duration": 7,
    "start_time": "2022-02-17T22:10:50.752Z"
   },
   {
    "duration": 4084,
    "start_time": "2022-02-17T22:10:50.760Z"
   },
   {
    "duration": 34,
    "start_time": "2022-02-17T22:11:07.990Z"
   },
   {
    "duration": 185,
    "start_time": "2022-02-17T22:11:50.802Z"
   },
   {
    "duration": 646,
    "start_time": "2022-02-18T12:15:38.279Z"
   },
   {
    "duration": 18,
    "start_time": "2022-02-18T12:15:38.927Z"
   },
   {
    "duration": 5,
    "start_time": "2022-02-18T12:15:38.947Z"
   },
   {
    "duration": 13,
    "start_time": "2022-02-18T12:15:38.954Z"
   },
   {
    "duration": 9,
    "start_time": "2022-02-18T12:15:38.969Z"
   },
   {
    "duration": 7,
    "start_time": "2022-02-18T12:15:38.980Z"
   },
   {
    "duration": 8,
    "start_time": "2022-02-18T12:15:38.989Z"
   },
   {
    "duration": 37,
    "start_time": "2022-02-18T12:15:38.999Z"
   },
   {
    "duration": 6,
    "start_time": "2022-02-18T12:15:39.039Z"
   },
   {
    "duration": 66,
    "start_time": "2022-02-18T12:15:39.047Z"
   },
   {
    "duration": 23,
    "start_time": "2022-02-18T12:15:39.130Z"
   },
   {
    "duration": 48,
    "start_time": "2022-02-18T12:15:39.155Z"
   },
   {
    "duration": 31,
    "start_time": "2022-02-18T12:15:39.204Z"
   },
   {
    "duration": 13,
    "start_time": "2022-02-18T12:15:39.237Z"
   },
   {
    "duration": 8,
    "start_time": "2022-02-18T12:15:39.252Z"
   },
   {
    "duration": 72,
    "start_time": "2022-02-18T12:15:39.262Z"
   },
   {
    "duration": 40,
    "start_time": "2022-02-18T12:16:54.261Z"
   },
   {
    "duration": 56,
    "start_time": "2022-02-18T12:17:19.080Z"
   },
   {
    "duration": 64,
    "start_time": "2022-02-18T12:17:43.989Z"
   },
   {
    "duration": 75,
    "start_time": "2022-02-18T12:18:00.480Z"
   },
   {
    "duration": 60,
    "start_time": "2022-02-18T12:18:20.990Z"
   },
   {
    "duration": 4,
    "start_time": "2022-02-18T12:28:36.672Z"
   },
   {
    "duration": 8,
    "start_time": "2022-02-18T12:28:43.482Z"
   },
   {
    "duration": 50,
    "start_time": "2022-02-18T13:03:05.678Z"
   },
   {
    "duration": 10,
    "start_time": "2022-02-18T13:03:05.729Z"
   },
   {
    "duration": 3,
    "start_time": "2022-02-18T13:03:05.741Z"
   },
   {
    "duration": 9,
    "start_time": "2022-02-18T13:03:05.747Z"
   },
   {
    "duration": 6,
    "start_time": "2022-02-18T13:03:05.758Z"
   },
   {
    "duration": 9,
    "start_time": "2022-02-18T13:03:05.766Z"
   },
   {
    "duration": 5,
    "start_time": "2022-02-18T13:03:05.777Z"
   },
   {
    "duration": 11,
    "start_time": "2022-02-18T13:03:05.785Z"
   },
   {
    "duration": 34,
    "start_time": "2022-02-18T13:03:05.798Z"
   },
   {
    "duration": 52,
    "start_time": "2022-02-18T13:03:05.834Z"
   },
   {
    "duration": 15,
    "start_time": "2022-02-18T13:03:05.888Z"
   },
   {
    "duration": 61,
    "start_time": "2022-02-18T13:03:05.905Z"
   },
   {
    "duration": 10,
    "start_time": "2022-02-18T13:03:05.968Z"
   },
   {
    "duration": 16,
    "start_time": "2022-02-18T13:03:05.980Z"
   },
   {
    "duration": 17,
    "start_time": "2022-02-18T13:03:05.998Z"
   },
   {
    "duration": 942,
    "start_time": "2022-02-18T13:03:06.017Z"
   },
   {
    "duration": -100,
    "start_time": "2022-02-18T13:03:07.060Z"
   },
   {
    "duration": -102,
    "start_time": "2022-02-18T13:03:07.063Z"
   },
   {
    "duration": 678,
    "start_time": "2022-02-18T13:06:58.058Z"
   },
   {
    "duration": 691,
    "start_time": "2022-02-18T13:08:32.461Z"
   },
   {
    "duration": 765,
    "start_time": "2022-02-18T13:10:22.647Z"
   },
   {
    "duration": 719,
    "start_time": "2022-02-18T13:10:41.707Z"
   },
   {
    "duration": 803,
    "start_time": "2022-02-18T13:13:55.073Z"
   },
   {
    "duration": 25,
    "start_time": "2022-02-18T13:14:47.094Z"
   },
   {
    "duration": 69,
    "start_time": "2022-02-18T13:16:32.465Z"
   },
   {
    "duration": 908,
    "start_time": "2022-02-18T13:17:55.967Z"
   },
   {
    "duration": 824,
    "start_time": "2022-02-18T13:18:11.264Z"
   },
   {
    "duration": 937,
    "start_time": "2022-02-18T13:18:48.833Z"
   },
   {
    "duration": 52,
    "start_time": "2022-02-18T13:19:12.499Z"
   },
   {
    "duration": 9,
    "start_time": "2022-02-18T13:19:12.553Z"
   },
   {
    "duration": 7,
    "start_time": "2022-02-18T13:19:12.564Z"
   },
   {
    "duration": 5,
    "start_time": "2022-02-18T13:19:12.573Z"
   },
   {
    "duration": 6,
    "start_time": "2022-02-18T13:19:12.580Z"
   },
   {
    "duration": 7,
    "start_time": "2022-02-18T13:19:12.587Z"
   },
   {
    "duration": 4,
    "start_time": "2022-02-18T13:19:12.595Z"
   },
   {
    "duration": 12,
    "start_time": "2022-02-18T13:19:12.630Z"
   },
   {
    "duration": 5,
    "start_time": "2022-02-18T13:19:12.644Z"
   },
   {
    "duration": 58,
    "start_time": "2022-02-18T13:19:12.651Z"
   },
   {
    "duration": 31,
    "start_time": "2022-02-18T13:19:12.711Z"
   },
   {
    "duration": 42,
    "start_time": "2022-02-18T13:19:12.744Z"
   },
   {
    "duration": 11,
    "start_time": "2022-02-18T13:19:12.788Z"
   },
   {
    "duration": 36,
    "start_time": "2022-02-18T13:19:12.800Z"
   },
   {
    "duration": 6,
    "start_time": "2022-02-18T13:19:12.838Z"
   },
   {
    "duration": 29,
    "start_time": "2022-02-18T13:19:12.845Z"
   },
   {
    "duration": 7,
    "start_time": "2022-02-18T13:19:12.876Z"
   },
   {
    "duration": 70,
    "start_time": "2022-02-18T13:19:12.885Z"
   },
   {
    "duration": 50,
    "start_time": "2022-02-18T13:20:03.324Z"
   },
   {
    "duration": 8,
    "start_time": "2022-02-18T13:20:03.376Z"
   },
   {
    "duration": 4,
    "start_time": "2022-02-18T13:20:03.386Z"
   },
   {
    "duration": 5,
    "start_time": "2022-02-18T13:20:03.392Z"
   },
   {
    "duration": 33,
    "start_time": "2022-02-18T13:20:03.399Z"
   },
   {
    "duration": 6,
    "start_time": "2022-02-18T13:20:03.434Z"
   },
   {
    "duration": 9,
    "start_time": "2022-02-18T13:20:03.441Z"
   },
   {
    "duration": 15,
    "start_time": "2022-02-18T13:20:03.451Z"
   },
   {
    "duration": 10,
    "start_time": "2022-02-18T13:20:03.468Z"
   },
   {
    "duration": 72,
    "start_time": "2022-02-18T13:20:03.480Z"
   },
   {
    "duration": 14,
    "start_time": "2022-02-18T13:20:03.555Z"
   },
   {
    "duration": 40,
    "start_time": "2022-02-18T13:20:03.570Z"
   },
   {
    "duration": 28,
    "start_time": "2022-02-18T13:20:03.612Z"
   },
   {
    "duration": 11,
    "start_time": "2022-02-18T13:20:03.643Z"
   },
   {
    "duration": 6,
    "start_time": "2022-02-18T13:20:03.656Z"
   },
   {
    "duration": 26,
    "start_time": "2022-02-18T13:20:03.664Z"
   },
   {
    "duration": 43,
    "start_time": "2022-02-18T13:20:03.692Z"
   },
   {
    "duration": 55,
    "start_time": "2022-02-18T13:20:03.737Z"
   },
   {
    "duration": 49,
    "start_time": "2022-02-18T13:20:58.146Z"
   },
   {
    "duration": 9,
    "start_time": "2022-02-18T13:20:58.197Z"
   },
   {
    "duration": 5,
    "start_time": "2022-02-18T13:20:58.207Z"
   },
   {
    "duration": 4,
    "start_time": "2022-02-18T13:20:58.214Z"
   },
   {
    "duration": 10,
    "start_time": "2022-02-18T13:20:58.220Z"
   },
   {
    "duration": 12,
    "start_time": "2022-02-18T13:20:58.232Z"
   },
   {
    "duration": 9,
    "start_time": "2022-02-18T13:20:58.246Z"
   },
   {
    "duration": 12,
    "start_time": "2022-02-18T13:20:58.257Z"
   },
   {
    "duration": 5,
    "start_time": "2022-02-18T13:20:58.271Z"
   },
   {
    "duration": 72,
    "start_time": "2022-02-18T13:20:58.278Z"
   },
   {
    "duration": 15,
    "start_time": "2022-02-18T13:20:58.352Z"
   },
   {
    "duration": 62,
    "start_time": "2022-02-18T13:20:58.369Z"
   },
   {
    "duration": 12,
    "start_time": "2022-02-18T13:20:58.432Z"
   },
   {
    "duration": 10,
    "start_time": "2022-02-18T13:20:58.446Z"
   },
   {
    "duration": 8,
    "start_time": "2022-02-18T13:20:58.458Z"
   },
   {
    "duration": 13,
    "start_time": "2022-02-18T13:20:58.468Z"
   },
   {
    "duration": 8,
    "start_time": "2022-02-18T13:20:58.482Z"
   },
   {
    "duration": 66,
    "start_time": "2022-02-18T13:20:58.491Z"
   },
   {
    "duration": 4,
    "start_time": "2022-02-18T13:21:10.236Z"
   },
   {
    "duration": 6,
    "start_time": "2022-02-18T13:21:20.138Z"
   },
   {
    "duration": 52,
    "start_time": "2022-02-18T13:21:56.048Z"
   },
   {
    "duration": 9,
    "start_time": "2022-02-18T13:21:56.102Z"
   },
   {
    "duration": 4,
    "start_time": "2022-02-18T13:21:56.113Z"
   },
   {
    "duration": 5,
    "start_time": "2022-02-18T13:21:56.119Z"
   },
   {
    "duration": 8,
    "start_time": "2022-02-18T13:21:56.125Z"
   },
   {
    "duration": 7,
    "start_time": "2022-02-18T13:21:56.135Z"
   },
   {
    "duration": 5,
    "start_time": "2022-02-18T13:21:56.143Z"
   },
   {
    "duration": 15,
    "start_time": "2022-02-18T13:21:56.150Z"
   },
   {
    "duration": 6,
    "start_time": "2022-02-18T13:21:56.167Z"
   },
   {
    "duration": 83,
    "start_time": "2022-02-18T13:21:56.174Z"
   },
   {
    "duration": 16,
    "start_time": "2022-02-18T13:21:56.259Z"
   },
   {
    "duration": 65,
    "start_time": "2022-02-18T13:21:56.276Z"
   },
   {
    "duration": 10,
    "start_time": "2022-02-18T13:21:56.342Z"
   },
   {
    "duration": 10,
    "start_time": "2022-02-18T13:21:56.354Z"
   },
   {
    "duration": 6,
    "start_time": "2022-02-18T13:21:56.365Z"
   },
   {
    "duration": 212,
    "start_time": "2022-02-18T13:21:56.372Z"
   },
   {
    "duration": 6,
    "start_time": "2022-02-18T13:21:56.586Z"
   },
   {
    "duration": 110,
    "start_time": "2022-02-18T13:21:56.594Z"
   },
   {
    "duration": 52,
    "start_time": "2022-02-18T13:22:06.226Z"
   },
   {
    "duration": 9,
    "start_time": "2022-02-18T13:22:06.280Z"
   },
   {
    "duration": 4,
    "start_time": "2022-02-18T13:22:06.292Z"
   },
   {
    "duration": 7,
    "start_time": "2022-02-18T13:22:06.297Z"
   },
   {
    "duration": 27,
    "start_time": "2022-02-18T13:22:06.306Z"
   },
   {
    "duration": 7,
    "start_time": "2022-02-18T13:22:06.334Z"
   },
   {
    "duration": 5,
    "start_time": "2022-02-18T13:22:06.342Z"
   },
   {
    "duration": 12,
    "start_time": "2022-02-18T13:22:06.349Z"
   },
   {
    "duration": 8,
    "start_time": "2022-02-18T13:22:06.364Z"
   },
   {
    "duration": 84,
    "start_time": "2022-02-18T13:22:06.374Z"
   },
   {
    "duration": 15,
    "start_time": "2022-02-18T13:22:06.459Z"
   },
   {
    "duration": 55,
    "start_time": "2022-02-18T13:22:06.475Z"
   },
   {
    "duration": 11,
    "start_time": "2022-02-18T13:22:06.532Z"
   },
   {
    "duration": 13,
    "start_time": "2022-02-18T13:22:06.544Z"
   },
   {
    "duration": 6,
    "start_time": "2022-02-18T13:22:06.558Z"
   },
   {
    "duration": 18,
    "start_time": "2022-02-18T13:22:06.566Z"
   },
   {
    "duration": 7,
    "start_time": "2022-02-18T13:22:06.585Z"
   },
   {
    "duration": 75,
    "start_time": "2022-02-18T13:22:06.594Z"
   },
   {
    "duration": 50,
    "start_time": "2022-02-18T13:22:59.367Z"
   },
   {
    "duration": 10,
    "start_time": "2022-02-18T13:22:59.419Z"
   },
   {
    "duration": 13,
    "start_time": "2022-02-18T13:22:59.431Z"
   },
   {
    "duration": 13,
    "start_time": "2022-02-18T13:22:59.446Z"
   },
   {
    "duration": 9,
    "start_time": "2022-02-18T13:22:59.461Z"
   },
   {
    "duration": 12,
    "start_time": "2022-02-18T13:22:59.471Z"
   },
   {
    "duration": 7,
    "start_time": "2022-02-18T13:22:59.484Z"
   },
   {
    "duration": 12,
    "start_time": "2022-02-18T13:22:59.492Z"
   },
   {
    "duration": 6,
    "start_time": "2022-02-18T13:22:59.506Z"
   },
   {
    "duration": 64,
    "start_time": "2022-02-18T13:22:59.513Z"
   },
   {
    "duration": 14,
    "start_time": "2022-02-18T13:22:59.578Z"
   },
   {
    "duration": 51,
    "start_time": "2022-02-18T13:22:59.594Z"
   },
   {
    "duration": 10,
    "start_time": "2022-02-18T13:22:59.647Z"
   },
   {
    "duration": 12,
    "start_time": "2022-02-18T13:22:59.658Z"
   },
   {
    "duration": 5,
    "start_time": "2022-02-18T13:22:59.671Z"
   },
   {
    "duration": 19,
    "start_time": "2022-02-18T13:22:59.678Z"
   },
   {
    "duration": 31,
    "start_time": "2022-02-18T13:22:59.699Z"
   },
   {
    "duration": 57,
    "start_time": "2022-02-18T13:22:59.732Z"
   },
   {
    "duration": 2360,
    "start_time": "2022-02-18T13:23:16.927Z"
   },
   {
    "duration": 51,
    "start_time": "2022-02-18T13:23:19.729Z"
   },
   {
    "duration": 9,
    "start_time": "2022-02-18T13:23:19.781Z"
   },
   {
    "duration": 7,
    "start_time": "2022-02-18T13:23:19.792Z"
   },
   {
    "duration": 11,
    "start_time": "2022-02-18T13:23:19.801Z"
   },
   {
    "duration": 19,
    "start_time": "2022-02-18T13:23:19.814Z"
   },
   {
    "duration": 5,
    "start_time": "2022-02-18T13:23:19.835Z"
   },
   {
    "duration": 5,
    "start_time": "2022-02-18T13:23:19.842Z"
   },
   {
    "duration": 17,
    "start_time": "2022-02-18T13:23:19.849Z"
   },
   {
    "duration": 6,
    "start_time": "2022-02-18T13:23:19.868Z"
   },
   {
    "duration": 80,
    "start_time": "2022-02-18T13:23:19.876Z"
   },
   {
    "duration": 15,
    "start_time": "2022-02-18T13:23:19.957Z"
   },
   {
    "duration": 57,
    "start_time": "2022-02-18T13:23:19.974Z"
   },
   {
    "duration": 12,
    "start_time": "2022-02-18T13:23:20.033Z"
   },
   {
    "duration": 12,
    "start_time": "2022-02-18T13:23:20.046Z"
   },
   {
    "duration": 7,
    "start_time": "2022-02-18T13:23:20.060Z"
   },
   {
    "duration": 214,
    "start_time": "2022-02-18T13:23:20.069Z"
   },
   {
    "duration": 9,
    "start_time": "2022-02-18T13:23:20.285Z"
   },
   {
    "duration": 63,
    "start_time": "2022-02-18T13:23:20.295Z"
   },
   {
    "duration": 52,
    "start_time": "2022-02-18T13:23:51.977Z"
   },
   {
    "duration": 11,
    "start_time": "2022-02-18T13:23:52.032Z"
   },
   {
    "duration": 6,
    "start_time": "2022-02-18T13:23:52.045Z"
   },
   {
    "duration": 5,
    "start_time": "2022-02-18T13:23:52.053Z"
   },
   {
    "duration": 5,
    "start_time": "2022-02-18T13:23:52.060Z"
   },
   {
    "duration": 6,
    "start_time": "2022-02-18T13:23:52.067Z"
   },
   {
    "duration": 4,
    "start_time": "2022-02-18T13:23:52.074Z"
   },
   {
    "duration": 44,
    "start_time": "2022-02-18T13:23:52.089Z"
   },
   {
    "duration": 5,
    "start_time": "2022-02-18T13:23:52.135Z"
   },
   {
    "duration": 52,
    "start_time": "2022-02-18T13:23:52.142Z"
   },
   {
    "duration": 34,
    "start_time": "2022-02-18T13:23:52.196Z"
   },
   {
    "duration": 40,
    "start_time": "2022-02-18T13:23:52.232Z"
   },
   {
    "duration": 10,
    "start_time": "2022-02-18T13:23:52.274Z"
   },
   {
    "duration": 11,
    "start_time": "2022-02-18T13:23:52.286Z"
   },
   {
    "duration": 32,
    "start_time": "2022-02-18T13:23:52.298Z"
   },
   {
    "duration": 27,
    "start_time": "2022-02-18T13:23:52.332Z"
   },
   {
    "duration": 7,
    "start_time": "2022-02-18T13:23:52.361Z"
   },
   {
    "duration": 63,
    "start_time": "2022-02-18T13:23:52.370Z"
   },
   {
    "duration": 263,
    "start_time": "2022-02-18T13:24:02.842Z"
   },
   {
    "duration": 12,
    "start_time": "2022-02-18T13:24:14.546Z"
   },
   {
    "duration": 66,
    "start_time": "2022-02-18T13:25:58.796Z"
   },
   {
    "duration": 13,
    "start_time": "2022-02-18T13:26:03.408Z"
   },
   {
    "duration": 202,
    "start_time": "2022-02-18T13:28:53.946Z"
   },
   {
    "duration": 50,
    "start_time": "2022-02-18T13:29:14.726Z"
   },
   {
    "duration": 54,
    "start_time": "2022-02-18T13:29:34.230Z"
   },
   {
    "duration": 11,
    "start_time": "2022-02-18T13:29:34.286Z"
   },
   {
    "duration": 5,
    "start_time": "2022-02-18T13:29:34.299Z"
   },
   {
    "duration": 5,
    "start_time": "2022-02-18T13:29:34.306Z"
   },
   {
    "duration": 6,
    "start_time": "2022-02-18T13:29:34.331Z"
   },
   {
    "duration": 5,
    "start_time": "2022-02-18T13:29:34.339Z"
   },
   {
    "duration": 4,
    "start_time": "2022-02-18T13:29:34.345Z"
   },
   {
    "duration": 11,
    "start_time": "2022-02-18T13:29:34.442Z"
   },
   {
    "duration": 5,
    "start_time": "2022-02-18T13:29:34.455Z"
   },
   {
    "duration": 50,
    "start_time": "2022-02-18T13:29:34.462Z"
   },
   {
    "duration": 23,
    "start_time": "2022-02-18T13:29:34.514Z"
   },
   {
    "duration": 41,
    "start_time": "2022-02-18T13:29:34.538Z"
   },
   {
    "duration": 10,
    "start_time": "2022-02-18T13:29:34.581Z"
   },
   {
    "duration": 10,
    "start_time": "2022-02-18T13:29:34.593Z"
   },
   {
    "duration": 30,
    "start_time": "2022-02-18T13:29:34.605Z"
   },
   {
    "duration": 17,
    "start_time": "2022-02-18T13:29:34.638Z"
   },
   {
    "duration": 8,
    "start_time": "2022-02-18T13:29:34.656Z"
   },
   {
    "duration": 63,
    "start_time": "2022-02-18T13:29:34.666Z"
   },
   {
    "duration": 7,
    "start_time": "2022-02-18T13:34:31.227Z"
   },
   {
    "duration": 27,
    "start_time": "2022-02-18T13:40:04.036Z"
   },
   {
    "duration": 226,
    "start_time": "2022-02-18T13:45:49.778Z"
   },
   {
    "duration": 23,
    "start_time": "2022-02-18T13:45:56.630Z"
   },
   {
    "duration": 18,
    "start_time": "2022-02-18T13:46:11.315Z"
   },
   {
    "duration": 187,
    "start_time": "2022-02-18T13:50:24.639Z"
   },
   {
    "duration": 192,
    "start_time": "2022-02-18T13:50:38.558Z"
   },
   {
    "duration": 52,
    "start_time": "2022-02-18T13:51:15.199Z"
   },
   {
    "duration": 10,
    "start_time": "2022-02-18T13:51:15.252Z"
   },
   {
    "duration": 5,
    "start_time": "2022-02-18T13:51:15.264Z"
   },
   {
    "duration": 6,
    "start_time": "2022-02-18T13:51:15.270Z"
   },
   {
    "duration": 7,
    "start_time": "2022-02-18T13:51:15.277Z"
   },
   {
    "duration": 5,
    "start_time": "2022-02-18T13:51:15.286Z"
   },
   {
    "duration": 4,
    "start_time": "2022-02-18T13:51:15.293Z"
   },
   {
    "duration": 40,
    "start_time": "2022-02-18T13:51:15.299Z"
   },
   {
    "duration": 5,
    "start_time": "2022-02-18T13:51:15.341Z"
   },
   {
    "duration": 53,
    "start_time": "2022-02-18T13:51:15.347Z"
   },
   {
    "duration": 39,
    "start_time": "2022-02-18T13:51:15.402Z"
   },
   {
    "duration": 37,
    "start_time": "2022-02-18T13:51:15.442Z"
   },
   {
    "duration": 9,
    "start_time": "2022-02-18T13:51:15.481Z"
   },
   {
    "duration": 10,
    "start_time": "2022-02-18T13:51:15.492Z"
   },
   {
    "duration": 30,
    "start_time": "2022-02-18T13:51:15.504Z"
   },
   {
    "duration": 14,
    "start_time": "2022-02-18T13:51:15.536Z"
   },
   {
    "duration": 9,
    "start_time": "2022-02-18T13:51:15.552Z"
   },
   {
    "duration": 12,
    "start_time": "2022-02-18T13:51:15.563Z"
   },
   {
    "duration": 13,
    "start_time": "2022-02-18T13:51:15.577Z"
   },
   {
    "duration": 177,
    "start_time": "2022-02-18T13:51:24.988Z"
   },
   {
    "duration": 53,
    "start_time": "2022-02-18T13:51:52.298Z"
   },
   {
    "duration": 9,
    "start_time": "2022-02-18T13:51:52.353Z"
   },
   {
    "duration": 6,
    "start_time": "2022-02-18T13:51:52.364Z"
   },
   {
    "duration": 6,
    "start_time": "2022-02-18T13:51:52.372Z"
   },
   {
    "duration": 11,
    "start_time": "2022-02-18T13:51:52.380Z"
   },
   {
    "duration": 5,
    "start_time": "2022-02-18T13:51:52.392Z"
   },
   {
    "duration": 31,
    "start_time": "2022-02-18T13:51:52.399Z"
   },
   {
    "duration": 10,
    "start_time": "2022-02-18T13:51:52.432Z"
   },
   {
    "duration": 6,
    "start_time": "2022-02-18T13:51:52.444Z"
   },
   {
    "duration": 55,
    "start_time": "2022-02-18T13:51:52.452Z"
   },
   {
    "duration": 36,
    "start_time": "2022-02-18T13:51:52.509Z"
   },
   {
    "duration": 44,
    "start_time": "2022-02-18T13:51:52.547Z"
   },
   {
    "duration": 39,
    "start_time": "2022-02-18T13:51:52.592Z"
   },
   {
    "duration": 13,
    "start_time": "2022-02-18T13:51:52.633Z"
   },
   {
    "duration": 7,
    "start_time": "2022-02-18T13:51:52.648Z"
   },
   {
    "duration": 14,
    "start_time": "2022-02-18T13:51:52.656Z"
   },
   {
    "duration": 9,
    "start_time": "2022-02-18T13:51:52.672Z"
   },
   {
    "duration": 28,
    "start_time": "2022-02-18T13:52:05.007Z"
   },
   {
    "duration": 22,
    "start_time": "2022-02-18T13:52:47.200Z"
   },
   {
    "duration": 56,
    "start_time": "2022-02-18T14:03:48.628Z"
   },
   {
    "duration": 10,
    "start_time": "2022-02-18T14:03:48.686Z"
   },
   {
    "duration": 5,
    "start_time": "2022-02-18T14:03:48.698Z"
   },
   {
    "duration": 6,
    "start_time": "2022-02-18T14:03:48.705Z"
   },
   {
    "duration": 21,
    "start_time": "2022-02-18T14:03:48.712Z"
   },
   {
    "duration": 5,
    "start_time": "2022-02-18T14:03:48.734Z"
   },
   {
    "duration": 4,
    "start_time": "2022-02-18T14:03:48.741Z"
   },
   {
    "duration": 16,
    "start_time": "2022-02-18T14:03:48.747Z"
   },
   {
    "duration": 6,
    "start_time": "2022-02-18T14:03:48.765Z"
   },
   {
    "duration": 84,
    "start_time": "2022-02-18T14:03:48.773Z"
   },
   {
    "duration": 14,
    "start_time": "2022-02-18T14:03:48.859Z"
   },
   {
    "duration": 40,
    "start_time": "2022-02-18T14:03:48.874Z"
   },
   {
    "duration": 11,
    "start_time": "2022-02-18T14:03:48.931Z"
   },
   {
    "duration": 11,
    "start_time": "2022-02-18T14:03:48.943Z"
   },
   {
    "duration": 8,
    "start_time": "2022-02-18T14:03:48.955Z"
   },
   {
    "duration": 6,
    "start_time": "2022-02-18T14:06:07.645Z"
   },
   {
    "duration": 51,
    "start_time": "2022-02-18T14:13:01.789Z"
   },
   {
    "duration": 10,
    "start_time": "2022-02-18T14:13:01.841Z"
   },
   {
    "duration": 5,
    "start_time": "2022-02-18T14:13:01.852Z"
   },
   {
    "duration": 11,
    "start_time": "2022-02-18T14:13:01.858Z"
   },
   {
    "duration": 7,
    "start_time": "2022-02-18T14:13:01.871Z"
   },
   {
    "duration": 8,
    "start_time": "2022-02-18T14:13:01.879Z"
   },
   {
    "duration": 6,
    "start_time": "2022-02-18T14:13:01.889Z"
   },
   {
    "duration": 38,
    "start_time": "2022-02-18T14:13:01.896Z"
   },
   {
    "duration": 5,
    "start_time": "2022-02-18T14:13:01.937Z"
   },
   {
    "duration": 56,
    "start_time": "2022-02-18T14:13:01.944Z"
   },
   {
    "duration": 30,
    "start_time": "2022-02-18T14:13:02.001Z"
   },
   {
    "duration": 39,
    "start_time": "2022-02-18T14:13:02.033Z"
   },
   {
    "duration": 11,
    "start_time": "2022-02-18T14:13:02.074Z"
   },
   {
    "duration": 13,
    "start_time": "2022-02-18T14:13:02.086Z"
   },
   {
    "duration": 31,
    "start_time": "2022-02-18T14:13:02.100Z"
   },
   {
    "duration": 13,
    "start_time": "2022-02-18T14:13:02.133Z"
   },
   {
    "duration": 10,
    "start_time": "2022-02-18T14:13:02.147Z"
   },
   {
    "duration": 27,
    "start_time": "2022-02-18T14:13:02.158Z"
   },
   {
    "duration": 19,
    "start_time": "2022-02-18T14:13:02.187Z"
   },
   {
    "duration": 179,
    "start_time": "2022-02-18T14:35:21.536Z"
   },
   {
    "duration": 173,
    "start_time": "2022-02-18T14:35:46.246Z"
   },
   {
    "duration": 181,
    "start_time": "2022-02-18T14:35:53.546Z"
   },
   {
    "duration": 169,
    "start_time": "2022-02-18T14:36:05.073Z"
   },
   {
    "duration": 59,
    "start_time": "2022-02-18T14:36:17.026Z"
   },
   {
    "duration": 62,
    "start_time": "2022-02-18T14:36:30.285Z"
   },
   {
    "duration": 167,
    "start_time": "2022-02-18T14:36:41.815Z"
   },
   {
    "duration": 175,
    "start_time": "2022-02-18T14:36:50.064Z"
   },
   {
    "duration": 209,
    "start_time": "2022-02-18T14:36:58.833Z"
   },
   {
    "duration": 317,
    "start_time": "2022-02-18T14:37:04.792Z"
   },
   {
    "duration": 168,
    "start_time": "2022-02-18T14:37:11.124Z"
   },
   {
    "duration": 1213,
    "start_time": "2022-02-18T14:37:17.374Z"
   },
   {
    "duration": 176,
    "start_time": "2022-02-18T14:41:56.854Z"
   },
   {
    "duration": 166,
    "start_time": "2022-02-18T14:42:02.565Z"
   },
   {
    "duration": 243,
    "start_time": "2022-02-18T14:42:13.110Z"
   },
   {
    "duration": 196,
    "start_time": "2022-02-18T14:42:16.705Z"
   },
   {
    "duration": 173,
    "start_time": "2022-02-18T14:43:55.206Z"
   },
   {
    "duration": 308,
    "start_time": "2022-02-18T14:44:01.754Z"
   },
   {
    "duration": 136,
    "start_time": "2022-02-18T14:44:50.304Z"
   },
   {
    "duration": 397,
    "start_time": "2022-02-18T14:44:52.442Z"
   },
   {
    "duration": 176,
    "start_time": "2022-02-18T14:45:00.753Z"
   },
   {
    "duration": 186,
    "start_time": "2022-02-18T14:48:19.522Z"
   },
   {
    "duration": 237,
    "start_time": "2022-02-18T14:48:24.686Z"
   },
   {
    "duration": 197,
    "start_time": "2022-02-18T14:48:31.454Z"
   },
   {
    "duration": 23,
    "start_time": "2022-02-18T14:49:17.095Z"
   },
   {
    "duration": 24,
    "start_time": "2022-02-18T14:49:31.143Z"
   },
   {
    "duration": 170,
    "start_time": "2022-02-18T14:49:36.945Z"
   },
   {
    "duration": 189,
    "start_time": "2022-02-18T14:49:39.144Z"
   },
   {
    "duration": 68,
    "start_time": "2022-02-18T14:49:44.827Z"
   },
   {
    "duration": 23,
    "start_time": "2022-02-18T14:49:49.166Z"
   },
   {
    "duration": 25,
    "start_time": "2022-02-18T14:49:54.691Z"
   },
   {
    "duration": 24,
    "start_time": "2022-02-18T14:49:58.783Z"
   },
   {
    "duration": 178,
    "start_time": "2022-02-18T14:50:44.665Z"
   },
   {
    "duration": 27,
    "start_time": "2022-02-18T14:51:03.023Z"
   },
   {
    "duration": 22,
    "start_time": "2022-02-18T14:51:15.195Z"
   },
   {
    "duration": 194,
    "start_time": "2022-02-18T14:52:28.454Z"
   },
   {
    "duration": 1242,
    "start_time": "2022-02-18T14:52:33.188Z"
   },
   {
    "duration": 64,
    "start_time": "2022-02-18T14:52:46.486Z"
   },
   {
    "duration": 171,
    "start_time": "2022-02-18T14:52:48.376Z"
   },
   {
    "duration": 59,
    "start_time": "2022-02-18T15:56:50.927Z"
   },
   {
    "duration": 58,
    "start_time": "2022-02-18T15:57:05.616Z"
   },
   {
    "duration": 31,
    "start_time": "2022-02-18T15:57:12.540Z"
   },
   {
    "duration": 31,
    "start_time": "2022-02-18T15:58:14.595Z"
   },
   {
    "duration": 1606,
    "start_time": "2022-02-18T15:58:29.259Z"
   },
   {
    "duration": 56,
    "start_time": "2022-02-18T15:58:34.238Z"
   },
   {
    "duration": 1561,
    "start_time": "2022-02-18T15:58:36.213Z"
   },
   {
    "duration": 1521,
    "start_time": "2022-02-18T15:58:44.449Z"
   },
   {
    "duration": 27,
    "start_time": "2022-02-18T15:59:37.757Z"
   },
   {
    "duration": 24,
    "start_time": "2022-02-18T16:00:05.755Z"
   },
   {
    "duration": 379,
    "start_time": "2022-02-18T16:01:33.589Z"
   },
   {
    "duration": 1526,
    "start_time": "2022-02-18T16:01:52.699Z"
   },
   {
    "duration": 1615,
    "start_time": "2022-02-18T16:02:06.305Z"
   },
   {
    "duration": 331,
    "start_time": "2022-02-18T16:02:16.309Z"
   },
   {
    "duration": 25,
    "start_time": "2022-02-18T16:02:39.137Z"
   },
   {
    "duration": 32,
    "start_time": "2022-02-18T16:02:55.696Z"
   },
   {
    "duration": 25,
    "start_time": "2022-02-18T16:03:02.293Z"
   },
   {
    "duration": 23,
    "start_time": "2022-02-18T16:03:37.406Z"
   },
   {
    "duration": 24,
    "start_time": "2022-02-18T16:04:03.306Z"
   },
   {
    "duration": 24,
    "start_time": "2022-02-18T16:04:11.179Z"
   },
   {
    "duration": 24,
    "start_time": "2022-02-18T16:06:29.877Z"
   },
   {
    "duration": 23,
    "start_time": "2022-02-18T16:06:38.997Z"
   },
   {
    "duration": 205,
    "start_time": "2022-02-18T16:07:10.558Z"
   },
   {
    "duration": 19,
    "start_time": "2022-02-18T16:07:13.396Z"
   },
   {
    "duration": 2447,
    "start_time": "2022-02-18T16:07:24.730Z"
   },
   {
    "duration": 2321,
    "start_time": "2022-02-18T16:07:35.208Z"
   },
   {
    "duration": 21,
    "start_time": "2022-02-18T16:07:40.537Z"
   },
   {
    "duration": 24,
    "start_time": "2022-02-18T16:07:43.250Z"
   },
   {
    "duration": 242,
    "start_time": "2022-02-18T16:07:52.848Z"
   },
   {
    "duration": 4883,
    "start_time": "2022-02-18T16:07:58.735Z"
   },
   {
    "duration": 28,
    "start_time": "2022-02-18T16:08:07.128Z"
   },
   {
    "duration": 23,
    "start_time": "2022-02-18T16:08:37.767Z"
   },
   {
    "duration": 20,
    "start_time": "2022-02-18T16:08:40.915Z"
   },
   {
    "duration": 19,
    "start_time": "2022-02-18T16:08:45.319Z"
   },
   {
    "duration": 20,
    "start_time": "2022-02-18T16:08:51.978Z"
   },
   {
    "duration": 201,
    "start_time": "2022-02-18T16:09:06.918Z"
   },
   {
    "duration": 22,
    "start_time": "2022-02-18T16:09:17.896Z"
   },
   {
    "duration": 191,
    "start_time": "2022-02-18T16:09:24.836Z"
   },
   {
    "duration": 23,
    "start_time": "2022-02-18T16:09:29.930Z"
   },
   {
    "duration": 23,
    "start_time": "2022-02-18T16:11:15.666Z"
   },
   {
    "duration": 27,
    "start_time": "2022-02-18T16:12:26.086Z"
   },
   {
    "duration": 33,
    "start_time": "2022-02-18T16:13:19.705Z"
   },
   {
    "duration": 33,
    "start_time": "2022-02-18T16:14:10.560Z"
   },
   {
    "duration": 25,
    "start_time": "2022-02-18T16:14:15.499Z"
   },
   {
    "duration": 25,
    "start_time": "2022-02-18T16:14:17.828Z"
   },
   {
    "duration": 6,
    "start_time": "2022-02-18T16:16:24.026Z"
   },
   {
    "duration": 17,
    "start_time": "2022-02-18T16:16:27.486Z"
   },
   {
    "duration": 59,
    "start_time": "2022-02-18T16:16:36.495Z"
   },
   {
    "duration": 10,
    "start_time": "2022-02-18T16:16:36.556Z"
   },
   {
    "duration": 4,
    "start_time": "2022-02-18T16:16:36.568Z"
   },
   {
    "duration": 6,
    "start_time": "2022-02-18T16:16:36.574Z"
   },
   {
    "duration": 14,
    "start_time": "2022-02-18T16:16:36.582Z"
   },
   {
    "duration": 6,
    "start_time": "2022-02-18T16:16:36.597Z"
   },
   {
    "duration": 29,
    "start_time": "2022-02-18T16:16:36.604Z"
   },
   {
    "duration": 16,
    "start_time": "2022-02-18T16:16:36.635Z"
   },
   {
    "duration": 16,
    "start_time": "2022-02-18T16:16:36.653Z"
   },
   {
    "duration": 60,
    "start_time": "2022-02-18T16:16:36.671Z"
   },
   {
    "duration": 20,
    "start_time": "2022-02-18T16:16:36.733Z"
   },
   {
    "duration": 14,
    "start_time": "2022-02-18T16:16:36.755Z"
   },
   {
    "duration": 61,
    "start_time": "2022-02-18T16:16:36.771Z"
   },
   {
    "duration": 12,
    "start_time": "2022-02-18T16:16:36.833Z"
   },
   {
    "duration": 11,
    "start_time": "2022-02-18T16:16:36.846Z"
   },
   {
    "duration": 5,
    "start_time": "2022-02-18T16:16:36.859Z"
   },
   {
    "duration": 13,
    "start_time": "2022-02-18T16:16:36.866Z"
   },
   {
    "duration": 7,
    "start_time": "2022-02-18T16:16:36.881Z"
   },
   {
    "duration": 61,
    "start_time": "2022-02-18T16:16:36.890Z"
   },
   {
    "duration": 22,
    "start_time": "2022-02-18T16:16:36.953Z"
   },
   {
    "duration": 24,
    "start_time": "2022-02-18T16:16:36.976Z"
   },
   {
    "duration": 30,
    "start_time": "2022-02-18T16:16:50.126Z"
   },
   {
    "duration": 23,
    "start_time": "2022-02-18T16:17:35.265Z"
   },
   {
    "duration": 23,
    "start_time": "2022-02-18T16:18:09.488Z"
   },
   {
    "duration": 231,
    "start_time": "2022-02-18T16:18:35.356Z"
   },
   {
    "duration": 24,
    "start_time": "2022-02-18T16:19:35.876Z"
   },
   {
    "duration": 176,
    "start_time": "2022-02-18T16:22:46.096Z"
   },
   {
    "duration": 599,
    "start_time": "2022-02-18T16:22:50.540Z"
   },
   {
    "duration": 27,
    "start_time": "2022-02-18T16:22:59.726Z"
   },
   {
    "duration": 54,
    "start_time": "2022-02-18T16:23:15.150Z"
   },
   {
    "duration": 56,
    "start_time": "2022-02-18T16:24:00.810Z"
   },
   {
    "duration": 58,
    "start_time": "2022-02-18T16:24:05.026Z"
   },
   {
    "duration": 57,
    "start_time": "2022-02-18T16:24:11.998Z"
   },
   {
    "duration": 55,
    "start_time": "2022-02-18T16:24:31.947Z"
   },
   {
    "duration": 171,
    "start_time": "2022-02-18T16:24:36.830Z"
   },
   {
    "duration": 15,
    "start_time": "2022-02-18T16:24:45.106Z"
   },
   {
    "duration": 182,
    "start_time": "2022-02-18T16:25:00.229Z"
   },
   {
    "duration": 15,
    "start_time": "2022-02-18T16:25:06.980Z"
   },
   {
    "duration": 13,
    "start_time": "2022-02-18T16:25:21.407Z"
   },
   {
    "duration": 15,
    "start_time": "2022-02-18T16:25:48.275Z"
   },
   {
    "duration": 10,
    "start_time": "2022-02-18T16:26:33.770Z"
   },
   {
    "duration": 12,
    "start_time": "2022-02-18T16:26:38.450Z"
   },
   {
    "duration": 13,
    "start_time": "2022-02-18T16:26:46.657Z"
   },
   {
    "duration": 14,
    "start_time": "2022-02-18T16:27:51.219Z"
   },
   {
    "duration": 14,
    "start_time": "2022-02-18T16:27:59.907Z"
   },
   {
    "duration": 15,
    "start_time": "2022-02-18T16:29:17.400Z"
   },
   {
    "duration": 14,
    "start_time": "2022-02-18T16:30:07.737Z"
   },
   {
    "duration": 14,
    "start_time": "2022-02-18T16:40:34.958Z"
   },
   {
    "duration": 171,
    "start_time": "2022-02-18T16:41:33.600Z"
   },
   {
    "duration": 19,
    "start_time": "2022-02-18T16:41:39.057Z"
   },
   {
    "duration": 16,
    "start_time": "2022-02-18T16:42:09.419Z"
   },
   {
    "duration": 17,
    "start_time": "2022-02-18T16:42:14.388Z"
   },
   {
    "duration": 192,
    "start_time": "2022-02-18T16:45:53.036Z"
   },
   {
    "duration": 60,
    "start_time": "2022-02-18T16:45:59.221Z"
   },
   {
    "duration": 10,
    "start_time": "2022-02-18T16:45:59.282Z"
   },
   {
    "duration": 5,
    "start_time": "2022-02-18T16:45:59.294Z"
   },
   {
    "duration": 31,
    "start_time": "2022-02-18T16:45:59.301Z"
   },
   {
    "duration": 6,
    "start_time": "2022-02-18T16:45:59.334Z"
   },
   {
    "duration": 6,
    "start_time": "2022-02-18T16:45:59.342Z"
   },
   {
    "duration": 4,
    "start_time": "2022-02-18T16:45:59.350Z"
   },
   {
    "duration": 11,
    "start_time": "2022-02-18T16:45:59.357Z"
   },
   {
    "duration": 6,
    "start_time": "2022-02-18T16:45:59.370Z"
   },
   {
    "duration": 91,
    "start_time": "2022-02-18T16:45:59.377Z"
   },
   {
    "duration": 24,
    "start_time": "2022-02-18T16:45:59.470Z"
   },
   {
    "duration": 35,
    "start_time": "2022-02-18T16:45:59.495Z"
   },
   {
    "duration": 41,
    "start_time": "2022-02-18T16:45:59.532Z"
   },
   {
    "duration": 12,
    "start_time": "2022-02-18T16:45:59.575Z"
   },
   {
    "duration": 11,
    "start_time": "2022-02-18T16:45:59.589Z"
   },
   {
    "duration": 32,
    "start_time": "2022-02-18T16:45:59.601Z"
   },
   {
    "duration": 12,
    "start_time": "2022-02-18T16:45:59.635Z"
   },
   {
    "duration": 25,
    "start_time": "2022-02-18T16:45:59.649Z"
   },
   {
    "duration": 22,
    "start_time": "2022-02-18T16:45:59.675Z"
   },
   {
    "duration": 12,
    "start_time": "2022-02-18T16:45:59.731Z"
   },
   {
    "duration": 12,
    "start_time": "2022-02-18T16:45:59.744Z"
   },
   {
    "duration": 15,
    "start_time": "2022-02-18T16:45:59.758Z"
   },
   {
    "duration": 14,
    "start_time": "2022-02-18T16:45:59.776Z"
   },
   {
    "duration": 17,
    "start_time": "2022-02-18T16:46:58.230Z"
   },
   {
    "duration": 183,
    "start_time": "2022-02-18T16:47:21.198Z"
   },
   {
    "duration": 18,
    "start_time": "2022-02-18T16:47:47.050Z"
   },
   {
    "duration": 16,
    "start_time": "2022-02-18T16:50:20.095Z"
   },
   {
    "duration": 17,
    "start_time": "2022-02-18T16:50:31.687Z"
   },
   {
    "duration": 186,
    "start_time": "2022-02-18T16:51:51.447Z"
   },
   {
    "duration": 17,
    "start_time": "2022-02-18T16:51:56.241Z"
   },
   {
    "duration": 356,
    "start_time": "2022-02-18T16:52:46.218Z"
   },
   {
    "duration": 19,
    "start_time": "2022-02-18T16:52:56.787Z"
   },
   {
    "duration": 14,
    "start_time": "2022-02-18T16:53:39.900Z"
   },
   {
    "duration": 17,
    "start_time": "2022-02-18T16:53:50.377Z"
   },
   {
    "duration": 16,
    "start_time": "2022-02-18T16:54:05.501Z"
   },
   {
    "duration": 66,
    "start_time": "2022-02-18T16:59:29.196Z"
   },
   {
    "duration": 63,
    "start_time": "2022-02-18T16:59:31.147Z"
   },
   {
    "duration": 61,
    "start_time": "2022-02-18T16:59:39.900Z"
   },
   {
    "duration": 577,
    "start_time": "2022-02-18T17:00:49.266Z"
   },
   {
    "duration": 63,
    "start_time": "2022-02-18T17:00:56.017Z"
   },
   {
    "duration": 14,
    "start_time": "2022-02-18T17:01:06.901Z"
   },
   {
    "duration": 14,
    "start_time": "2022-02-18T17:01:09.190Z"
   },
   {
    "duration": 15,
    "start_time": "2022-02-18T17:01:21.676Z"
   },
   {
    "duration": 52,
    "start_time": "2022-02-18T17:01:26.889Z"
   },
   {
    "duration": 14,
    "start_time": "2022-02-18T17:01:44.421Z"
   },
   {
    "duration": 33,
    "start_time": "2022-02-18T17:02:00.670Z"
   },
   {
    "duration": 360,
    "start_time": "2022-02-18T20:37:00.982Z"
   },
   {
    "duration": 863,
    "start_time": "2022-02-18T20:37:11.942Z"
   },
   {
    "duration": 20,
    "start_time": "2022-02-18T20:37:12.808Z"
   },
   {
    "duration": 30,
    "start_time": "2022-02-18T20:37:12.831Z"
   },
   {
    "duration": 6,
    "start_time": "2022-02-18T20:37:12.864Z"
   },
   {
    "duration": 8,
    "start_time": "2022-02-18T20:37:12.873Z"
   },
   {
    "duration": 7,
    "start_time": "2022-02-18T20:37:12.884Z"
   },
   {
    "duration": 6,
    "start_time": "2022-02-18T20:37:12.893Z"
   },
   {
    "duration": 62,
    "start_time": "2022-02-18T20:37:12.904Z"
   },
   {
    "duration": 8,
    "start_time": "2022-02-18T20:37:12.970Z"
   },
   {
    "duration": 104,
    "start_time": "2022-02-18T20:37:12.981Z"
   },
   {
    "duration": 37,
    "start_time": "2022-02-18T20:37:13.088Z"
   },
   {
    "duration": 46,
    "start_time": "2022-02-18T20:37:13.127Z"
   },
   {
    "duration": 87,
    "start_time": "2022-02-18T20:37:13.176Z"
   },
   {
    "duration": 18,
    "start_time": "2022-02-18T20:37:13.266Z"
   },
   {
    "duration": 15,
    "start_time": "2022-02-18T20:37:13.287Z"
   },
   {
    "duration": 8,
    "start_time": "2022-02-18T20:37:13.305Z"
   },
   {
    "duration": 62,
    "start_time": "2022-02-18T20:37:13.315Z"
   },
   {
    "duration": 49,
    "start_time": "2022-02-18T20:37:13.380Z"
   },
   {
    "duration": 106,
    "start_time": "2022-02-18T20:37:13.431Z"
   },
   {
    "duration": 32,
    "start_time": "2022-02-18T20:37:13.539Z"
   },
   {
    "duration": 20,
    "start_time": "2022-02-18T20:37:13.573Z"
   },
   {
    "duration": 1008,
    "start_time": "2022-02-18T20:37:13.596Z"
   },
   {
    "duration": 24,
    "start_time": "2022-02-18T20:37:14.610Z"
   },
   {
    "duration": 47,
    "start_time": "2022-02-18T20:37:14.636Z"
   },
   {
    "duration": 357,
    "start_time": "2022-02-18T20:42:03.663Z"
   },
   {
    "duration": 71,
    "start_time": "2022-02-18T20:42:17.363Z"
   },
   {
    "duration": 30,
    "start_time": "2022-02-18T20:42:17.437Z"
   },
   {
    "duration": 6,
    "start_time": "2022-02-18T20:42:17.470Z"
   },
   {
    "duration": 8,
    "start_time": "2022-02-18T20:42:17.479Z"
   },
   {
    "duration": 9,
    "start_time": "2022-02-18T20:42:17.490Z"
   },
   {
    "duration": 7,
    "start_time": "2022-02-18T20:42:17.502Z"
   },
   {
    "duration": 53,
    "start_time": "2022-02-18T20:42:17.511Z"
   },
   {
    "duration": 20,
    "start_time": "2022-02-18T20:42:17.566Z"
   },
   {
    "duration": 7,
    "start_time": "2022-02-18T20:42:17.590Z"
   },
   {
    "duration": 110,
    "start_time": "2022-02-18T20:42:17.600Z"
   },
   {
    "duration": 48,
    "start_time": "2022-02-18T20:42:17.712Z"
   },
   {
    "duration": 20,
    "start_time": "2022-02-18T20:42:17.763Z"
   },
   {
    "duration": 78,
    "start_time": "2022-02-18T20:42:17.786Z"
   },
   {
    "duration": 16,
    "start_time": "2022-02-18T20:42:17.866Z"
   },
   {
    "duration": 97,
    "start_time": "2022-02-18T20:42:17.885Z"
   },
   {
    "duration": 8,
    "start_time": "2022-02-18T20:42:17.985Z"
   },
   {
    "duration": 22,
    "start_time": "2022-02-18T20:42:17.995Z"
   },
   {
    "duration": 79,
    "start_time": "2022-02-18T20:42:18.019Z"
   },
   {
    "duration": 73,
    "start_time": "2022-02-18T20:42:18.100Z"
   },
   {
    "duration": 16,
    "start_time": "2022-02-18T20:42:18.176Z"
   },
   {
    "duration": 19,
    "start_time": "2022-02-18T20:42:18.194Z"
   },
   {
    "duration": 50,
    "start_time": "2022-02-18T20:42:18.216Z"
   },
   {
    "duration": 20,
    "start_time": "2022-02-18T20:42:18.269Z"
   },
   {
    "duration": 22,
    "start_time": "2022-02-18T20:42:18.291Z"
   },
   {
    "duration": 290,
    "start_time": "2022-02-18T20:45:12.021Z"
   },
   {
    "duration": 86,
    "start_time": "2022-02-18T20:45:15.203Z"
   },
   {
    "duration": 18,
    "start_time": "2022-02-18T20:45:15.293Z"
   },
   {
    "duration": 6,
    "start_time": "2022-02-18T20:45:15.315Z"
   },
   {
    "duration": 39,
    "start_time": "2022-02-18T20:45:15.324Z"
   },
   {
    "duration": 6,
    "start_time": "2022-02-18T20:45:15.366Z"
   },
   {
    "duration": 6,
    "start_time": "2022-02-18T20:45:15.375Z"
   },
   {
    "duration": 6,
    "start_time": "2022-02-18T20:45:15.383Z"
   },
   {
    "duration": 14,
    "start_time": "2022-02-18T20:45:15.392Z"
   },
   {
    "duration": 57,
    "start_time": "2022-02-18T20:45:15.410Z"
   },
   {
    "duration": 81,
    "start_time": "2022-02-18T20:45:15.470Z"
   },
   {
    "duration": 38,
    "start_time": "2022-02-18T20:45:15.562Z"
   },
   {
    "duration": 25,
    "start_time": "2022-02-18T20:45:15.602Z"
   },
   {
    "duration": 89,
    "start_time": "2022-02-18T20:45:15.630Z"
   },
   {
    "duration": 15,
    "start_time": "2022-02-18T20:45:15.722Z"
   },
   {
    "duration": 32,
    "start_time": "2022-02-18T20:45:15.740Z"
   },
   {
    "duration": 8,
    "start_time": "2022-02-18T20:45:15.775Z"
   },
   {
    "duration": 25,
    "start_time": "2022-02-18T20:45:15.786Z"
   },
   {
    "duration": 80,
    "start_time": "2022-02-18T20:45:15.814Z"
   },
   {
    "duration": 96,
    "start_time": "2022-02-18T20:45:15.896Z"
   },
   {
    "duration": 15,
    "start_time": "2022-02-18T20:45:15.994Z"
   },
   {
    "duration": 50,
    "start_time": "2022-02-18T20:45:16.011Z"
   },
   {
    "duration": 22,
    "start_time": "2022-02-18T20:45:16.064Z"
   },
   {
    "duration": 20,
    "start_time": "2022-02-18T20:45:16.088Z"
   },
   {
    "duration": 53,
    "start_time": "2022-02-18T20:45:16.110Z"
   },
   {
    "duration": 338,
    "start_time": "2022-02-18T20:45:30.882Z"
   },
   {
    "duration": 72,
    "start_time": "2022-02-18T20:45:34.024Z"
   },
   {
    "duration": 14,
    "start_time": "2022-02-18T20:45:34.099Z"
   },
   {
    "duration": 6,
    "start_time": "2022-02-18T20:45:34.116Z"
   },
   {
    "duration": 41,
    "start_time": "2022-02-18T20:45:34.125Z"
   },
   {
    "duration": 12,
    "start_time": "2022-02-18T20:45:34.169Z"
   },
   {
    "duration": 10,
    "start_time": "2022-02-18T20:45:34.183Z"
   },
   {
    "duration": 7,
    "start_time": "2022-02-18T20:45:34.195Z"
   },
   {
    "duration": 56,
    "start_time": "2022-02-18T20:45:34.205Z"
   },
   {
    "duration": 11,
    "start_time": "2022-02-18T20:45:34.266Z"
   },
   {
    "duration": 108,
    "start_time": "2022-02-18T20:45:34.280Z"
   },
   {
    "duration": 35,
    "start_time": "2022-02-18T20:45:34.391Z"
   },
   {
    "duration": 44,
    "start_time": "2022-02-18T20:45:34.428Z"
   },
   {
    "duration": 66,
    "start_time": "2022-02-18T20:45:34.474Z"
   },
   {
    "duration": 33,
    "start_time": "2022-02-18T20:45:34.543Z"
   },
   {
    "duration": 17,
    "start_time": "2022-02-18T20:45:34.579Z"
   },
   {
    "duration": 8,
    "start_time": "2022-02-18T20:45:34.598Z"
   },
   {
    "duration": 61,
    "start_time": "2022-02-18T20:45:34.609Z"
   },
   {
    "duration": 44,
    "start_time": "2022-02-18T20:45:34.673Z"
   },
   {
    "duration": 108,
    "start_time": "2022-02-18T20:45:34.720Z"
   },
   {
    "duration": 68,
    "start_time": "2022-02-18T20:46:40.073Z"
   },
   {
    "duration": 22,
    "start_time": "2022-02-18T20:46:40.144Z"
   },
   {
    "duration": 6,
    "start_time": "2022-02-18T20:46:40.170Z"
   },
   {
    "duration": 9,
    "start_time": "2022-02-18T20:46:40.179Z"
   },
   {
    "duration": 13,
    "start_time": "2022-02-18T20:46:40.191Z"
   },
   {
    "duration": 56,
    "start_time": "2022-02-18T20:46:40.207Z"
   },
   {
    "duration": 8,
    "start_time": "2022-02-18T20:46:40.267Z"
   },
   {
    "duration": 24,
    "start_time": "2022-02-18T20:46:40.280Z"
   },
   {
    "duration": 11,
    "start_time": "2022-02-18T20:46:40.308Z"
   },
   {
    "duration": 118,
    "start_time": "2022-02-18T20:46:40.321Z"
   },
   {
    "duration": 52,
    "start_time": "2022-02-18T20:46:40.442Z"
   },
   {
    "duration": 20,
    "start_time": "2022-02-18T20:46:40.496Z"
   },
   {
    "duration": 89,
    "start_time": "2022-02-18T20:46:40.518Z"
   },
   {
    "duration": 16,
    "start_time": "2022-02-18T20:46:40.610Z"
   },
   {
    "duration": 34,
    "start_time": "2022-02-18T20:46:40.628Z"
   },
   {
    "duration": 8,
    "start_time": "2022-02-18T20:46:40.664Z"
   },
   {
    "duration": 25,
    "start_time": "2022-02-18T20:46:40.675Z"
   },
   {
    "duration": 82,
    "start_time": "2022-02-18T20:46:40.703Z"
   },
   {
    "duration": 96,
    "start_time": "2022-02-18T20:46:40.787Z"
   },
   {
    "duration": 15,
    "start_time": "2022-02-18T20:46:40.886Z"
   },
   {
    "duration": 19,
    "start_time": "2022-02-18T20:46:40.903Z"
   },
   {
    "duration": 23,
    "start_time": "2022-02-18T20:46:40.925Z"
   },
   {
    "duration": 21,
    "start_time": "2022-02-18T20:46:40.960Z"
   },
   {
    "duration": 26,
    "start_time": "2022-02-18T20:46:40.984Z"
   },
   {
    "duration": 77,
    "start_time": "2022-02-18T20:51:53.410Z"
   },
   {
    "duration": 13,
    "start_time": "2022-02-18T20:51:53.490Z"
   },
   {
    "duration": 5,
    "start_time": "2022-02-18T20:51:53.506Z"
   },
   {
    "duration": 47,
    "start_time": "2022-02-18T20:51:53.514Z"
   },
   {
    "duration": 9,
    "start_time": "2022-02-18T20:51:53.564Z"
   },
   {
    "duration": 9,
    "start_time": "2022-02-18T20:51:53.576Z"
   },
   {
    "duration": 6,
    "start_time": "2022-02-18T20:51:53.587Z"
   },
   {
    "duration": 21,
    "start_time": "2022-02-18T20:51:53.595Z"
   },
   {
    "duration": 8,
    "start_time": "2022-02-18T20:51:53.661Z"
   },
   {
    "duration": 97,
    "start_time": "2022-02-18T20:51:53.672Z"
   },
   {
    "duration": 41,
    "start_time": "2022-02-18T20:51:53.771Z"
   },
   {
    "duration": 48,
    "start_time": "2022-02-18T20:51:53.815Z"
   },
   {
    "duration": 62,
    "start_time": "2022-02-18T20:51:53.866Z"
   },
   {
    "duration": 37,
    "start_time": "2022-02-18T20:51:53.931Z"
   },
   {
    "duration": 17,
    "start_time": "2022-02-18T20:51:53.970Z"
   },
   {
    "duration": 9,
    "start_time": "2022-02-18T20:51:53.991Z"
   },
   {
    "duration": 61,
    "start_time": "2022-02-18T20:51:54.003Z"
   },
   {
    "duration": 61,
    "start_time": "2022-02-18T20:51:54.067Z"
   },
   {
    "duration": 75,
    "start_time": "2022-02-18T20:51:54.132Z"
   },
   {
    "duration": 17,
    "start_time": "2022-02-18T20:51:54.210Z"
   },
   {
    "duration": 39,
    "start_time": "2022-02-18T20:51:54.230Z"
   },
   {
    "duration": 28,
    "start_time": "2022-02-18T20:51:54.271Z"
   },
   {
    "duration": 23,
    "start_time": "2022-02-18T20:51:54.301Z"
   },
   {
    "duration": 29,
    "start_time": "2022-02-18T20:51:54.362Z"
   },
   {
    "duration": 68,
    "start_time": "2022-02-18T20:52:15.701Z"
   },
   {
    "duration": 12,
    "start_time": "2022-02-18T20:52:15.772Z"
   },
   {
    "duration": 5,
    "start_time": "2022-02-18T20:52:15.788Z"
   },
   {
    "duration": 7,
    "start_time": "2022-02-18T20:52:15.795Z"
   },
   {
    "duration": 11,
    "start_time": "2022-02-18T20:52:15.804Z"
   },
   {
    "duration": 50,
    "start_time": "2022-02-18T20:52:15.818Z"
   },
   {
    "duration": 6,
    "start_time": "2022-02-18T20:52:15.870Z"
   },
   {
    "duration": 18,
    "start_time": "2022-02-18T20:52:15.879Z"
   },
   {
    "duration": 7,
    "start_time": "2022-02-18T20:52:15.901Z"
   },
   {
    "duration": 124,
    "start_time": "2022-02-18T20:52:15.911Z"
   },
   {
    "duration": 46,
    "start_time": "2022-02-18T20:52:16.038Z"
   },
   {
    "duration": 21,
    "start_time": "2022-02-18T20:52:16.086Z"
   },
   {
    "duration": 88,
    "start_time": "2022-02-18T20:52:16.110Z"
   },
   {
    "duration": 14,
    "start_time": "2022-02-18T20:52:16.201Z"
   },
   {
    "duration": 16,
    "start_time": "2022-02-18T20:52:16.217Z"
   },
   {
    "duration": 8,
    "start_time": "2022-02-18T20:52:16.262Z"
   },
   {
    "duration": 20,
    "start_time": "2022-02-18T20:52:16.273Z"
   },
   {
    "duration": 76,
    "start_time": "2022-02-18T20:52:16.295Z"
   },
   {
    "duration": 43,
    "start_time": "2022-02-18T20:52:16.374Z"
   },
   {
    "duration": 47,
    "start_time": "2022-02-18T20:52:16.420Z"
   },
   {
    "duration": 21,
    "start_time": "2022-02-18T20:52:16.470Z"
   },
   {
    "duration": 25,
    "start_time": "2022-02-18T20:52:16.494Z"
   },
   {
    "duration": 58,
    "start_time": "2022-02-18T20:52:16.521Z"
   },
   {
    "duration": 24,
    "start_time": "2022-02-18T20:52:16.582Z"
   },
   {
    "duration": 22,
    "start_time": "2022-02-18T20:53:08.420Z"
   },
   {
    "duration": 310,
    "start_time": "2022-02-18T20:54:14.781Z"
   },
   {
    "duration": 69,
    "start_time": "2022-02-18T20:54:18.723Z"
   },
   {
    "duration": 14,
    "start_time": "2022-02-18T20:54:18.794Z"
   },
   {
    "duration": 6,
    "start_time": "2022-02-18T20:54:18.811Z"
   },
   {
    "duration": 42,
    "start_time": "2022-02-18T20:54:18.820Z"
   },
   {
    "duration": 9,
    "start_time": "2022-02-18T20:54:18.865Z"
   },
   {
    "duration": 10,
    "start_time": "2022-02-18T20:54:18.877Z"
   },
   {
    "duration": 15,
    "start_time": "2022-02-18T20:54:18.889Z"
   },
   {
    "duration": 23,
    "start_time": "2022-02-18T20:54:18.907Z"
   },
   {
    "duration": 9,
    "start_time": "2022-02-18T20:54:18.966Z"
   },
   {
    "duration": 135,
    "start_time": "2022-02-18T20:54:18.979Z"
   },
   {
    "duration": 66,
    "start_time": "2022-02-18T20:54:19.117Z"
   },
   {
    "duration": 23,
    "start_time": "2022-02-18T20:54:19.186Z"
   },
   {
    "duration": 82,
    "start_time": "2022-02-18T20:54:19.211Z"
   },
   {
    "duration": 15,
    "start_time": "2022-02-18T20:54:19.295Z"
   },
   {
    "duration": 15,
    "start_time": "2022-02-18T20:54:19.313Z"
   },
   {
    "duration": 32,
    "start_time": "2022-02-18T20:54:19.330Z"
   },
   {
    "duration": 20,
    "start_time": "2022-02-18T20:54:19.365Z"
   },
   {
    "duration": 77,
    "start_time": "2022-02-18T20:54:19.387Z"
   },
   {
    "duration": 65,
    "start_time": "2022-02-18T20:54:19.467Z"
   },
   {
    "duration": 38,
    "start_time": "2022-02-18T20:54:19.534Z"
   },
   {
    "duration": 22,
    "start_time": "2022-02-18T20:54:19.575Z"
   },
   {
    "duration": 21,
    "start_time": "2022-02-18T20:54:19.599Z"
   },
   {
    "duration": 54,
    "start_time": "2022-02-18T20:54:19.623Z"
   },
   {
    "duration": 24,
    "start_time": "2022-02-18T20:54:19.679Z"
   },
   {
    "duration": 285,
    "start_time": "2022-02-18T20:54:48.321Z"
   },
   {
    "duration": 69,
    "start_time": "2022-02-18T20:55:16.762Z"
   },
   {
    "duration": 37,
    "start_time": "2022-02-18T20:55:16.834Z"
   },
   {
    "duration": 7,
    "start_time": "2022-02-18T20:55:16.875Z"
   },
   {
    "duration": 7,
    "start_time": "2022-02-18T20:55:16.886Z"
   },
   {
    "duration": 9,
    "start_time": "2022-02-18T20:55:16.895Z"
   },
   {
    "duration": 57,
    "start_time": "2022-02-18T20:55:16.907Z"
   },
   {
    "duration": 6,
    "start_time": "2022-02-18T20:55:16.967Z"
   },
   {
    "duration": 15,
    "start_time": "2022-02-18T20:55:16.975Z"
   },
   {
    "duration": 8,
    "start_time": "2022-02-18T20:55:16.994Z"
   },
   {
    "duration": 132,
    "start_time": "2022-02-18T20:55:17.005Z"
   },
   {
    "duration": 44,
    "start_time": "2022-02-18T20:55:17.139Z"
   },
   {
    "duration": 23,
    "start_time": "2022-02-18T20:55:17.186Z"
   },
   {
    "duration": 90,
    "start_time": "2022-02-18T20:55:17.212Z"
   },
   {
    "duration": 16,
    "start_time": "2022-02-18T20:55:17.305Z"
   },
   {
    "duration": 38,
    "start_time": "2022-02-18T20:55:17.323Z"
   },
   {
    "duration": 7,
    "start_time": "2022-02-18T20:55:17.364Z"
   },
   {
    "duration": 22,
    "start_time": "2022-02-18T20:55:17.374Z"
   },
   {
    "duration": 97,
    "start_time": "2022-02-18T20:55:17.399Z"
   },
   {
    "duration": 67,
    "start_time": "2022-02-18T20:55:17.499Z"
   },
   {
    "duration": 15,
    "start_time": "2022-02-18T20:55:17.568Z"
   },
   {
    "duration": 20,
    "start_time": "2022-02-18T20:55:17.585Z"
   },
   {
    "duration": 22,
    "start_time": "2022-02-18T20:55:17.607Z"
   },
   {
    "duration": 23,
    "start_time": "2022-02-18T20:55:17.662Z"
   },
   {
    "duration": 23,
    "start_time": "2022-02-18T20:55:17.688Z"
   },
   {
    "duration": 297,
    "start_time": "2022-02-18T20:55:34.281Z"
   },
   {
    "duration": 69,
    "start_time": "2022-02-18T20:55:37.302Z"
   },
   {
    "duration": 14,
    "start_time": "2022-02-18T20:55:37.373Z"
   },
   {
    "duration": 7,
    "start_time": "2022-02-18T20:55:37.390Z"
   },
   {
    "duration": 11,
    "start_time": "2022-02-18T20:55:37.399Z"
   },
   {
    "duration": 52,
    "start_time": "2022-02-18T20:55:37.412Z"
   },
   {
    "duration": 9,
    "start_time": "2022-02-18T20:55:37.466Z"
   },
   {
    "duration": 7,
    "start_time": "2022-02-18T20:55:37.477Z"
   },
   {
    "duration": 17,
    "start_time": "2022-02-18T20:55:37.487Z"
   },
   {
    "duration": 7,
    "start_time": "2022-02-18T20:55:37.508Z"
   },
   {
    "duration": 120,
    "start_time": "2022-02-18T20:55:37.518Z"
   },
   {
    "duration": 53,
    "start_time": "2022-02-18T20:55:37.640Z"
   },
   {
    "duration": 27,
    "start_time": "2022-02-18T20:55:37.695Z"
   },
   {
    "duration": 85,
    "start_time": "2022-02-18T20:55:37.725Z"
   },
   {
    "duration": 15,
    "start_time": "2022-02-18T20:55:37.813Z"
   },
   {
    "duration": 36,
    "start_time": "2022-02-18T20:55:37.830Z"
   },
   {
    "duration": 8,
    "start_time": "2022-02-18T20:55:37.869Z"
   },
   {
    "duration": 22,
    "start_time": "2022-02-18T20:55:37.880Z"
   },
   {
    "duration": 86,
    "start_time": "2022-02-18T20:55:37.905Z"
   },
   {
    "duration": 71,
    "start_time": "2022-02-18T20:55:37.994Z"
   },
   {
    "duration": 18,
    "start_time": "2022-02-18T20:55:38.068Z"
   },
   {
    "duration": 21,
    "start_time": "2022-02-18T20:55:38.088Z"
   },
   {
    "duration": 55,
    "start_time": "2022-02-18T20:55:38.112Z"
   },
   {
    "duration": 20,
    "start_time": "2022-02-18T20:55:38.169Z"
   },
   {
    "duration": 23,
    "start_time": "2022-02-18T20:55:38.191Z"
   },
   {
    "duration": 304,
    "start_time": "2022-02-18T20:56:41.732Z"
   },
   {
    "duration": 67,
    "start_time": "2022-02-18T20:56:44.583Z"
   },
   {
    "duration": 13,
    "start_time": "2022-02-18T20:56:44.653Z"
   },
   {
    "duration": 7,
    "start_time": "2022-02-18T20:56:44.669Z"
   },
   {
    "duration": 10,
    "start_time": "2022-02-18T20:56:44.678Z"
   },
   {
    "duration": 12,
    "start_time": "2022-02-18T20:56:44.691Z"
   },
   {
    "duration": 57,
    "start_time": "2022-02-18T20:56:44.706Z"
   },
   {
    "duration": 8,
    "start_time": "2022-02-18T20:56:44.766Z"
   },
   {
    "duration": 18,
    "start_time": "2022-02-18T20:56:44.776Z"
   },
   {
    "duration": 8,
    "start_time": "2022-02-18T20:56:44.798Z"
   },
   {
    "duration": 171,
    "start_time": "2022-02-18T20:56:44.809Z"
   },
   {
    "duration": 68,
    "start_time": "2022-02-18T20:56:44.983Z"
   },
   {
    "duration": 35,
    "start_time": "2022-02-18T20:56:45.062Z"
   },
   {
    "duration": 118,
    "start_time": "2022-02-18T20:56:45.100Z"
   },
   {
    "duration": 23,
    "start_time": "2022-02-18T20:56:45.222Z"
   },
   {
    "duration": 25,
    "start_time": "2022-02-18T20:56:45.262Z"
   },
   {
    "duration": 12,
    "start_time": "2022-02-18T20:56:45.290Z"
   },
   {
    "duration": 58,
    "start_time": "2022-02-18T20:56:45.305Z"
   },
   {
    "duration": 47,
    "start_time": "2022-02-18T20:56:45.365Z"
   },
   {
    "duration": 98,
    "start_time": "2022-02-18T20:56:45.415Z"
   },
   {
    "duration": 16,
    "start_time": "2022-02-18T20:56:45.515Z"
   },
   {
    "duration": 40,
    "start_time": "2022-02-18T20:56:45.534Z"
   },
   {
    "duration": 25,
    "start_time": "2022-02-18T20:56:45.576Z"
   },
   {
    "duration": 21,
    "start_time": "2022-02-18T20:56:45.603Z"
   },
   {
    "duration": 57,
    "start_time": "2022-02-18T20:56:45.626Z"
   },
   {
    "duration": 68,
    "start_time": "2022-02-18T20:57:21.422Z"
   },
   {
    "duration": 16,
    "start_time": "2022-02-18T20:57:21.493Z"
   },
   {
    "duration": 8,
    "start_time": "2022-02-18T20:57:21.514Z"
   },
   {
    "duration": 40,
    "start_time": "2022-02-18T20:57:21.526Z"
   },
   {
    "duration": 9,
    "start_time": "2022-02-18T20:57:21.570Z"
   },
   {
    "duration": 10,
    "start_time": "2022-02-18T20:57:21.583Z"
   },
   {
    "duration": 8,
    "start_time": "2022-02-18T20:57:21.596Z"
   },
   {
    "duration": 55,
    "start_time": "2022-02-18T20:57:21.606Z"
   },
   {
    "duration": 8,
    "start_time": "2022-02-18T20:57:21.666Z"
   },
   {
    "duration": 102,
    "start_time": "2022-02-18T20:57:21.677Z"
   },
   {
    "duration": 36,
    "start_time": "2022-02-18T20:57:21.782Z"
   },
   {
    "duration": 42,
    "start_time": "2022-02-18T20:57:21.821Z"
   },
   {
    "duration": 63,
    "start_time": "2022-02-18T20:57:21.866Z"
   },
   {
    "duration": 36,
    "start_time": "2022-02-18T20:57:21.932Z"
   },
   {
    "duration": 16,
    "start_time": "2022-02-18T20:57:21.971Z"
   },
   {
    "duration": 8,
    "start_time": "2022-02-18T20:57:21.990Z"
   },
   {
    "duration": 60,
    "start_time": "2022-02-18T20:57:22.000Z"
   },
   {
    "duration": 47,
    "start_time": "2022-02-18T20:57:22.063Z"
   },
   {
    "duration": 84,
    "start_time": "2022-02-18T20:57:22.113Z"
   },
   {
    "duration": 18,
    "start_time": "2022-02-18T20:57:22.199Z"
   },
   {
    "duration": 45,
    "start_time": "2022-02-18T20:57:22.220Z"
   },
   {
    "duration": 26,
    "start_time": "2022-02-18T20:57:22.268Z"
   },
   {
    "duration": 28,
    "start_time": "2022-02-18T20:57:22.297Z"
   },
   {
    "duration": 50,
    "start_time": "2022-02-18T20:57:22.328Z"
   },
   {
    "duration": 53,
    "start_time": "2022-02-18T20:57:37.401Z"
   },
   {
    "duration": 51,
    "start_time": "2022-02-18T20:57:46.952Z"
   },
   {
    "duration": 59,
    "start_time": "2022-02-18T20:58:01.541Z"
   },
   {
    "duration": 42,
    "start_time": "2022-02-18T20:59:28.461Z"
   },
   {
    "duration": 37,
    "start_time": "2022-02-18T21:00:16.601Z"
   },
   {
    "duration": 739,
    "start_time": "2022-02-19T12:58:35.335Z"
   },
   {
    "duration": 18,
    "start_time": "2022-02-19T12:58:36.077Z"
   },
   {
    "duration": 25,
    "start_time": "2022-02-19T12:58:36.106Z"
   },
   {
    "duration": 24,
    "start_time": "2022-02-19T12:58:36.134Z"
   },
   {
    "duration": 77,
    "start_time": "2022-02-19T12:58:36.160Z"
   },
   {
    "duration": 33,
    "start_time": "2022-02-19T12:58:36.239Z"
   },
   {
    "duration": 14,
    "start_time": "2022-02-19T12:58:36.274Z"
   },
   {
    "duration": 27,
    "start_time": "2022-02-19T12:58:36.291Z"
   },
   {
    "duration": 23,
    "start_time": "2022-02-19T12:58:36.322Z"
   },
   {
    "duration": 93,
    "start_time": "2022-02-19T12:58:36.347Z"
   },
   {
    "duration": 31,
    "start_time": "2022-02-19T12:58:36.442Z"
   },
   {
    "duration": 39,
    "start_time": "2022-02-19T12:58:36.475Z"
   },
   {
    "duration": 47,
    "start_time": "2022-02-19T12:58:36.516Z"
   },
   {
    "duration": 12,
    "start_time": "2022-02-19T12:58:36.565Z"
   },
   {
    "duration": 35,
    "start_time": "2022-02-19T12:58:36.579Z"
   },
   {
    "duration": 17,
    "start_time": "2022-02-19T12:58:36.617Z"
   },
   {
    "duration": 59,
    "start_time": "2022-02-19T12:58:36.636Z"
   },
   {
    "duration": 36,
    "start_time": "2022-02-19T12:58:36.697Z"
   },
   {
    "duration": 141,
    "start_time": "2022-02-19T12:58:36.736Z"
   },
   {
    "duration": -196,
    "start_time": "2022-02-19T12:58:37.075Z"
   },
   {
    "duration": -197,
    "start_time": "2022-02-19T12:58:37.077Z"
   },
   {
    "duration": -199,
    "start_time": "2022-02-19T12:58:37.080Z"
   },
   {
    "duration": -201,
    "start_time": "2022-02-19T12:58:37.082Z"
   },
   {
    "duration": -204,
    "start_time": "2022-02-19T12:58:37.086Z"
   },
   {
    "duration": 88,
    "start_time": "2022-02-19T12:58:48.172Z"
   },
   {
    "duration": 33,
    "start_time": "2022-02-19T12:59:00.477Z"
   },
   {
    "duration": 27,
    "start_time": "2022-02-19T12:59:03.614Z"
   },
   {
    "duration": 27,
    "start_time": "2022-02-19T12:59:10.647Z"
   },
   {
    "duration": 5,
    "start_time": "2022-02-19T12:59:27.879Z"
   },
   {
    "duration": 4,
    "start_time": "2022-02-19T12:59:29.567Z"
   },
   {
    "duration": 4,
    "start_time": "2022-02-19T12:59:30.830Z"
   },
   {
    "duration": 3,
    "start_time": "2022-02-19T12:59:32.108Z"
   },
   {
    "duration": 4,
    "start_time": "2022-02-19T12:59:33.509Z"
   },
   {
    "duration": 19,
    "start_time": "2022-02-19T12:59:43.840Z"
   },
   {
    "duration": 4,
    "start_time": "2022-02-19T13:00:00.720Z"
   },
   {
    "duration": 4,
    "start_time": "2022-02-19T13:00:04.949Z"
   },
   {
    "duration": 4,
    "start_time": "2022-02-19T13:00:06.230Z"
   },
   {
    "duration": 4,
    "start_time": "2022-02-19T13:00:07.659Z"
   },
   {
    "duration": 115,
    "start_time": "2022-02-19T13:00:16.537Z"
   },
   {
    "duration": 89,
    "start_time": "2022-02-19T13:00:50.368Z"
   },
   {
    "duration": 376,
    "start_time": "2022-02-19T13:00:57.645Z"
   },
   {
    "duration": 93,
    "start_time": "2022-02-19T13:01:05.346Z"
   },
   {
    "duration": 101,
    "start_time": "2022-02-19T13:03:09.131Z"
   },
   {
    "duration": 28,
    "start_time": "2022-02-19T13:03:19.957Z"
   },
   {
    "duration": 29,
    "start_time": "2022-02-19T13:03:49.218Z"
   },
   {
    "duration": 29,
    "start_time": "2022-02-19T13:04:32.660Z"
   },
   {
    "duration": 29,
    "start_time": "2022-02-19T13:04:34.940Z"
   },
   {
    "duration": 28,
    "start_time": "2022-02-19T13:04:36.521Z"
   },
   {
    "duration": 28,
    "start_time": "2022-02-19T13:04:37.727Z"
   },
   {
    "duration": 34,
    "start_time": "2022-02-19T13:04:38.978Z"
   },
   {
    "duration": 105,
    "start_time": "2022-02-19T13:07:39.920Z"
   },
   {
    "duration": 88,
    "start_time": "2022-02-19T13:08:55.205Z"
   },
   {
    "duration": 30,
    "start_time": "2022-02-19T13:08:59.809Z"
   },
   {
    "duration": 31,
    "start_time": "2022-02-19T13:09:08.790Z"
   },
   {
    "duration": 30,
    "start_time": "2022-02-19T13:09:12.520Z"
   },
   {
    "duration": 303,
    "start_time": "2022-02-19T13:10:15.511Z"
   },
   {
    "duration": 67,
    "start_time": "2022-02-19T13:10:23.470Z"
   },
   {
    "duration": 14,
    "start_time": "2022-02-19T13:10:23.540Z"
   },
   {
    "duration": 8,
    "start_time": "2022-02-19T13:10:23.557Z"
   },
   {
    "duration": 10,
    "start_time": "2022-02-19T13:10:23.567Z"
   },
   {
    "duration": 31,
    "start_time": "2022-02-19T13:10:23.580Z"
   },
   {
    "duration": 12,
    "start_time": "2022-02-19T13:10:23.613Z"
   },
   {
    "duration": 8,
    "start_time": "2022-02-19T13:10:23.627Z"
   },
   {
    "duration": 16,
    "start_time": "2022-02-19T13:10:23.637Z"
   },
   {
    "duration": 6,
    "start_time": "2022-02-19T13:10:23.656Z"
   },
   {
    "duration": 91,
    "start_time": "2022-02-19T13:10:23.664Z"
   },
   {
    "duration": 25,
    "start_time": "2022-02-19T13:10:23.757Z"
   },
   {
    "duration": 27,
    "start_time": "2022-02-19T13:10:23.785Z"
   },
   {
    "duration": 49,
    "start_time": "2022-02-19T13:10:23.814Z"
   },
   {
    "duration": 14,
    "start_time": "2022-02-19T13:10:23.864Z"
   },
   {
    "duration": 17,
    "start_time": "2022-02-19T13:10:23.908Z"
   },
   {
    "duration": 9,
    "start_time": "2022-02-19T13:10:23.927Z"
   },
   {
    "duration": 20,
    "start_time": "2022-02-19T13:10:23.938Z"
   },
   {
    "duration": 81,
    "start_time": "2022-02-19T13:10:23.960Z"
   },
   {
    "duration": 32,
    "start_time": "2022-02-19T13:10:24.043Z"
   },
   {
    "duration": 30,
    "start_time": "2022-02-19T13:10:24.077Z"
   },
   {
    "duration": 27,
    "start_time": "2022-02-19T13:10:24.110Z"
   },
   {
    "duration": 659,
    "start_time": "2022-02-19T13:10:24.139Z"
   },
   {
    "duration": 22,
    "start_time": "2022-02-19T13:10:24.800Z"
   },
   {
    "duration": 20,
    "start_time": "2022-02-19T13:10:24.824Z"
   },
   {
    "duration": 18,
    "start_time": "2022-02-19T13:11:05.258Z"
   },
   {
    "duration": 30,
    "start_time": "2022-02-19T13:11:33.378Z"
   },
   {
    "duration": 17,
    "start_time": "2022-02-19T13:11:35.460Z"
   },
   {
    "duration": 15,
    "start_time": "2022-02-19T13:12:16.518Z"
   },
   {
    "duration": 18,
    "start_time": "2022-02-19T13:12:18.713Z"
   },
   {
    "duration": 303,
    "start_time": "2022-02-19T13:13:00.351Z"
   },
   {
    "duration": 22,
    "start_time": "2022-02-19T13:13:04.508Z"
   },
   {
    "duration": 14,
    "start_time": "2022-02-19T13:13:11.619Z"
   },
   {
    "duration": 290,
    "start_time": "2022-02-19T13:13:21.751Z"
   },
   {
    "duration": 301,
    "start_time": "2022-02-19T13:13:35.622Z"
   },
   {
    "duration": 70,
    "start_time": "2022-02-19T13:14:12.880Z"
   },
   {
    "duration": 364,
    "start_time": "2022-02-19T13:14:41.088Z"
   },
   {
    "duration": 99,
    "start_time": "2022-02-19T13:14:47.928Z"
   },
   {
    "duration": 98,
    "start_time": "2022-02-19T13:14:49.999Z"
   },
   {
    "duration": 175,
    "start_time": "2022-02-19T13:15:10.631Z"
   },
   {
    "duration": 279,
    "start_time": "2022-02-19T13:15:24.439Z"
   },
   {
    "duration": 312,
    "start_time": "2022-02-19T13:15:31.790Z"
   },
   {
    "duration": 312,
    "start_time": "2022-02-19T13:15:43.010Z"
   },
   {
    "duration": 321,
    "start_time": "2022-02-19T13:15:51.491Z"
   },
   {
    "duration": 23,
    "start_time": "2022-02-19T13:16:14.240Z"
   },
   {
    "duration": 15,
    "start_time": "2022-02-19T13:18:21.138Z"
   },
   {
    "duration": 98,
    "start_time": "2022-02-19T13:18:59.559Z"
   },
   {
    "duration": 7390,
    "start_time": "2022-02-19T13:19:33.227Z"
   },
   {
    "duration": 22,
    "start_time": "2022-02-19T13:19:47.837Z"
   },
   {
    "duration": 25,
    "start_time": "2022-02-19T13:20:02.688Z"
   },
   {
    "duration": 324,
    "start_time": "2022-02-19T13:20:58.849Z"
   },
   {
    "duration": 25,
    "start_time": "2022-02-19T13:21:09.828Z"
   },
   {
    "duration": 22,
    "start_time": "2022-02-19T13:21:35.048Z"
   },
   {
    "duration": 374,
    "start_time": "2022-02-19T13:22:18.700Z"
   },
   {
    "duration": 32,
    "start_time": "2022-02-19T13:22:24.048Z"
   },
   {
    "duration": 26,
    "start_time": "2022-02-19T13:22:54.209Z"
   },
   {
    "duration": 1230,
    "start_time": "2022-02-19T13:30:20.207Z"
   },
   {
    "duration": 2117,
    "start_time": "2022-02-19T13:35:05.019Z"
   },
   {
    "duration": 2410,
    "start_time": "2022-02-19T13:35:24.668Z"
   },
   {
    "duration": 7,
    "start_time": "2022-02-19T13:35:38.381Z"
   },
   {
    "duration": 66,
    "start_time": "2022-02-19T13:40:21.039Z"
   },
   {
    "duration": 13,
    "start_time": "2022-02-19T13:40:21.108Z"
   },
   {
    "duration": 10,
    "start_time": "2022-02-19T13:40:21.125Z"
   },
   {
    "duration": 17,
    "start_time": "2022-02-19T13:40:21.138Z"
   },
   {
    "duration": 17,
    "start_time": "2022-02-19T13:40:21.157Z"
   },
   {
    "duration": 11,
    "start_time": "2022-02-19T13:40:21.176Z"
   },
   {
    "duration": 18,
    "start_time": "2022-02-19T13:40:21.189Z"
   },
   {
    "duration": 12,
    "start_time": "2022-02-19T13:40:21.210Z"
   },
   {
    "duration": 14,
    "start_time": "2022-02-19T13:40:21.226Z"
   },
   {
    "duration": 79,
    "start_time": "2022-02-19T13:40:21.243Z"
   },
   {
    "duration": 35,
    "start_time": "2022-02-19T13:40:21.324Z"
   },
   {
    "duration": 49,
    "start_time": "2022-02-19T13:40:21.361Z"
   },
   {
    "duration": 50,
    "start_time": "2022-02-19T13:40:21.412Z"
   },
   {
    "duration": 13,
    "start_time": "2022-02-19T13:40:21.464Z"
   },
   {
    "duration": 30,
    "start_time": "2022-02-19T13:40:21.479Z"
   },
   {
    "duration": 7,
    "start_time": "2022-02-19T13:40:21.511Z"
   },
   {
    "duration": 20,
    "start_time": "2022-02-19T13:40:21.520Z"
   },
   {
    "duration": 83,
    "start_time": "2022-02-19T13:40:21.543Z"
   },
   {
    "duration": 30,
    "start_time": "2022-02-19T13:40:21.629Z"
   },
   {
    "duration": 48,
    "start_time": "2022-02-19T13:40:21.661Z"
   },
   {
    "duration": 23,
    "start_time": "2022-02-19T13:40:21.711Z"
   },
   {
    "duration": 23,
    "start_time": "2022-02-19T13:40:21.736Z"
   },
   {
    "duration": 47,
    "start_time": "2022-02-19T13:40:21.761Z"
   },
   {
    "duration": 25,
    "start_time": "2022-02-19T13:40:21.810Z"
   },
   {
    "duration": 30,
    "start_time": "2022-02-19T13:48:05.238Z"
   },
   {
    "duration": 31,
    "start_time": "2022-02-19T13:48:18.911Z"
   },
   {
    "duration": 21,
    "start_time": "2022-02-19T13:49:54.169Z"
   },
   {
    "duration": 22,
    "start_time": "2022-02-19T13:50:44.608Z"
   },
   {
    "duration": 3,
    "start_time": "2022-02-19T13:51:55.738Z"
   },
   {
    "duration": 23,
    "start_time": "2022-02-19T13:52:09.179Z"
   },
   {
    "duration": 3,
    "start_time": "2022-02-19T13:52:23.087Z"
   },
   {
    "duration": 22,
    "start_time": "2022-02-19T13:52:35.078Z"
   },
   {
    "duration": 25,
    "start_time": "2022-02-19T13:53:17.879Z"
   },
   {
    "duration": 294,
    "start_time": "2022-02-19T13:55:39.129Z"
   },
   {
    "duration": 324,
    "start_time": "2022-02-19T13:57:22.760Z"
   },
   {
    "duration": 26,
    "start_time": "2022-02-19T13:57:29.062Z"
   },
   {
    "duration": 112,
    "start_time": "2022-02-19T13:58:44.298Z"
   },
   {
    "duration": 304,
    "start_time": "2022-02-19T13:58:50.231Z"
   },
   {
    "duration": 24,
    "start_time": "2022-02-19T14:00:48.281Z"
   },
   {
    "duration": 327,
    "start_time": "2022-02-19T14:00:54.475Z"
   },
   {
    "duration": 25,
    "start_time": "2022-02-19T14:00:59.321Z"
   },
   {
    "duration": 23,
    "start_time": "2022-02-19T14:04:14.060Z"
   },
   {
    "duration": 297,
    "start_time": "2022-02-19T14:05:55.197Z"
   },
   {
    "duration": 21,
    "start_time": "2022-02-19T14:06:06.658Z"
   },
   {
    "duration": 309,
    "start_time": "2022-02-19T14:06:20.497Z"
   },
   {
    "duration": 23,
    "start_time": "2022-02-19T14:06:35.587Z"
   },
   {
    "duration": 286,
    "start_time": "2022-02-19T14:07:50.488Z"
   },
   {
    "duration": 23,
    "start_time": "2022-02-19T14:08:00.590Z"
   },
   {
    "duration": 324,
    "start_time": "2022-02-19T14:08:29.348Z"
   },
   {
    "duration": 27,
    "start_time": "2022-02-19T14:09:06.708Z"
   },
   {
    "duration": 27,
    "start_time": "2022-02-19T14:09:20.252Z"
   },
   {
    "duration": 24,
    "start_time": "2022-02-19T14:10:08.157Z"
   },
   {
    "duration": 5,
    "start_time": "2022-02-19T14:12:29.119Z"
   },
   {
    "duration": 23,
    "start_time": "2022-02-19T14:18:05.450Z"
   },
   {
    "duration": 23,
    "start_time": "2022-02-19T14:18:21.948Z"
   },
   {
    "duration": 23,
    "start_time": "2022-02-19T14:18:43.117Z"
   },
   {
    "duration": 25,
    "start_time": "2022-02-19T14:21:18.796Z"
   },
   {
    "duration": 23,
    "start_time": "2022-02-19T14:21:29.836Z"
   },
   {
    "duration": 24,
    "start_time": "2022-02-19T14:21:43.016Z"
   },
   {
    "duration": 20,
    "start_time": "2022-02-19T14:21:48.191Z"
   },
   {
    "duration": 280,
    "start_time": "2022-02-19T14:41:57.549Z"
   },
   {
    "duration": 27,
    "start_time": "2022-02-19T14:42:04.277Z"
   },
   {
    "duration": 27,
    "start_time": "2022-02-19T14:44:30.836Z"
   },
   {
    "duration": 29,
    "start_time": "2022-02-19T14:46:48.777Z"
   },
   {
    "duration": 27,
    "start_time": "2022-02-19T14:48:11.646Z"
   },
   {
    "duration": 29,
    "start_time": "2022-02-19T14:49:44.555Z"
   },
   {
    "duration": 30,
    "start_time": "2022-02-19T14:49:56.487Z"
   },
   {
    "duration": 32,
    "start_time": "2022-02-19T14:50:02.996Z"
   },
   {
    "duration": 34,
    "start_time": "2022-02-19T14:50:26.481Z"
   },
   {
    "duration": 26,
    "start_time": "2022-02-19T14:50:37.200Z"
   },
   {
    "duration": 30,
    "start_time": "2022-02-19T14:50:46.539Z"
   },
   {
    "duration": 35,
    "start_time": "2022-02-19T14:52:51.227Z"
   },
   {
    "duration": 71,
    "start_time": "2022-02-19T14:53:12.483Z"
   },
   {
    "duration": 499,
    "start_time": "2022-02-19T14:56:41.758Z"
   },
   {
    "duration": 37,
    "start_time": "2022-02-19T14:57:10.969Z"
   },
   {
    "duration": 35,
    "start_time": "2022-02-19T14:57:18.129Z"
   },
   {
    "duration": 536,
    "start_time": "2022-02-19T14:57:59.969Z"
   },
   {
    "duration": 487,
    "start_time": "2022-02-19T14:58:14.911Z"
   },
   {
    "duration": 25,
    "start_time": "2022-02-19T14:58:55.760Z"
   },
   {
    "duration": 26,
    "start_time": "2022-02-19T15:01:48.318Z"
   },
   {
    "duration": 26,
    "start_time": "2022-02-19T15:01:54.248Z"
   },
   {
    "duration": 874,
    "start_time": "2022-02-19T19:33:50.078Z"
   },
   {
    "duration": 25,
    "start_time": "2022-02-19T19:33:50.960Z"
   },
   {
    "duration": 22,
    "start_time": "2022-02-19T19:33:50.989Z"
   },
   {
    "duration": 35,
    "start_time": "2022-02-19T19:33:51.013Z"
   },
   {
    "duration": 27,
    "start_time": "2022-02-19T19:33:51.051Z"
   },
   {
    "duration": 42,
    "start_time": "2022-02-19T19:33:51.080Z"
   },
   {
    "duration": 15,
    "start_time": "2022-02-19T19:33:51.124Z"
   },
   {
    "duration": 50,
    "start_time": "2022-02-19T19:33:51.142Z"
   },
   {
    "duration": 41,
    "start_time": "2022-02-19T19:33:51.198Z"
   },
   {
    "duration": 121,
    "start_time": "2022-02-19T19:33:51.243Z"
   },
   {
    "duration": 39,
    "start_time": "2022-02-19T19:33:51.367Z"
   },
   {
    "duration": 48,
    "start_time": "2022-02-19T19:33:51.409Z"
   },
   {
    "duration": 74,
    "start_time": "2022-02-19T19:33:51.460Z"
   },
   {
    "duration": 27,
    "start_time": "2022-02-19T19:33:51.536Z"
   },
   {
    "duration": 66,
    "start_time": "2022-02-19T19:33:51.566Z"
   },
   {
    "duration": 28,
    "start_time": "2022-02-19T19:33:51.635Z"
   },
   {
    "duration": 35,
    "start_time": "2022-02-19T19:33:51.666Z"
   },
   {
    "duration": 101,
    "start_time": "2022-02-19T19:33:51.704Z"
   },
   {
    "duration": 59,
    "start_time": "2022-02-19T19:33:51.808Z"
   },
   {
    "duration": 45,
    "start_time": "2022-02-19T19:33:51.870Z"
   },
   {
    "duration": 44,
    "start_time": "2022-02-19T19:33:51.918Z"
   },
   {
    "duration": 35,
    "start_time": "2022-02-19T19:33:51.965Z"
   },
   {
    "duration": 1365,
    "start_time": "2022-02-19T19:33:52.003Z"
   },
   {
    "duration": 40,
    "start_time": "2022-02-19T19:33:53.371Z"
   },
   {
    "duration": 56,
    "start_time": "2022-02-19T19:33:53.413Z"
   },
   {
    "duration": 38,
    "start_time": "2022-02-19T19:33:53.472Z"
   },
   {
    "duration": 32,
    "start_time": "2022-02-19T19:34:03.543Z"
   },
   {
    "duration": 22,
    "start_time": "2022-02-19T19:54:29.845Z"
   },
   {
    "duration": 22,
    "start_time": "2022-02-19T19:58:31.093Z"
   },
   {
    "duration": 734,
    "start_time": "2022-02-19T19:58:43.766Z"
   },
   {
    "duration": 68,
    "start_time": "2022-02-19T19:58:47.883Z"
   },
   {
    "duration": 14,
    "start_time": "2022-02-19T19:58:47.954Z"
   },
   {
    "duration": 6,
    "start_time": "2022-02-19T19:58:47.970Z"
   },
   {
    "duration": 6,
    "start_time": "2022-02-19T19:58:47.979Z"
   },
   {
    "duration": 6,
    "start_time": "2022-02-19T19:58:47.988Z"
   },
   {
    "duration": 63,
    "start_time": "2022-02-19T19:58:48.048Z"
   },
   {
    "duration": 7,
    "start_time": "2022-02-19T19:58:48.113Z"
   },
   {
    "duration": 36,
    "start_time": "2022-02-19T19:58:48.123Z"
   },
   {
    "duration": 8,
    "start_time": "2022-02-19T19:58:48.163Z"
   },
   {
    "duration": 115,
    "start_time": "2022-02-19T19:58:48.173Z"
   },
   {
    "duration": 39,
    "start_time": "2022-02-19T19:58:48.290Z"
   },
   {
    "duration": 38,
    "start_time": "2022-02-19T19:58:48.332Z"
   },
   {
    "duration": 86,
    "start_time": "2022-02-19T19:58:48.372Z"
   },
   {
    "duration": 16,
    "start_time": "2022-02-19T19:58:48.460Z"
   },
   {
    "duration": 15,
    "start_time": "2022-02-19T19:58:48.478Z"
   },
   {
    "duration": 8,
    "start_time": "2022-02-19T19:58:48.496Z"
   },
   {
    "duration": 57,
    "start_time": "2022-02-19T19:58:48.507Z"
   },
   {
    "duration": 23,
    "start_time": "2022-02-19T19:58:48.567Z"
   },
   {
    "duration": 13,
    "start_time": "2022-02-19T19:58:48.593Z"
   },
   {
    "duration": 72,
    "start_time": "2022-02-19T19:58:48.610Z"
   },
   {
    "duration": 69,
    "start_time": "2022-02-19T19:58:48.685Z"
   },
   {
    "duration": 52,
    "start_time": "2022-02-19T19:58:48.757Z"
   },
   {
    "duration": 53,
    "start_time": "2022-02-19T19:58:48.812Z"
   },
   {
    "duration": 34,
    "start_time": "2022-02-19T19:58:48.867Z"
   },
   {
    "duration": 31,
    "start_time": "2022-02-19T19:58:56.133Z"
   },
   {
    "duration": 32,
    "start_time": "2022-02-19T19:59:36.241Z"
   },
   {
    "duration": 42,
    "start_time": "2022-02-19T20:00:20.514Z"
   },
   {
    "duration": 39,
    "start_time": "2022-02-19T20:28:40.714Z"
   },
   {
    "duration": 38,
    "start_time": "2022-02-19T20:29:14.073Z"
   },
   {
    "duration": 432,
    "start_time": "2022-02-19T20:30:21.465Z"
   },
   {
    "duration": 47,
    "start_time": "2022-02-19T20:30:58.532Z"
   },
   {
    "duration": 37,
    "start_time": "2022-02-19T20:31:53.224Z"
   },
   {
    "duration": 342,
    "start_time": "2022-02-19T20:32:22.344Z"
   },
   {
    "duration": 44,
    "start_time": "2022-02-19T20:33:06.271Z"
   },
   {
    "duration": 45,
    "start_time": "2022-02-19T20:33:26.871Z"
   },
   {
    "duration": 47,
    "start_time": "2022-02-19T20:34:31.782Z"
   },
   {
    "duration": 44,
    "start_time": "2022-02-19T20:34:45.387Z"
   },
   {
    "duration": 73,
    "start_time": "2022-02-19T20:34:55.233Z"
   },
   {
    "duration": 49,
    "start_time": "2022-02-19T20:35:14.936Z"
   },
   {
    "duration": 45,
    "start_time": "2022-02-19T20:35:54.312Z"
   },
   {
    "duration": 41,
    "start_time": "2022-02-19T20:36:28.847Z"
   },
   {
    "duration": 38,
    "start_time": "2022-02-19T20:36:39.751Z"
   },
   {
    "duration": 61,
    "start_time": "2022-02-19T20:36:52.021Z"
   },
   {
    "duration": 45,
    "start_time": "2022-02-19T20:37:16.133Z"
   },
   {
    "duration": 45,
    "start_time": "2022-02-19T20:37:21.331Z"
   },
   {
    "duration": 338,
    "start_time": "2022-02-19T20:37:58.951Z"
   },
   {
    "duration": 351,
    "start_time": "2022-02-19T20:38:06.621Z"
   },
   {
    "duration": 330,
    "start_time": "2022-02-19T20:38:19.803Z"
   },
   {
    "duration": 337,
    "start_time": "2022-02-19T20:38:54.784Z"
   },
   {
    "duration": 329,
    "start_time": "2022-02-19T20:38:57.950Z"
   },
   {
    "duration": 48,
    "start_time": "2022-02-19T20:39:00.491Z"
   },
   {
    "duration": 46,
    "start_time": "2022-02-19T20:39:31.341Z"
   },
   {
    "duration": 39,
    "start_time": "2022-02-19T20:39:40.721Z"
   },
   {
    "duration": 52,
    "start_time": "2022-02-19T20:43:49.373Z"
   },
   {
    "duration": 76,
    "start_time": "2022-02-19T20:45:18.255Z"
   },
   {
    "duration": 90,
    "start_time": "2022-02-19T20:45:40.572Z"
   },
   {
    "duration": 93,
    "start_time": "2022-02-19T20:46:10.716Z"
   },
   {
    "duration": 40,
    "start_time": "2022-02-19T20:49:26.452Z"
   },
   {
    "duration": 41,
    "start_time": "2022-02-19T20:51:51.569Z"
   },
   {
    "duration": 57,
    "start_time": "2022-02-19T20:51:59.933Z"
   },
   {
    "duration": 38,
    "start_time": "2022-02-19T20:52:35.971Z"
   },
   {
    "duration": 97,
    "start_time": "2022-02-21T15:57:06.909Z"
   },
   {
    "duration": 411,
    "start_time": "2022-02-21T15:57:12.379Z"
   },
   {
    "duration": 7,
    "start_time": "2022-02-21T15:57:41.116Z"
   },
   {
    "duration": 3,
    "start_time": "2022-02-21T15:57:46.058Z"
   },
   {
    "duration": 3,
    "start_time": "2022-02-21T15:57:47.605Z"
   },
   {
    "duration": 237,
    "start_time": "2022-02-21T15:58:06.237Z"
   },
   {
    "duration": 238,
    "start_time": "2022-02-21T15:59:19.326Z"
   },
   {
    "duration": 667,
    "start_time": "2022-02-21T15:59:25.167Z"
   },
   {
    "duration": 16,
    "start_time": "2022-02-21T15:59:25.835Z"
   },
   {
    "duration": 4,
    "start_time": "2022-02-21T15:59:25.854Z"
   },
   {
    "duration": 10,
    "start_time": "2022-02-21T15:59:25.860Z"
   },
   {
    "duration": 8,
    "start_time": "2022-02-21T15:59:25.871Z"
   },
   {
    "duration": 5,
    "start_time": "2022-02-21T15:59:25.881Z"
   },
   {
    "duration": 31,
    "start_time": "2022-02-21T15:59:25.888Z"
   },
   {
    "duration": 16,
    "start_time": "2022-02-21T15:59:25.920Z"
   },
   {
    "duration": 5,
    "start_time": "2022-02-21T15:59:25.938Z"
   },
   {
    "duration": 59,
    "start_time": "2022-02-21T15:59:25.945Z"
   },
   {
    "duration": 37,
    "start_time": "2022-02-21T15:59:26.006Z"
   },
   {
    "duration": 16,
    "start_time": "2022-02-21T15:59:26.045Z"
   },
   {
    "duration": 69,
    "start_time": "2022-02-21T15:59:26.063Z"
   },
   {
    "duration": 12,
    "start_time": "2022-02-21T15:59:26.134Z"
   },
   {
    "duration": 12,
    "start_time": "2022-02-21T15:59:26.148Z"
   },
   {
    "duration": 7,
    "start_time": "2022-02-21T15:59:26.162Z"
   },
   {
    "duration": 283,
    "start_time": "2022-02-21T15:59:30.299Z"
   },
   {
    "duration": 159,
    "start_time": "2022-02-21T16:00:00.018Z"
   },
   {
    "duration": 249,
    "start_time": "2022-02-21T16:00:02.637Z"
   },
   {
    "duration": 354,
    "start_time": "2022-02-21T16:00:09.779Z"
   },
   {
    "duration": 255,
    "start_time": "2022-02-21T16:00:14.457Z"
   },
   {
    "duration": 718,
    "start_time": "2022-02-21T16:01:29.806Z"
   },
   {
    "duration": 271,
    "start_time": "2022-02-21T16:02:07.166Z"
   },
   {
    "duration": 801,
    "start_time": "2022-02-21T16:03:46.887Z"
   },
   {
    "duration": 726,
    "start_time": "2022-02-21T16:03:57.317Z"
   },
   {
    "duration": 278,
    "start_time": "2022-02-21T16:04:16.058Z"
   },
   {
    "duration": 827,
    "start_time": "2022-02-21T16:04:24.068Z"
   },
   {
    "duration": 1030,
    "start_time": "2022-02-21T16:04:34.857Z"
   },
   {
    "duration": 286,
    "start_time": "2022-02-21T16:04:45.928Z"
   },
   {
    "duration": 352,
    "start_time": "2022-02-21T16:10:21.523Z"
   },
   {
    "duration": 196,
    "start_time": "2022-02-21T16:11:26.473Z"
   },
   {
    "duration": 781,
    "start_time": "2022-02-21T16:13:47.136Z"
   },
   {
    "duration": 16,
    "start_time": "2022-02-21T16:13:47.919Z"
   },
   {
    "duration": 4,
    "start_time": "2022-02-21T16:13:47.937Z"
   },
   {
    "duration": 8,
    "start_time": "2022-02-21T16:13:47.943Z"
   },
   {
    "duration": 13,
    "start_time": "2022-02-21T16:13:47.953Z"
   },
   {
    "duration": 6,
    "start_time": "2022-02-21T16:13:47.968Z"
   },
   {
    "duration": 7,
    "start_time": "2022-02-21T16:13:47.976Z"
   },
   {
    "duration": 44,
    "start_time": "2022-02-21T16:13:47.985Z"
   },
   {
    "duration": 7,
    "start_time": "2022-02-21T16:13:48.033Z"
   },
   {
    "duration": 79,
    "start_time": "2022-02-21T16:13:48.042Z"
   },
   {
    "duration": 25,
    "start_time": "2022-02-21T16:13:48.123Z"
   },
   {
    "duration": 16,
    "start_time": "2022-02-21T16:13:48.150Z"
   },
   {
    "duration": 74,
    "start_time": "2022-02-21T16:13:48.168Z"
   },
   {
    "duration": 12,
    "start_time": "2022-02-21T16:13:48.244Z"
   },
   {
    "duration": 12,
    "start_time": "2022-02-21T16:13:48.257Z"
   },
   {
    "duration": 5,
    "start_time": "2022-02-21T16:13:48.271Z"
   },
   {
    "duration": 32,
    "start_time": "2022-02-21T16:13:48.278Z"
   },
   {
    "duration": 16,
    "start_time": "2022-02-21T16:13:48.318Z"
   },
   {
    "duration": 15,
    "start_time": "2022-02-21T16:13:48.336Z"
   },
   {
    "duration": 12,
    "start_time": "2022-02-21T16:13:48.352Z"
   },
   {
    "duration": 53,
    "start_time": "2022-02-21T16:13:48.366Z"
   },
   {
    "duration": 31,
    "start_time": "2022-02-21T16:13:48.421Z"
   },
   {
    "duration": 26,
    "start_time": "2022-02-21T16:13:48.454Z"
   },
   {
    "duration": 48,
    "start_time": "2022-02-21T16:13:48.482Z"
   },
   {
    "duration": 1352,
    "start_time": "2022-02-21T16:13:48.532Z"
   },
   {
    "duration": 32,
    "start_time": "2022-02-21T16:13:49.886Z"
   },
   {
    "duration": 30,
    "start_time": "2022-02-21T16:13:49.923Z"
   },
   {
    "duration": 31,
    "start_time": "2022-02-21T16:13:49.956Z"
   },
   {
    "duration": 86,
    "start_time": "2022-02-21T16:14:28.687Z"
   },
   {
    "duration": 3393,
    "start_time": "2022-02-21T16:15:20.177Z"
   },
   {
    "duration": 2833,
    "start_time": "2022-02-21T16:16:15.724Z"
   },
   {
    "duration": 14,
    "start_time": "2022-02-21T16:16:18.559Z"
   },
   {
    "duration": 15,
    "start_time": "2022-02-21T16:16:18.576Z"
   },
   {
    "duration": 26,
    "start_time": "2022-02-21T16:16:18.594Z"
   },
   {
    "duration": 35,
    "start_time": "2022-02-21T16:16:18.623Z"
   },
   {
    "duration": 34,
    "start_time": "2022-02-21T16:16:18.660Z"
   },
   {
    "duration": 56,
    "start_time": "2022-02-21T16:16:18.696Z"
   },
   {
    "duration": 30,
    "start_time": "2022-02-21T16:16:18.755Z"
   },
   {
    "duration": 134,
    "start_time": "2022-02-21T16:16:18.788Z"
   },
   {
    "duration": 29,
    "start_time": "2022-02-21T16:16:18.924Z"
   },
   {
    "duration": 31,
    "start_time": "2022-02-21T16:16:18.955Z"
   },
   {
    "duration": 51,
    "start_time": "2022-02-21T16:16:18.988Z"
   },
   {
    "duration": 2859,
    "start_time": "2022-02-21T16:16:26.875Z"
   },
   {
    "duration": 7,
    "start_time": "2022-02-21T16:16:57.455Z"
   },
   {
    "duration": 6,
    "start_time": "2022-02-21T16:17:51.607Z"
   },
   {
    "duration": 5,
    "start_time": "2022-02-21T16:17:54.067Z"
   },
   {
    "duration": 58,
    "start_time": "2022-02-21T16:18:02.146Z"
   },
   {
    "duration": 13,
    "start_time": "2022-02-21T16:18:02.206Z"
   },
   {
    "duration": 27,
    "start_time": "2022-02-21T16:18:02.221Z"
   },
   {
    "duration": 13,
    "start_time": "2022-02-21T16:18:02.250Z"
   },
   {
    "duration": 34,
    "start_time": "2022-02-21T16:18:02.265Z"
   },
   {
    "duration": 11,
    "start_time": "2022-02-21T16:18:02.301Z"
   },
   {
    "duration": 14,
    "start_time": "2022-02-21T16:18:02.314Z"
   },
   {
    "duration": 16,
    "start_time": "2022-02-21T16:18:02.330Z"
   },
   {
    "duration": 18,
    "start_time": "2022-02-21T16:18:02.348Z"
   },
   {
    "duration": 71,
    "start_time": "2022-02-21T16:18:02.368Z"
   },
   {
    "duration": 25,
    "start_time": "2022-02-21T16:18:02.441Z"
   },
   {
    "duration": 18,
    "start_time": "2022-02-21T16:18:02.468Z"
   },
   {
    "duration": 74,
    "start_time": "2022-02-21T16:18:02.487Z"
   },
   {
    "duration": 12,
    "start_time": "2022-02-21T16:18:02.562Z"
   },
   {
    "duration": 30,
    "start_time": "2022-02-21T16:18:02.575Z"
   },
   {
    "duration": 10,
    "start_time": "2022-02-21T16:18:06.646Z"
   },
   {
    "duration": 9,
    "start_time": "2022-02-21T16:18:10.796Z"
   },
   {
    "duration": 357,
    "start_time": "2022-02-21T16:18:29.683Z"
   },
   {
    "duration": 76753,
    "start_time": "2022-02-21T16:18:49.145Z"
   },
   {
    "duration": 271,
    "start_time": "2022-02-21T16:25:05.386Z"
   },
   {
    "duration": 7,
    "start_time": "2022-02-21T16:25:58.858Z"
   },
   {
    "duration": 7,
    "start_time": "2022-02-21T16:26:05.877Z"
   },
   {
    "duration": 711,
    "start_time": "2022-02-21T16:26:26.158Z"
   },
   {
    "duration": 722,
    "start_time": "2022-02-21T16:26:30.788Z"
   },
   {
    "duration": 819,
    "start_time": "2022-02-21T16:26:46.575Z"
   },
   {
    "duration": 1463,
    "start_time": "2022-02-21T16:28:11.475Z"
   },
   {
    "duration": 1424,
    "start_time": "2022-02-21T16:28:15.456Z"
   },
   {
    "duration": 7,
    "start_time": "2022-02-21T16:30:12.666Z"
   },
   {
    "duration": 7,
    "start_time": "2022-02-21T16:30:17.023Z"
   },
   {
    "duration": 6,
    "start_time": "2022-02-21T16:31:38.176Z"
   },
   {
    "duration": 8,
    "start_time": "2022-02-21T16:31:42.334Z"
   },
   {
    "duration": 22,
    "start_time": "2022-02-21T17:02:11.495Z"
   },
   {
    "duration": 58,
    "start_time": "2022-02-21T17:02:21.474Z"
   },
   {
    "duration": 14,
    "start_time": "2022-02-21T17:02:21.535Z"
   },
   {
    "duration": 6,
    "start_time": "2022-02-21T17:02:21.551Z"
   },
   {
    "duration": 11,
    "start_time": "2022-02-21T17:02:21.559Z"
   },
   {
    "duration": 7,
    "start_time": "2022-02-21T17:02:21.572Z"
   },
   {
    "duration": 6,
    "start_time": "2022-02-21T17:02:21.620Z"
   },
   {
    "duration": 9,
    "start_time": "2022-02-21T17:02:21.628Z"
   },
   {
    "duration": 16,
    "start_time": "2022-02-21T17:02:21.639Z"
   },
   {
    "duration": 6,
    "start_time": "2022-02-21T17:02:21.658Z"
   },
   {
    "duration": 90,
    "start_time": "2022-02-21T17:02:21.666Z"
   },
   {
    "duration": 25,
    "start_time": "2022-02-21T17:02:21.758Z"
   },
   {
    "duration": 35,
    "start_time": "2022-02-21T17:02:21.785Z"
   },
   {
    "duration": 48,
    "start_time": "2022-02-21T17:02:21.822Z"
   },
   {
    "duration": 15,
    "start_time": "2022-02-21T17:02:21.873Z"
   },
   {
    "duration": 41,
    "start_time": "2022-02-21T17:02:21.890Z"
   },
   {
    "duration": 8,
    "start_time": "2022-02-21T17:02:21.934Z"
   },
   {
    "duration": 27,
    "start_time": "2022-02-21T17:02:21.944Z"
   },
   {
    "duration": 35,
    "start_time": "2022-02-21T17:02:21.973Z"
   },
   {
    "duration": 23,
    "start_time": "2022-02-21T17:02:22.010Z"
   },
   {
    "duration": 46,
    "start_time": "2022-02-21T17:02:22.035Z"
   },
   {
    "duration": 49,
    "start_time": "2022-02-21T17:02:22.082Z"
   },
   {
    "duration": 38,
    "start_time": "2022-02-21T17:02:22.134Z"
   },
   {
    "duration": 51,
    "start_time": "2022-02-21T17:02:22.175Z"
   },
   {
    "duration": 29,
    "start_time": "2022-02-21T17:02:22.228Z"
   },
   {
    "duration": 25,
    "start_time": "2022-02-21T17:02:22.259Z"
   },
   {
    "duration": 50,
    "start_time": "2022-02-21T17:02:22.287Z"
   },
   {
    "duration": 27,
    "start_time": "2022-02-21T17:02:22.340Z"
   },
   {
    "duration": 111,
    "start_time": "2022-02-21T17:02:56.704Z"
   },
   {
    "duration": 7,
    "start_time": "2022-02-21T17:03:00.445Z"
   },
   {
    "duration": 157,
    "start_time": "2022-02-21T17:03:09.524Z"
   },
   {
    "duration": 99,
    "start_time": "2022-02-21T17:03:40.434Z"
   },
   {
    "duration": 132,
    "start_time": "2022-02-21T17:03:49.888Z"
   },
   {
    "duration": 7,
    "start_time": "2022-02-21T17:03:54.163Z"
   },
   {
    "duration": 6,
    "start_time": "2022-02-21T17:04:10.967Z"
   },
   {
    "duration": 3,
    "start_time": "2022-02-21T17:11:03.763Z"
   },
   {
    "duration": 479,
    "start_time": "2022-02-21T17:11:36.727Z"
   },
   {
    "duration": 55,
    "start_time": "2022-02-21T17:11:43.637Z"
   },
   {
    "duration": 11,
    "start_time": "2022-02-21T17:11:43.694Z"
   },
   {
    "duration": 9,
    "start_time": "2022-02-21T17:11:43.707Z"
   },
   {
    "duration": 6,
    "start_time": "2022-02-21T17:11:43.719Z"
   },
   {
    "duration": 8,
    "start_time": "2022-02-21T17:11:43.726Z"
   },
   {
    "duration": 7,
    "start_time": "2022-02-21T17:11:43.736Z"
   },
   {
    "duration": 6,
    "start_time": "2022-02-21T17:11:43.744Z"
   },
   {
    "duration": 13,
    "start_time": "2022-02-21T17:11:43.752Z"
   },
   {
    "duration": 5,
    "start_time": "2022-02-21T17:11:43.768Z"
   },
   {
    "duration": 93,
    "start_time": "2022-02-21T17:11:43.775Z"
   },
   {
    "duration": 24,
    "start_time": "2022-02-21T17:11:43.870Z"
   },
   {
    "duration": 32,
    "start_time": "2022-02-21T17:11:43.895Z"
   },
   {
    "duration": 41,
    "start_time": "2022-02-21T17:11:43.928Z"
   },
   {
    "duration": 10,
    "start_time": "2022-02-21T17:11:43.971Z"
   },
   {
    "duration": 36,
    "start_time": "2022-02-21T17:11:43.983Z"
   },
   {
    "duration": 8,
    "start_time": "2022-02-21T17:11:44.021Z"
   },
   {
    "duration": 17,
    "start_time": "2022-02-21T17:11:44.030Z"
   },
   {
    "duration": 30,
    "start_time": "2022-02-21T17:11:44.048Z"
   },
   {
    "duration": 24,
    "start_time": "2022-02-21T17:11:44.080Z"
   },
   {
    "duration": 15,
    "start_time": "2022-02-21T17:11:44.106Z"
   },
   {
    "duration": 517,
    "start_time": "2022-02-21T17:11:44.123Z"
   },
   {
    "duration": -44,
    "start_time": "2022-02-21T17:11:44.686Z"
   },
   {
    "duration": -58,
    "start_time": "2022-02-21T17:11:44.701Z"
   },
   {
    "duration": -65,
    "start_time": "2022-02-21T17:11:44.710Z"
   },
   {
    "duration": -68,
    "start_time": "2022-02-21T17:11:44.714Z"
   },
   {
    "duration": -75,
    "start_time": "2022-02-21T17:11:44.722Z"
   },
   {
    "duration": -84,
    "start_time": "2022-02-21T17:11:44.732Z"
   },
   {
    "duration": -86,
    "start_time": "2022-02-21T17:11:44.735Z"
   },
   {
    "duration": 3,
    "start_time": "2022-02-21T17:12:11.297Z"
   },
   {
    "duration": 25,
    "start_time": "2022-02-21T17:12:12.585Z"
   },
   {
    "duration": 3,
    "start_time": "2022-02-21T17:12:35.865Z"
   },
   {
    "duration": 23,
    "start_time": "2022-02-21T17:12:37.064Z"
   },
   {
    "duration": 23,
    "start_time": "2022-02-21T17:13:16.024Z"
   },
   {
    "duration": 54,
    "start_time": "2022-02-21T17:13:35.285Z"
   },
   {
    "duration": 13,
    "start_time": "2022-02-21T17:13:35.341Z"
   },
   {
    "duration": 12,
    "start_time": "2022-02-21T17:13:35.357Z"
   },
   {
    "duration": 17,
    "start_time": "2022-02-21T17:13:35.372Z"
   },
   {
    "duration": 11,
    "start_time": "2022-02-21T17:13:35.391Z"
   },
   {
    "duration": 22,
    "start_time": "2022-02-21T17:13:35.418Z"
   },
   {
    "duration": 11,
    "start_time": "2022-02-21T17:13:35.441Z"
   },
   {
    "duration": 22,
    "start_time": "2022-02-21T17:13:35.454Z"
   },
   {
    "duration": 5,
    "start_time": "2022-02-21T17:13:35.480Z"
   },
   {
    "duration": 69,
    "start_time": "2022-02-21T17:13:35.488Z"
   },
   {
    "duration": 22,
    "start_time": "2022-02-21T17:13:35.559Z"
   },
   {
    "duration": 15,
    "start_time": "2022-02-21T17:13:35.583Z"
   },
   {
    "duration": 61,
    "start_time": "2022-02-21T17:13:35.600Z"
   },
   {
    "duration": 13,
    "start_time": "2022-02-21T17:13:35.663Z"
   },
   {
    "duration": 15,
    "start_time": "2022-02-21T17:13:35.677Z"
   },
   {
    "duration": 27,
    "start_time": "2022-02-21T17:13:35.693Z"
   },
   {
    "duration": 14,
    "start_time": "2022-02-21T17:13:35.722Z"
   },
   {
    "duration": 14,
    "start_time": "2022-02-21T17:13:35.738Z"
   },
   {
    "duration": 9,
    "start_time": "2022-02-21T17:13:35.754Z"
   },
   {
    "duration": 2,
    "start_time": "2022-02-21T17:13:35.765Z"
   },
   {
    "duration": 56,
    "start_time": "2022-02-21T17:13:35.769Z"
   },
   {
    "duration": 25,
    "start_time": "2022-02-21T17:13:35.826Z"
   },
   {
    "duration": 25,
    "start_time": "2022-02-21T17:13:35.852Z"
   },
   {
    "duration": 45,
    "start_time": "2022-02-21T17:13:35.879Z"
   },
   {
    "duration": 25,
    "start_time": "2022-02-21T17:13:35.926Z"
   },
   {
    "duration": 22,
    "start_time": "2022-02-21T17:13:35.953Z"
   },
   {
    "duration": 53,
    "start_time": "2022-02-21T17:13:35.979Z"
   },
   {
    "duration": 27,
    "start_time": "2022-02-21T17:13:36.034Z"
   },
   {
    "duration": 102,
    "start_time": "2022-02-21T17:41:51.659Z"
   },
   {
    "duration": 57,
    "start_time": "2022-02-21T17:41:56.344Z"
   },
   {
    "duration": 80,
    "start_time": "2022-02-21T17:42:08.144Z"
   },
   {
    "duration": 12,
    "start_time": "2022-02-21T17:42:12.118Z"
   },
   {
    "duration": 11,
    "start_time": "2022-02-21T17:56:48.187Z"
   },
   {
    "duration": 6,
    "start_time": "2022-02-21T17:56:50.564Z"
   },
   {
    "duration": 395,
    "start_time": "2022-02-21T18:35:04.465Z"
   },
   {
    "duration": 80,
    "start_time": "2022-02-21T18:35:20.773Z"
   },
   {
    "duration": 241,
    "start_time": "2022-02-21T18:35:23.239Z"
   },
   {
    "duration": 10,
    "start_time": "2022-02-21T18:35:30.074Z"
   },
   {
    "duration": 7,
    "start_time": "2022-02-21T18:35:47.503Z"
   },
   {
    "duration": 6,
    "start_time": "2022-02-21T18:36:05.806Z"
   },
   {
    "duration": 55,
    "start_time": "2022-02-21T18:44:49.993Z"
   },
   {
    "duration": 14,
    "start_time": "2022-02-21T18:44:50.050Z"
   },
   {
    "duration": 5,
    "start_time": "2022-02-21T18:44:50.068Z"
   },
   {
    "duration": 8,
    "start_time": "2022-02-21T18:44:50.076Z"
   },
   {
    "duration": 34,
    "start_time": "2022-02-21T18:44:50.086Z"
   },
   {
    "duration": 7,
    "start_time": "2022-02-21T18:44:50.122Z"
   },
   {
    "duration": 6,
    "start_time": "2022-02-21T18:44:50.131Z"
   },
   {
    "duration": 17,
    "start_time": "2022-02-21T18:44:50.139Z"
   },
   {
    "duration": 18,
    "start_time": "2022-02-21T18:45:21.026Z"
   },
   {
    "duration": 14,
    "start_time": "2022-02-21T18:45:36.147Z"
   },
   {
    "duration": 26,
    "start_time": "2022-02-21T18:45:36.163Z"
   },
   {
    "duration": 62,
    "start_time": "2022-02-21T18:45:36.191Z"
   },
   {
    "duration": 21,
    "start_time": "2022-02-21T18:45:36.255Z"
   },
   {
    "duration": 15,
    "start_time": "2022-02-21T18:45:36.278Z"
   },
   {
    "duration": 63,
    "start_time": "2022-02-21T18:45:36.295Z"
   },
   {
    "duration": 12,
    "start_time": "2022-02-21T18:45:36.359Z"
   },
   {
    "duration": 11,
    "start_time": "2022-02-21T18:45:36.373Z"
   },
   {
    "duration": 32,
    "start_time": "2022-02-21T18:45:36.387Z"
   },
   {
    "duration": 25,
    "start_time": "2022-02-21T18:45:36.422Z"
   },
   {
    "duration": 30,
    "start_time": "2022-02-21T18:45:36.449Z"
   },
   {
    "duration": 25,
    "start_time": "2022-02-21T18:45:36.481Z"
   },
   {
    "duration": 24,
    "start_time": "2022-02-21T18:45:36.508Z"
   },
   {
    "duration": 30,
    "start_time": "2022-02-21T18:45:36.534Z"
   },
   {
    "duration": 25,
    "start_time": "2022-02-21T18:45:36.566Z"
   },
   {
    "duration": 25,
    "start_time": "2022-02-21T18:45:36.593Z"
   },
   {
    "duration": 21,
    "start_time": "2022-02-21T18:45:36.620Z"
   },
   {
    "duration": 23,
    "start_time": "2022-02-21T18:45:36.643Z"
   },
   {
    "duration": 22,
    "start_time": "2022-02-21T18:45:36.668Z"
   },
   {
    "duration": 24,
    "start_time": "2022-02-21T18:45:36.718Z"
   },
   {
    "duration": 24,
    "start_time": "2022-02-21T18:45:36.744Z"
   },
   {
    "duration": 53,
    "start_time": "2022-02-21T18:45:51.423Z"
   },
   {
    "duration": 9,
    "start_time": "2022-02-21T18:45:51.479Z"
   },
   {
    "duration": 5,
    "start_time": "2022-02-21T18:45:51.490Z"
   },
   {
    "duration": 23,
    "start_time": "2022-02-21T18:45:51.496Z"
   },
   {
    "duration": 6,
    "start_time": "2022-02-21T18:45:51.521Z"
   },
   {
    "duration": 6,
    "start_time": "2022-02-21T18:45:51.529Z"
   },
   {
    "duration": 8,
    "start_time": "2022-02-21T18:45:51.537Z"
   },
   {
    "duration": 12,
    "start_time": "2022-02-21T18:45:51.546Z"
   },
   {
    "duration": 13,
    "start_time": "2022-02-21T18:45:55.494Z"
   },
   {
    "duration": 240,
    "start_time": "2022-02-21T18:46:34.834Z"
   },
   {
    "duration": 5,
    "start_time": "2022-02-21T18:46:37.663Z"
   },
   {
    "duration": 13,
    "start_time": "2022-02-21T18:46:54.634Z"
   },
   {
    "duration": 279,
    "start_time": "2022-02-21T18:49:50.112Z"
   },
   {
    "duration": 8,
    "start_time": "2022-02-21T18:49:54.339Z"
   },
   {
    "duration": 88,
    "start_time": "2022-02-21T18:52:02.652Z"
   },
   {
    "duration": 265,
    "start_time": "2022-02-21T18:53:20.352Z"
   },
   {
    "duration": 347,
    "start_time": "2022-02-21T18:53:35.673Z"
   },
   {
    "duration": 275,
    "start_time": "2022-02-21T18:53:39.312Z"
   },
   {
    "duration": 243,
    "start_time": "2022-02-21T18:54:08.131Z"
   },
   {
    "duration": 5,
    "start_time": "2022-02-21T18:54:18.212Z"
   },
   {
    "duration": 5,
    "start_time": "2022-02-21T18:54:23.532Z"
   },
   {
    "duration": 7,
    "start_time": "2022-02-21T18:54:29.173Z"
   },
   {
    "duration": 6,
    "start_time": "2022-02-21T18:59:08.451Z"
   },
   {
    "duration": 48,
    "start_time": "2022-02-21T18:59:17.374Z"
   },
   {
    "duration": 54,
    "start_time": "2022-02-21T19:01:57.193Z"
   },
   {
    "duration": 11,
    "start_time": "2022-02-21T19:01:57.248Z"
   },
   {
    "duration": 10,
    "start_time": "2022-02-21T19:01:57.262Z"
   },
   {
    "duration": 6,
    "start_time": "2022-02-21T19:01:57.274Z"
   },
   {
    "duration": 6,
    "start_time": "2022-02-21T19:01:57.282Z"
   },
   {
    "duration": 31,
    "start_time": "2022-02-21T19:01:57.290Z"
   },
   {
    "duration": 5,
    "start_time": "2022-02-21T19:01:57.323Z"
   },
   {
    "duration": 13,
    "start_time": "2022-02-21T19:01:57.330Z"
   },
   {
    "duration": 12,
    "start_time": "2022-02-21T19:01:57.345Z"
   },
   {
    "duration": 7,
    "start_time": "2022-02-21T19:02:32.712Z"
   },
   {
    "duration": 5,
    "start_time": "2022-02-21T19:02:34.891Z"
   },
   {
    "duration": 9,
    "start_time": "2022-02-21T19:02:44.391Z"
   },
   {
    "duration": 7,
    "start_time": "2022-02-21T19:03:00.312Z"
   },
   {
    "duration": 7,
    "start_time": "2022-02-21T19:06:19.491Z"
   },
   {
    "duration": 17,
    "start_time": "2022-02-21T19:08:01.891Z"
   },
   {
    "duration": 5,
    "start_time": "2022-02-21T19:08:08.744Z"
   },
   {
    "duration": 18,
    "start_time": "2022-02-21T19:09:21.791Z"
   },
   {
    "duration": 17,
    "start_time": "2022-02-21T19:09:25.911Z"
   },
   {
    "duration": 24,
    "start_time": "2022-02-21T19:09:36.911Z"
   },
   {
    "duration": 18,
    "start_time": "2022-02-21T19:10:42.551Z"
   },
   {
    "duration": 15,
    "start_time": "2022-02-21T19:11:09.392Z"
   },
   {
    "duration": 17,
    "start_time": "2022-02-21T19:13:05.731Z"
   },
   {
    "duration": 79,
    "start_time": "2022-02-21T19:15:57.532Z"
   },
   {
    "duration": 34,
    "start_time": "2022-02-21T19:17:31.192Z"
   },
   {
    "duration": 20,
    "start_time": "2022-02-21T19:17:42.332Z"
   },
   {
    "duration": 20,
    "start_time": "2022-02-21T19:17:45.892Z"
   },
   {
    "duration": 21,
    "start_time": "2022-02-21T19:17:47.491Z"
   },
   {
    "duration": 35,
    "start_time": "2022-02-21T19:17:49.432Z"
   },
   {
    "duration": 21,
    "start_time": "2022-02-21T19:18:08.692Z"
   },
   {
    "duration": 18,
    "start_time": "2022-02-21T19:18:13.852Z"
   },
   {
    "duration": 21,
    "start_time": "2022-02-21T19:18:15.312Z"
   },
   {
    "duration": 55,
    "start_time": "2022-02-21T19:18:18.152Z"
   },
   {
    "duration": 10,
    "start_time": "2022-02-21T19:18:18.209Z"
   },
   {
    "duration": 9,
    "start_time": "2022-02-21T19:18:18.220Z"
   },
   {
    "duration": 7,
    "start_time": "2022-02-21T19:18:18.231Z"
   },
   {
    "duration": 10,
    "start_time": "2022-02-21T19:18:18.239Z"
   },
   {
    "duration": 7,
    "start_time": "2022-02-21T19:18:18.251Z"
   },
   {
    "duration": 5,
    "start_time": "2022-02-21T19:18:18.260Z"
   },
   {
    "duration": 13,
    "start_time": "2022-02-21T19:18:18.268Z"
   },
   {
    "duration": 44,
    "start_time": "2022-02-21T19:18:18.283Z"
   },
   {
    "duration": 6,
    "start_time": "2022-02-21T19:18:18.329Z"
   },
   {
    "duration": 40,
    "start_time": "2022-02-21T19:18:18.337Z"
   },
   {
    "duration": 6,
    "start_time": "2022-02-21T19:18:18.378Z"
   },
   {
    "duration": 7,
    "start_time": "2022-02-21T19:18:18.385Z"
   },
   {
    "duration": 30,
    "start_time": "2022-02-21T19:18:18.393Z"
   },
   {
    "duration": 29,
    "start_time": "2022-02-21T19:18:18.425Z"
   },
   {
    "duration": 24,
    "start_time": "2022-02-21T19:18:18.455Z"
   },
   {
    "duration": 21,
    "start_time": "2022-02-21T19:18:22.472Z"
   },
   {
    "duration": 55,
    "start_time": "2022-02-21T19:18:40.612Z"
   },
   {
    "duration": 11,
    "start_time": "2022-02-21T19:18:40.669Z"
   },
   {
    "duration": 18,
    "start_time": "2022-02-21T19:18:40.682Z"
   },
   {
    "duration": 21,
    "start_time": "2022-02-21T19:18:40.702Z"
   },
   {
    "duration": 23,
    "start_time": "2022-02-21T19:18:40.725Z"
   },
   {
    "duration": 6,
    "start_time": "2022-02-21T19:18:40.750Z"
   },
   {
    "duration": 10,
    "start_time": "2022-02-21T19:18:40.758Z"
   },
   {
    "duration": 12,
    "start_time": "2022-02-21T19:18:40.770Z"
   },
   {
    "duration": 11,
    "start_time": "2022-02-21T19:18:40.785Z"
   },
   {
    "duration": 19,
    "start_time": "2022-02-21T19:18:40.799Z"
   },
   {
    "duration": 39,
    "start_time": "2022-02-21T19:18:40.820Z"
   },
   {
    "duration": 6,
    "start_time": "2022-02-21T19:18:40.861Z"
   },
   {
    "duration": 6,
    "start_time": "2022-02-21T19:18:40.869Z"
   },
   {
    "duration": 8,
    "start_time": "2022-02-21T19:18:40.876Z"
   },
   {
    "duration": 50,
    "start_time": "2022-02-21T19:18:40.885Z"
   },
   {
    "duration": 25,
    "start_time": "2022-02-21T19:18:40.936Z"
   },
   {
    "duration": 12,
    "start_time": "2022-02-21T19:18:40.962Z"
   },
   {
    "duration": 12,
    "start_time": "2022-02-21T19:18:40.975Z"
   },
   {
    "duration": 31,
    "start_time": "2022-02-21T19:18:40.989Z"
   },
   {
    "duration": 16,
    "start_time": "2022-02-21T19:18:41.022Z"
   },
   {
    "duration": 16,
    "start_time": "2022-02-21T19:18:41.040Z"
   },
   {
    "duration": 9,
    "start_time": "2022-02-21T19:18:41.058Z"
   },
   {
    "duration": 4,
    "start_time": "2022-02-21T19:18:41.069Z"
   },
   {
    "duration": 64,
    "start_time": "2022-02-21T19:18:41.075Z"
   },
   {
    "duration": 25,
    "start_time": "2022-02-21T19:18:41.141Z"
   },
   {
    "duration": 25,
    "start_time": "2022-02-21T19:18:41.167Z"
   },
   {
    "duration": 43,
    "start_time": "2022-02-21T19:18:41.195Z"
   },
   {
    "duration": 26,
    "start_time": "2022-02-21T19:18:41.240Z"
   },
   {
    "duration": 23,
    "start_time": "2022-02-21T19:18:41.268Z"
   },
   {
    "duration": 49,
    "start_time": "2022-02-21T19:18:41.293Z"
   },
   {
    "duration": 25,
    "start_time": "2022-02-21T19:18:41.344Z"
   },
   {
    "duration": 56,
    "start_time": "2022-02-21T19:19:12.324Z"
   },
   {
    "duration": 10,
    "start_time": "2022-02-21T19:19:12.383Z"
   },
   {
    "duration": 7,
    "start_time": "2022-02-21T19:19:12.395Z"
   },
   {
    "duration": 18,
    "start_time": "2022-02-21T19:19:12.404Z"
   },
   {
    "duration": 17,
    "start_time": "2022-02-21T19:19:12.424Z"
   },
   {
    "duration": 17,
    "start_time": "2022-02-21T19:19:12.443Z"
   },
   {
    "duration": 7,
    "start_time": "2022-02-21T19:19:12.462Z"
   },
   {
    "duration": 14,
    "start_time": "2022-02-21T19:19:12.470Z"
   },
   {
    "duration": 12,
    "start_time": "2022-02-21T19:19:12.487Z"
   },
   {
    "duration": 23,
    "start_time": "2022-02-21T19:19:12.500Z"
   },
   {
    "duration": 44,
    "start_time": "2022-02-21T19:19:12.525Z"
   },
   {
    "duration": 6,
    "start_time": "2022-02-21T19:19:12.571Z"
   },
   {
    "duration": 5,
    "start_time": "2022-02-21T19:19:12.579Z"
   },
   {
    "duration": 9,
    "start_time": "2022-02-21T19:19:12.586Z"
   },
   {
    "duration": 30,
    "start_time": "2022-02-21T19:19:18.874Z"
   },
   {
    "duration": 21,
    "start_time": "2022-02-21T19:19:20.572Z"
   },
   {
    "duration": 39,
    "start_time": "2022-02-21T19:19:24.440Z"
   },
   {
    "duration": 53,
    "start_time": "2022-02-21T19:19:44.853Z"
   },
   {
    "duration": 10,
    "start_time": "2022-02-21T19:19:44.909Z"
   },
   {
    "duration": 6,
    "start_time": "2022-02-21T19:19:44.920Z"
   },
   {
    "duration": 5,
    "start_time": "2022-02-21T19:19:44.928Z"
   },
   {
    "duration": 11,
    "start_time": "2022-02-21T19:19:44.934Z"
   },
   {
    "duration": 8,
    "start_time": "2022-02-21T19:19:44.946Z"
   },
   {
    "duration": 4,
    "start_time": "2022-02-21T19:19:44.956Z"
   },
   {
    "duration": 13,
    "start_time": "2022-02-21T19:19:44.961Z"
   },
   {
    "duration": 10,
    "start_time": "2022-02-21T19:19:44.977Z"
   },
   {
    "duration": 10,
    "start_time": "2022-02-21T19:19:45.018Z"
   },
   {
    "duration": 46,
    "start_time": "2022-02-21T19:19:45.030Z"
   },
   {
    "duration": 6,
    "start_time": "2022-02-21T19:19:45.078Z"
   },
   {
    "duration": 13,
    "start_time": "2022-02-21T19:19:45.086Z"
   },
   {
    "duration": 18,
    "start_time": "2022-02-21T19:19:45.101Z"
   },
   {
    "duration": 27,
    "start_time": "2022-02-21T19:19:47.132Z"
   },
   {
    "duration": 26,
    "start_time": "2022-02-21T19:19:48.603Z"
   },
   {
    "duration": 24,
    "start_time": "2022-02-21T19:20:21.091Z"
   },
   {
    "duration": 25,
    "start_time": "2022-02-21T19:20:22.671Z"
   },
   {
    "duration": 27,
    "start_time": "2022-02-21T19:20:25.052Z"
   },
   {
    "duration": 26,
    "start_time": "2022-02-21T19:20:26.531Z"
   },
   {
    "duration": 55,
    "start_time": "2022-02-21T19:20:36.494Z"
   },
   {
    "duration": 11,
    "start_time": "2022-02-21T19:20:36.551Z"
   },
   {
    "duration": 8,
    "start_time": "2022-02-21T19:20:36.564Z"
   },
   {
    "duration": 10,
    "start_time": "2022-02-21T19:20:36.574Z"
   },
   {
    "duration": 12,
    "start_time": "2022-02-21T19:20:36.586Z"
   },
   {
    "duration": 23,
    "start_time": "2022-02-21T19:20:36.600Z"
   },
   {
    "duration": 6,
    "start_time": "2022-02-21T19:20:36.624Z"
   },
   {
    "duration": 14,
    "start_time": "2022-02-21T19:20:36.632Z"
   },
   {
    "duration": 12,
    "start_time": "2022-02-21T19:20:36.649Z"
   },
   {
    "duration": 9,
    "start_time": "2022-02-21T19:20:36.663Z"
   },
   {
    "duration": 70,
    "start_time": "2022-02-21T19:20:36.673Z"
   },
   {
    "duration": 7,
    "start_time": "2022-02-21T19:20:36.745Z"
   },
   {
    "duration": 8,
    "start_time": "2022-02-21T19:20:36.754Z"
   },
   {
    "duration": 15,
    "start_time": "2022-02-21T19:20:36.764Z"
   },
   {
    "duration": 30,
    "start_time": "2022-02-21T19:20:38.172Z"
   },
   {
    "duration": 43,
    "start_time": "2022-02-21T19:21:32.772Z"
   },
   {
    "duration": 39,
    "start_time": "2022-02-21T19:21:43.793Z"
   },
   {
    "duration": 94,
    "start_time": "2022-02-21T19:27:37.353Z"
   },
   {
    "duration": 12,
    "start_time": "2022-02-21T19:29:41.415Z"
   },
   {
    "duration": 15,
    "start_time": "2022-02-21T19:30:06.733Z"
   },
   {
    "duration": 56,
    "start_time": "2022-02-21T19:32:19.425Z"
   },
   {
    "duration": 12,
    "start_time": "2022-02-21T19:32:19.484Z"
   },
   {
    "duration": 21,
    "start_time": "2022-02-21T19:32:19.499Z"
   },
   {
    "duration": 8,
    "start_time": "2022-02-21T19:32:19.522Z"
   },
   {
    "duration": 7,
    "start_time": "2022-02-21T19:32:19.532Z"
   },
   {
    "duration": 7,
    "start_time": "2022-02-21T19:32:19.541Z"
   },
   {
    "duration": 9,
    "start_time": "2022-02-21T19:32:19.550Z"
   },
   {
    "duration": 19,
    "start_time": "2022-02-21T19:32:19.561Z"
   },
   {
    "duration": 11,
    "start_time": "2022-02-21T19:32:19.583Z"
   },
   {
    "duration": 23,
    "start_time": "2022-02-21T19:32:19.596Z"
   },
   {
    "duration": 42,
    "start_time": "2022-02-21T19:32:19.620Z"
   },
   {
    "duration": 6,
    "start_time": "2022-02-21T19:32:19.664Z"
   },
   {
    "duration": 5,
    "start_time": "2022-02-21T19:32:19.672Z"
   },
   {
    "duration": 6,
    "start_time": "2022-02-21T19:32:19.678Z"
   },
   {
    "duration": 33,
    "start_time": "2022-02-21T19:32:19.686Z"
   },
   {
    "duration": 37,
    "start_time": "2022-02-21T19:32:19.720Z"
   },
   {
    "duration": 13,
    "start_time": "2022-02-21T19:32:19.758Z"
   },
   {
    "duration": 13,
    "start_time": "2022-02-21T19:32:19.773Z"
   },
   {
    "duration": 7,
    "start_time": "2022-02-21T19:35:56.272Z"
   },
   {
    "duration": 296,
    "start_time": "2022-02-21T19:36:42.613Z"
   },
   {
    "duration": 51,
    "start_time": "2022-02-21T19:36:46.795Z"
   },
   {
    "duration": 10,
    "start_time": "2022-02-21T19:36:46.848Z"
   },
   {
    "duration": 5,
    "start_time": "2022-02-21T19:36:46.860Z"
   },
   {
    "duration": 8,
    "start_time": "2022-02-21T19:36:46.867Z"
   },
   {
    "duration": 6,
    "start_time": "2022-02-21T19:36:46.877Z"
   },
   {
    "duration": 36,
    "start_time": "2022-02-21T19:36:46.884Z"
   },
   {
    "duration": 4,
    "start_time": "2022-02-21T19:36:46.921Z"
   },
   {
    "duration": 11,
    "start_time": "2022-02-21T19:36:46.927Z"
   },
   {
    "duration": 12,
    "start_time": "2022-02-21T19:36:46.941Z"
   },
   {
    "duration": 12,
    "start_time": "2022-02-21T19:36:46.955Z"
   },
   {
    "duration": 58,
    "start_time": "2022-02-21T19:36:46.969Z"
   },
   {
    "duration": 7,
    "start_time": "2022-02-21T19:36:47.028Z"
   },
   {
    "duration": 9,
    "start_time": "2022-02-21T19:36:47.037Z"
   },
   {
    "duration": 9,
    "start_time": "2022-02-21T19:36:47.048Z"
   },
   {
    "duration": 38,
    "start_time": "2022-02-21T19:36:47.059Z"
   },
   {
    "duration": 54,
    "start_time": "2022-02-21T19:36:47.099Z"
   },
   {
    "duration": 12,
    "start_time": "2022-02-21T19:36:47.154Z"
   },
   {
    "duration": 16,
    "start_time": "2022-02-21T19:36:47.168Z"
   },
   {
    "duration": 13,
    "start_time": "2022-02-21T19:36:50.773Z"
   },
   {
    "duration": 54,
    "start_time": "2022-02-21T19:38:24.493Z"
   },
   {
    "duration": 10,
    "start_time": "2022-02-21T19:38:24.549Z"
   },
   {
    "duration": 13,
    "start_time": "2022-02-21T19:38:24.561Z"
   },
   {
    "duration": 10,
    "start_time": "2022-02-21T19:38:24.577Z"
   },
   {
    "duration": 15,
    "start_time": "2022-02-21T19:38:24.589Z"
   },
   {
    "duration": 16,
    "start_time": "2022-02-21T19:38:24.606Z"
   },
   {
    "duration": 15,
    "start_time": "2022-02-21T19:38:24.623Z"
   },
   {
    "duration": 19,
    "start_time": "2022-02-21T19:38:24.640Z"
   },
   {
    "duration": 18,
    "start_time": "2022-02-21T19:38:24.661Z"
   },
   {
    "duration": 10,
    "start_time": "2022-02-21T19:38:24.681Z"
   },
   {
    "duration": 49,
    "start_time": "2022-02-21T19:38:24.693Z"
   },
   {
    "duration": 6,
    "start_time": "2022-02-21T19:38:24.744Z"
   },
   {
    "duration": 19,
    "start_time": "2022-02-21T19:38:24.752Z"
   },
   {
    "duration": 25,
    "start_time": "2022-02-21T19:38:24.772Z"
   },
   {
    "duration": 41,
    "start_time": "2022-02-21T19:38:24.799Z"
   },
   {
    "duration": 44,
    "start_time": "2022-02-21T19:38:24.841Z"
   },
   {
    "duration": 13,
    "start_time": "2022-02-21T19:38:24.887Z"
   },
   {
    "duration": 27,
    "start_time": "2022-02-21T19:38:24.902Z"
   },
   {
    "duration": 16,
    "start_time": "2022-02-21T19:38:28.093Z"
   },
   {
    "duration": 271,
    "start_time": "2022-02-21T19:49:56.412Z"
   },
   {
    "duration": 322,
    "start_time": "2022-02-21T19:50:02.313Z"
   },
   {
    "duration": -247,
    "start_time": "2022-02-21T19:50:02.885Z"
   },
   {
    "duration": -253,
    "start_time": "2022-02-21T19:50:02.892Z"
   },
   {
    "duration": -267,
    "start_time": "2022-02-21T19:50:02.907Z"
   },
   {
    "duration": -274,
    "start_time": "2022-02-21T19:50:02.915Z"
   },
   {
    "duration": -278,
    "start_time": "2022-02-21T19:50:02.920Z"
   },
   {
    "duration": -288,
    "start_time": "2022-02-21T19:50:02.931Z"
   },
   {
    "duration": -293,
    "start_time": "2022-02-21T19:50:02.937Z"
   },
   {
    "duration": -298,
    "start_time": "2022-02-21T19:50:02.942Z"
   },
   {
    "duration": -302,
    "start_time": "2022-02-21T19:50:02.947Z"
   },
   {
    "duration": -309,
    "start_time": "2022-02-21T19:50:02.955Z"
   },
   {
    "duration": -315,
    "start_time": "2022-02-21T19:50:02.962Z"
   },
   {
    "duration": -329,
    "start_time": "2022-02-21T19:50:02.977Z"
   },
   {
    "duration": 253,
    "start_time": "2022-02-21T19:50:26.072Z"
   },
   {
    "duration": 53,
    "start_time": "2022-02-21T19:50:29.333Z"
   },
   {
    "duration": 11,
    "start_time": "2022-02-21T19:50:29.388Z"
   },
   {
    "duration": 4,
    "start_time": "2022-02-21T19:50:29.402Z"
   },
   {
    "duration": 13,
    "start_time": "2022-02-21T19:50:29.408Z"
   },
   {
    "duration": 8,
    "start_time": "2022-02-21T19:50:29.423Z"
   },
   {
    "duration": 6,
    "start_time": "2022-02-21T19:50:29.432Z"
   },
   {
    "duration": 4,
    "start_time": "2022-02-21T19:50:29.440Z"
   },
   {
    "duration": 13,
    "start_time": "2022-02-21T19:50:29.445Z"
   },
   {
    "duration": 12,
    "start_time": "2022-02-21T19:50:29.461Z"
   },
   {
    "duration": 7,
    "start_time": "2022-02-21T19:50:29.475Z"
   },
   {
    "duration": 75,
    "start_time": "2022-02-21T19:50:29.484Z"
   },
   {
    "duration": 7,
    "start_time": "2022-02-21T19:50:29.561Z"
   },
   {
    "duration": 9,
    "start_time": "2022-02-21T19:50:29.569Z"
   },
   {
    "duration": 12,
    "start_time": "2022-02-21T19:50:29.579Z"
   },
   {
    "duration": 52,
    "start_time": "2022-02-21T19:50:29.592Z"
   },
   {
    "duration": 40,
    "start_time": "2022-02-21T19:50:29.645Z"
   },
   {
    "duration": 11,
    "start_time": "2022-02-21T19:50:29.687Z"
   },
   {
    "duration": 29,
    "start_time": "2022-02-21T19:50:29.700Z"
   },
   {
    "duration": 15,
    "start_time": "2022-02-21T19:50:32.312Z"
   },
   {
    "duration": 5,
    "start_time": "2022-02-21T19:52:06.293Z"
   },
   {
    "duration": 5,
    "start_time": "2022-02-21T19:52:23.324Z"
   },
   {
    "duration": 4,
    "start_time": "2022-02-21T19:52:42.253Z"
   },
   {
    "duration": 244,
    "start_time": "2022-02-21T19:52:52.772Z"
   },
   {
    "duration": 267,
    "start_time": "2022-02-21T19:52:57.571Z"
   },
   {
    "duration": 10,
    "start_time": "2022-02-21T19:53:01.584Z"
   },
   {
    "duration": 13,
    "start_time": "2022-02-21T19:53:05.152Z"
   },
   {
    "duration": 16,
    "start_time": "2022-02-21T20:22:05.410Z"
   },
   {
    "duration": 13,
    "start_time": "2022-02-21T20:26:54.357Z"
   },
   {
    "duration": 22,
    "start_time": "2022-02-21T20:27:12.934Z"
   },
   {
    "duration": 8,
    "start_time": "2022-02-21T20:28:13.819Z"
   },
   {
    "duration": 15,
    "start_time": "2022-02-21T20:35:48.893Z"
   },
   {
    "duration": 836,
    "start_time": "2022-02-22T17:43:31.386Z"
   },
   {
    "duration": 38,
    "start_time": "2022-02-22T17:43:32.225Z"
   },
   {
    "duration": 7,
    "start_time": "2022-02-22T17:43:32.266Z"
   },
   {
    "duration": 13,
    "start_time": "2022-02-22T17:43:32.275Z"
   },
   {
    "duration": 7,
    "start_time": "2022-02-22T17:43:32.291Z"
   },
   {
    "duration": 7,
    "start_time": "2022-02-22T17:43:32.301Z"
   },
   {
    "duration": 52,
    "start_time": "2022-02-22T17:43:32.310Z"
   },
   {
    "duration": 21,
    "start_time": "2022-02-22T17:43:32.364Z"
   },
   {
    "duration": 22,
    "start_time": "2022-02-22T17:43:32.389Z"
   },
   {
    "duration": 9,
    "start_time": "2022-02-22T17:43:32.415Z"
   },
   {
    "duration": 85,
    "start_time": "2022-02-22T17:43:32.427Z"
   },
   {
    "duration": 9,
    "start_time": "2022-02-22T17:43:32.514Z"
   },
   {
    "duration": 7,
    "start_time": "2022-02-22T17:43:32.525Z"
   },
   {
    "duration": 7,
    "start_time": "2022-02-22T17:43:32.561Z"
   },
   {
    "duration": 38,
    "start_time": "2022-02-22T17:43:32.571Z"
   },
   {
    "duration": 78,
    "start_time": "2022-02-22T17:43:32.612Z"
   },
   {
    "duration": 15,
    "start_time": "2022-02-22T17:43:32.692Z"
   },
   {
    "duration": 16,
    "start_time": "2022-02-22T17:43:32.709Z"
   },
   {
    "duration": 47,
    "start_time": "2022-02-22T17:43:32.727Z"
   },
   {
    "duration": 29,
    "start_time": "2022-02-22T17:43:32.777Z"
   },
   {
    "duration": 8,
    "start_time": "2022-02-22T17:43:32.809Z"
   },
   {
    "duration": 38,
    "start_time": "2022-02-22T17:43:35.366Z"
   },
   {
    "duration": 27,
    "start_time": "2022-02-22T17:43:39.030Z"
   },
   {
    "duration": 31,
    "start_time": "2022-02-22T17:49:02.803Z"
   },
   {
    "duration": 72,
    "start_time": "2022-02-22T17:49:06.706Z"
   },
   {
    "duration": 11,
    "start_time": "2022-02-22T17:49:06.781Z"
   },
   {
    "duration": 6,
    "start_time": "2022-02-22T17:49:06.795Z"
   },
   {
    "duration": 6,
    "start_time": "2022-02-22T17:49:06.804Z"
   },
   {
    "duration": 8,
    "start_time": "2022-02-22T17:49:06.812Z"
   },
   {
    "duration": 6,
    "start_time": "2022-02-22T17:49:06.862Z"
   },
   {
    "duration": 5,
    "start_time": "2022-02-22T17:49:06.870Z"
   },
   {
    "duration": 16,
    "start_time": "2022-02-22T17:49:06.877Z"
   },
   {
    "duration": 16,
    "start_time": "2022-02-22T17:49:06.897Z"
   },
   {
    "duration": 49,
    "start_time": "2022-02-22T17:49:06.916Z"
   },
   {
    "duration": 52,
    "start_time": "2022-02-22T17:49:06.967Z"
   },
   {
    "duration": 8,
    "start_time": "2022-02-22T17:49:07.022Z"
   },
   {
    "duration": 33,
    "start_time": "2022-02-22T17:49:07.033Z"
   },
   {
    "duration": 8,
    "start_time": "2022-02-22T17:49:07.068Z"
   },
   {
    "duration": 39,
    "start_time": "2022-02-22T17:49:07.078Z"
   },
   {
    "duration": 82,
    "start_time": "2022-02-22T17:49:07.119Z"
   },
   {
    "duration": 14,
    "start_time": "2022-02-22T17:49:07.204Z"
   },
   {
    "duration": 41,
    "start_time": "2022-02-22T17:49:07.220Z"
   },
   {
    "duration": 19,
    "start_time": "2022-02-22T17:49:07.264Z"
   },
   {
    "duration": 27,
    "start_time": "2022-02-22T17:49:09.926Z"
   },
   {
    "duration": 20,
    "start_time": "2022-02-22T17:49:57.326Z"
   },
   {
    "duration": 21,
    "start_time": "2022-02-22T17:49:59.964Z"
   },
   {
    "duration": 75,
    "start_time": "2022-02-22T17:50:03.846Z"
   },
   {
    "duration": 14,
    "start_time": "2022-02-22T17:50:03.925Z"
   },
   {
    "duration": 7,
    "start_time": "2022-02-22T17:50:03.963Z"
   },
   {
    "duration": 8,
    "start_time": "2022-02-22T17:50:03.972Z"
   },
   {
    "duration": 12,
    "start_time": "2022-02-22T17:50:03.983Z"
   },
   {
    "duration": 6,
    "start_time": "2022-02-22T17:50:03.998Z"
   },
   {
    "duration": 6,
    "start_time": "2022-02-22T17:50:04.007Z"
   },
   {
    "duration": 16,
    "start_time": "2022-02-22T17:50:04.060Z"
   },
   {
    "duration": 16,
    "start_time": "2022-02-22T17:50:04.080Z"
   },
   {
    "duration": 12,
    "start_time": "2022-02-22T17:50:04.099Z"
   },
   {
    "duration": 82,
    "start_time": "2022-02-22T17:50:04.114Z"
   },
   {
    "duration": 9,
    "start_time": "2022-02-22T17:50:04.198Z"
   },
   {
    "duration": 11,
    "start_time": "2022-02-22T17:50:04.209Z"
   },
   {
    "duration": 9,
    "start_time": "2022-02-22T17:50:04.222Z"
   },
   {
    "duration": 62,
    "start_time": "2022-02-22T17:50:04.234Z"
   },
   {
    "duration": 72,
    "start_time": "2022-02-22T17:50:04.298Z"
   },
   {
    "duration": 15,
    "start_time": "2022-02-22T17:50:04.372Z"
   },
   {
    "duration": 17,
    "start_time": "2022-02-22T17:50:04.389Z"
   },
   {
    "duration": 18,
    "start_time": "2022-02-22T17:50:04.408Z"
   },
   {
    "duration": 30,
    "start_time": "2022-02-22T17:50:04.461Z"
   },
   {
    "duration": 21,
    "start_time": "2022-02-22T17:50:14.265Z"
   },
   {
    "duration": 66,
    "start_time": "2022-02-22T17:50:20.086Z"
   },
   {
    "duration": 13,
    "start_time": "2022-02-22T17:50:20.155Z"
   },
   {
    "duration": 8,
    "start_time": "2022-02-22T17:50:20.258Z"
   },
   {
    "duration": 16,
    "start_time": "2022-02-22T17:50:20.269Z"
   },
   {
    "duration": 9,
    "start_time": "2022-02-22T17:50:20.288Z"
   },
   {
    "duration": 12,
    "start_time": "2022-02-22T17:50:20.300Z"
   },
   {
    "duration": 6,
    "start_time": "2022-02-22T17:50:20.314Z"
   },
   {
    "duration": 43,
    "start_time": "2022-02-22T17:50:20.322Z"
   },
   {
    "duration": 17,
    "start_time": "2022-02-22T17:50:20.368Z"
   },
   {
    "duration": 7,
    "start_time": "2022-02-22T17:50:20.387Z"
   },
   {
    "duration": 88,
    "start_time": "2022-02-22T17:50:20.397Z"
   },
   {
    "duration": 8,
    "start_time": "2022-02-22T17:50:20.489Z"
   },
   {
    "duration": 7,
    "start_time": "2022-02-22T17:50:20.499Z"
   },
   {
    "duration": 6,
    "start_time": "2022-02-22T17:50:20.509Z"
   },
   {
    "duration": 69,
    "start_time": "2022-02-22T17:50:20.518Z"
   },
   {
    "duration": 53,
    "start_time": "2022-02-22T17:50:20.590Z"
   },
   {
    "duration": 18,
    "start_time": "2022-02-22T17:50:20.662Z"
   },
   {
    "duration": 16,
    "start_time": "2022-02-22T17:50:20.682Z"
   },
   {
    "duration": 23,
    "start_time": "2022-02-22T17:50:20.700Z"
   },
   {
    "duration": 61,
    "start_time": "2022-02-22T17:50:20.727Z"
   },
   {
    "duration": 29,
    "start_time": "2022-02-22T17:50:22.427Z"
   },
   {
    "duration": 398,
    "start_time": "2022-02-22T17:51:17.884Z"
   },
   {
    "duration": 328,
    "start_time": "2022-02-22T17:51:23.424Z"
   },
   {
    "duration": -210,
    "start_time": "2022-02-22T17:51:49.256Z"
   },
   {
    "duration": 40,
    "start_time": "2022-02-22T17:52:12.092Z"
   },
   {
    "duration": 33,
    "start_time": "2022-02-22T17:52:16.933Z"
   },
   {
    "duration": 31,
    "start_time": "2022-02-22T17:53:22.526Z"
   },
   {
    "duration": 28,
    "start_time": "2022-02-22T17:54:09.686Z"
   },
   {
    "duration": 27,
    "start_time": "2022-02-22T17:54:17.486Z"
   },
   {
    "duration": 42,
    "start_time": "2022-02-22T17:57:57.086Z"
   },
   {
    "duration": 66,
    "start_time": "2022-02-22T17:58:07.434Z"
   },
   {
    "duration": 12,
    "start_time": "2022-02-22T17:58:07.503Z"
   },
   {
    "duration": 6,
    "start_time": "2022-02-22T17:58:07.517Z"
   },
   {
    "duration": 36,
    "start_time": "2022-02-22T17:58:07.526Z"
   },
   {
    "duration": 7,
    "start_time": "2022-02-22T17:58:07.565Z"
   },
   {
    "duration": 6,
    "start_time": "2022-02-22T17:58:07.575Z"
   },
   {
    "duration": 6,
    "start_time": "2022-02-22T17:58:07.583Z"
   },
   {
    "duration": 17,
    "start_time": "2022-02-22T17:58:07.591Z"
   },
   {
    "duration": 64,
    "start_time": "2022-02-22T17:58:07.611Z"
   },
   {
    "duration": 8,
    "start_time": "2022-02-22T17:58:07.678Z"
   },
   {
    "duration": 73,
    "start_time": "2022-02-22T17:58:07.688Z"
   },
   {
    "duration": 9,
    "start_time": "2022-02-22T17:58:07.763Z"
   },
   {
    "duration": 7,
    "start_time": "2022-02-22T17:58:07.775Z"
   },
   {
    "duration": 6,
    "start_time": "2022-02-22T17:58:07.785Z"
   },
   {
    "duration": 73,
    "start_time": "2022-02-22T17:58:07.794Z"
   },
   {
    "duration": 47,
    "start_time": "2022-02-22T17:58:07.869Z"
   },
   {
    "duration": 15,
    "start_time": "2022-02-22T17:58:07.918Z"
   },
   {
    "duration": 17,
    "start_time": "2022-02-22T17:58:07.961Z"
   },
   {
    "duration": 17,
    "start_time": "2022-02-22T17:58:07.981Z"
   },
   {
    "duration": 29,
    "start_time": "2022-02-22T17:58:08.000Z"
   },
   {
    "duration": 36,
    "start_time": "2022-02-22T17:58:08.031Z"
   },
   {
    "duration": 28,
    "start_time": "2022-02-22T17:58:08.070Z"
   },
   {
    "duration": 43,
    "start_time": "2022-02-22T17:58:10.224Z"
   },
   {
    "duration": 28,
    "start_time": "2022-02-22T17:58:24.945Z"
   },
   {
    "duration": 37,
    "start_time": "2022-02-22T17:58:43.025Z"
   },
   {
    "duration": 114,
    "start_time": "2022-02-22T18:01:11.208Z"
   },
   {
    "duration": 91,
    "start_time": "2022-02-22T18:02:24.664Z"
   },
   {
    "duration": 1482,
    "start_time": "2022-02-22T18:08:50.385Z"
   },
   {
    "duration": 5,
    "start_time": "2022-02-22T18:09:03.405Z"
   },
   {
    "duration": 33,
    "start_time": "2022-02-22T18:09:29.945Z"
   },
   {
    "duration": 26,
    "start_time": "2022-02-22T18:09:49.025Z"
   },
   {
    "duration": 26,
    "start_time": "2022-02-22T18:10:02.305Z"
   },
   {
    "duration": 24,
    "start_time": "2022-02-22T18:10:09.825Z"
   },
   {
    "duration": 5,
    "start_time": "2022-02-22T18:11:22.084Z"
   },
   {
    "duration": 788,
    "start_time": "2022-02-22T18:11:44.005Z"
   },
   {
    "duration": 554,
    "start_time": "2022-02-22T18:13:08.177Z"
   },
   {
    "duration": 646,
    "start_time": "2022-02-22T18:13:59.947Z"
   },
   {
    "duration": 5,
    "start_time": "2022-02-22T18:14:27.428Z"
   },
   {
    "duration": 532,
    "start_time": "2022-02-22T18:14:29.066Z"
   },
   {
    "duration": 5,
    "start_time": "2022-02-22T18:14:48.191Z"
   },
   {
    "duration": 37,
    "start_time": "2022-02-22T18:14:48.273Z"
   },
   {
    "duration": 34,
    "start_time": "2022-02-22T18:14:53.649Z"
   },
   {
    "duration": 5,
    "start_time": "2022-02-22T18:15:05.608Z"
   },
   {
    "duration": 41,
    "start_time": "2022-02-22T18:15:06.967Z"
   },
   {
    "duration": 38,
    "start_time": "2022-02-22T18:16:00.987Z"
   },
   {
    "duration": 43,
    "start_time": "2022-02-22T18:16:16.107Z"
   },
   {
    "duration": 41,
    "start_time": "2022-02-22T18:16:37.067Z"
   },
   {
    "duration": 7,
    "start_time": "2022-02-22T18:17:51.757Z"
   },
   {
    "duration": 649,
    "start_time": "2022-02-22T18:17:53.787Z"
   },
   {
    "duration": 7,
    "start_time": "2022-02-22T18:18:06.269Z"
   },
   {
    "duration": 545,
    "start_time": "2022-02-22T18:18:08.507Z"
   },
   {
    "duration": 5,
    "start_time": "2022-02-22T18:18:15.369Z"
   },
   {
    "duration": 1021,
    "start_time": "2022-02-22T18:18:16.588Z"
   },
   {
    "duration": 30,
    "start_time": "2022-02-22T18:19:28.170Z"
   },
   {
    "duration": 29,
    "start_time": "2022-02-22T18:19:30.477Z"
   },
   {
    "duration": 35,
    "start_time": "2022-02-22T18:19:34.868Z"
   },
   {
    "duration": 35,
    "start_time": "2022-02-22T18:20:46.987Z"
   },
   {
    "duration": 6,
    "start_time": "2022-02-22T18:21:24.088Z"
   },
   {
    "duration": 37,
    "start_time": "2022-02-22T18:21:25.427Z"
   },
   {
    "duration": 6,
    "start_time": "2022-02-22T18:21:48.448Z"
   },
   {
    "duration": 25,
    "start_time": "2022-02-22T18:21:50.609Z"
   },
   {
    "duration": 33,
    "start_time": "2022-02-22T18:21:58.267Z"
   },
   {
    "duration": 6,
    "start_time": "2022-02-22T18:22:09.987Z"
   },
   {
    "duration": 607,
    "start_time": "2022-02-22T18:22:11.226Z"
   },
   {
    "duration": 5,
    "start_time": "2022-02-22T18:22:34.326Z"
   },
   {
    "duration": 507,
    "start_time": "2022-02-22T18:22:36.227Z"
   },
   {
    "duration": 5,
    "start_time": "2022-02-22T18:22:52.188Z"
   },
   {
    "duration": 29,
    "start_time": "2022-02-22T18:22:53.875Z"
   },
   {
    "duration": 6,
    "start_time": "2022-02-22T18:23:36.487Z"
   },
   {
    "duration": 532,
    "start_time": "2022-02-22T18:23:38.485Z"
   },
   {
    "duration": 6,
    "start_time": "2022-02-22T18:24:51.767Z"
   },
   {
    "duration": 29,
    "start_time": "2022-02-22T18:24:53.127Z"
   },
   {
    "duration": 5,
    "start_time": "2022-02-22T18:25:08.088Z"
   },
   {
    "duration": 32,
    "start_time": "2022-02-22T18:25:09.646Z"
   },
   {
    "duration": 5,
    "start_time": "2022-02-22T18:25:12.128Z"
   },
   {
    "duration": 30,
    "start_time": "2022-02-22T18:25:15.935Z"
   },
   {
    "duration": 34,
    "start_time": "2022-02-22T18:25:51.147Z"
   },
   {
    "duration": 6,
    "start_time": "2022-02-22T18:26:40.848Z"
   },
   {
    "duration": 601,
    "start_time": "2022-02-22T18:26:49.086Z"
   },
   {
    "duration": 86,
    "start_time": "2022-02-22T18:27:05.694Z"
   },
   {
    "duration": 33,
    "start_time": "2022-02-22T18:27:08.066Z"
   },
   {
    "duration": 93,
    "start_time": "2022-02-22T18:31:02.346Z"
   },
   {
    "duration": 136,
    "start_time": "2022-02-22T18:31:11.602Z"
   },
   {
    "duration": 6,
    "start_time": "2022-02-22T18:31:34.986Z"
   },
   {
    "duration": 281,
    "start_time": "2022-02-22T18:31:36.955Z"
   },
   {
    "duration": 6,
    "start_time": "2022-02-22T18:32:23.681Z"
   },
   {
    "duration": 274,
    "start_time": "2022-02-22T18:32:28.721Z"
   },
   {
    "duration": 6,
    "start_time": "2022-02-22T18:32:33.215Z"
   },
   {
    "duration": 284,
    "start_time": "2022-02-22T18:32:34.627Z"
   },
   {
    "duration": 285,
    "start_time": "2022-02-22T18:32:39.082Z"
   },
   {
    "duration": 557,
    "start_time": "2022-02-22T18:32:55.282Z"
   },
   {
    "duration": 84,
    "start_time": "2022-02-22T18:33:12.983Z"
   },
   {
    "duration": 7,
    "start_time": "2022-02-22T18:33:19.822Z"
   },
   {
    "duration": 544,
    "start_time": "2022-02-22T18:33:21.140Z"
   },
   {
    "duration": 547,
    "start_time": "2022-02-22T18:33:24.112Z"
   },
   {
    "duration": 6,
    "start_time": "2022-02-22T18:34:02.632Z"
   },
   {
    "duration": 553,
    "start_time": "2022-02-22T18:34:04.402Z"
   },
   {
    "duration": 6,
    "start_time": "2022-02-22T18:34:53.667Z"
   },
   {
    "duration": 540,
    "start_time": "2022-02-22T18:34:56.162Z"
   },
   {
    "duration": 6,
    "start_time": "2022-02-22T18:37:30.186Z"
   },
   {
    "duration": 35,
    "start_time": "2022-02-22T18:37:41.715Z"
   },
   {
    "duration": 5,
    "start_time": "2022-02-22T18:37:49.746Z"
   },
   {
    "duration": 34,
    "start_time": "2022-02-22T18:37:51.195Z"
   },
   {
    "duration": 4,
    "start_time": "2022-02-22T18:37:51.280Z"
   },
   {
    "duration": 54,
    "start_time": "2022-02-22T18:38:48.250Z"
   },
   {
    "duration": 568,
    "start_time": "2022-02-22T18:39:20.896Z"
   },
   {
    "duration": 55,
    "start_time": "2022-02-22T18:39:32.585Z"
   },
   {
    "duration": 79,
    "start_time": "2022-02-22T18:39:57.841Z"
   },
   {
    "duration": 111,
    "start_time": "2022-02-22T18:40:13.291Z"
   },
   {
    "duration": 86,
    "start_time": "2022-02-22T18:45:50.810Z"
   },
   {
    "duration": 6,
    "start_time": "2022-02-22T18:45:56.590Z"
   },
   {
    "duration": 583,
    "start_time": "2022-02-22T18:46:00.586Z"
   },
   {
    "duration": 5,
    "start_time": "2022-02-22T18:46:29.620Z"
   },
   {
    "duration": 78,
    "start_time": "2022-02-22T18:46:33.007Z"
   },
   {
    "duration": 66,
    "start_time": "2022-02-22T18:46:39.070Z"
   },
   {
    "duration": 76,
    "start_time": "2022-02-22T18:47:17.006Z"
   },
   {
    "duration": 87,
    "start_time": "2022-02-22T18:47:28.406Z"
   },
   {
    "duration": 74,
    "start_time": "2022-02-22T18:47:33.470Z"
   },
   {
    "duration": 124,
    "start_time": "2022-02-22T18:48:08.592Z"
   },
   {
    "duration": 95,
    "start_time": "2022-02-22T18:48:47.571Z"
   },
   {
    "duration": 98,
    "start_time": "2022-02-22T18:48:54.519Z"
   },
   {
    "duration": 6,
    "start_time": "2022-02-22T18:49:08.631Z"
   },
   {
    "duration": 76,
    "start_time": "2022-02-22T18:49:10.540Z"
   },
   {
    "duration": 6,
    "start_time": "2022-02-22T18:49:23.240Z"
   },
   {
    "duration": 76,
    "start_time": "2022-02-22T18:49:32.141Z"
   },
   {
    "duration": 264,
    "start_time": "2022-02-22T18:50:18.510Z"
   },
   {
    "duration": 69,
    "start_time": "2022-02-22T18:50:22.141Z"
   },
   {
    "duration": 14,
    "start_time": "2022-02-22T18:50:22.213Z"
   },
   {
    "duration": 33,
    "start_time": "2022-02-22T18:50:22.230Z"
   },
   {
    "duration": 7,
    "start_time": "2022-02-22T18:50:22.266Z"
   },
   {
    "duration": 9,
    "start_time": "2022-02-22T18:50:22.275Z"
   },
   {
    "duration": 6,
    "start_time": "2022-02-22T18:50:22.286Z"
   },
   {
    "duration": 6,
    "start_time": "2022-02-22T18:50:22.295Z"
   },
   {
    "duration": 60,
    "start_time": "2022-02-22T18:50:22.304Z"
   },
   {
    "duration": 27,
    "start_time": "2022-02-22T18:50:22.367Z"
   },
   {
    "duration": 9,
    "start_time": "2022-02-22T18:50:22.396Z"
   },
   {
    "duration": 78,
    "start_time": "2022-02-22T18:50:22.408Z"
   },
   {
    "duration": 60,
    "start_time": "2022-02-22T18:50:24.825Z"
   },
   {
    "duration": 8,
    "start_time": "2022-02-22T18:50:28.790Z"
   },
   {
    "duration": 62,
    "start_time": "2022-02-22T18:50:30.041Z"
   },
   {
    "duration": 9,
    "start_time": "2022-02-22T18:50:34.125Z"
   },
   {
    "duration": 36,
    "start_time": "2022-02-22T18:50:44.950Z"
   },
   {
    "duration": 8,
    "start_time": "2022-02-22T18:50:52.046Z"
   },
   {
    "duration": 67,
    "start_time": "2022-02-22T18:51:25.155Z"
   },
   {
    "duration": 13,
    "start_time": "2022-02-22T18:51:25.224Z"
   },
   {
    "duration": 6,
    "start_time": "2022-02-22T18:51:25.263Z"
   },
   {
    "duration": 7,
    "start_time": "2022-02-22T18:51:25.272Z"
   },
   {
    "duration": 9,
    "start_time": "2022-02-22T18:51:25.281Z"
   },
   {
    "duration": 9,
    "start_time": "2022-02-22T18:51:25.292Z"
   },
   {
    "duration": 6,
    "start_time": "2022-02-22T18:51:25.304Z"
   },
   {
    "duration": 16,
    "start_time": "2022-02-22T18:51:25.362Z"
   },
   {
    "duration": 17,
    "start_time": "2022-02-22T18:51:25.381Z"
   },
   {
    "duration": 7,
    "start_time": "2022-02-22T18:51:25.401Z"
   },
   {
    "duration": 91,
    "start_time": "2022-02-22T18:51:25.410Z"
   },
   {
    "duration": 8,
    "start_time": "2022-02-22T18:51:25.504Z"
   },
   {
    "duration": 7,
    "start_time": "2022-02-22T18:51:25.515Z"
   },
   {
    "duration": 10,
    "start_time": "2022-02-22T18:51:25.525Z"
   },
   {
    "duration": 37,
    "start_time": "2022-02-22T18:51:25.561Z"
   },
   {
    "duration": 67,
    "start_time": "2022-02-22T18:51:25.600Z"
   },
   {
    "duration": 16,
    "start_time": "2022-02-22T18:51:25.670Z"
   },
   {
    "duration": 17,
    "start_time": "2022-02-22T18:51:25.688Z"
   },
   {
    "duration": 19,
    "start_time": "2022-02-22T18:51:25.707Z"
   },
   {
    "duration": 33,
    "start_time": "2022-02-22T18:51:25.762Z"
   },
   {
    "duration": 9,
    "start_time": "2022-02-22T18:51:25.798Z"
   },
   {
    "duration": 64,
    "start_time": "2022-02-22T18:51:25.809Z"
   },
   {
    "duration": 6,
    "start_time": "2022-02-22T18:51:25.879Z"
   },
   {
    "duration": 292,
    "start_time": "2022-02-22T18:54:35.738Z"
   },
   {
    "duration": 69,
    "start_time": "2022-02-22T18:54:58.057Z"
   },
   {
    "duration": 33,
    "start_time": "2022-02-22T18:54:58.129Z"
   },
   {
    "duration": 8,
    "start_time": "2022-02-22T18:54:58.165Z"
   },
   {
    "duration": 10,
    "start_time": "2022-02-22T18:54:58.176Z"
   },
   {
    "duration": 8,
    "start_time": "2022-02-22T18:54:58.189Z"
   },
   {
    "duration": 7,
    "start_time": "2022-02-22T18:54:58.199Z"
   },
   {
    "duration": 5,
    "start_time": "2022-02-22T18:54:58.208Z"
   },
   {
    "duration": 59,
    "start_time": "2022-02-22T18:54:58.217Z"
   },
   {
    "duration": 20,
    "start_time": "2022-02-22T18:54:58.280Z"
   },
   {
    "duration": 15,
    "start_time": "2022-02-22T18:54:58.304Z"
   },
   {
    "duration": 85,
    "start_time": "2022-02-22T18:54:58.322Z"
   },
   {
    "duration": 9,
    "start_time": "2022-02-22T18:54:58.409Z"
   },
   {
    "duration": 8,
    "start_time": "2022-02-22T18:54:58.420Z"
   },
   {
    "duration": 30,
    "start_time": "2022-02-22T18:54:58.430Z"
   },
   {
    "duration": 37,
    "start_time": "2022-02-22T18:54:58.463Z"
   },
   {
    "duration": 66,
    "start_time": "2022-02-22T18:54:58.503Z"
   },
   {
    "duration": 16,
    "start_time": "2022-02-22T18:54:58.571Z"
   },
   {
    "duration": 16,
    "start_time": "2022-02-22T18:54:58.589Z"
   },
   {
    "duration": 52,
    "start_time": "2022-02-22T18:54:58.608Z"
   },
   {
    "duration": 29,
    "start_time": "2022-02-22T18:54:58.663Z"
   },
   {
    "duration": 8,
    "start_time": "2022-02-22T18:54:58.696Z"
   },
   {
    "duration": 57,
    "start_time": "2022-02-22T18:54:58.706Z"
   },
   {
    "duration": 6,
    "start_time": "2022-02-22T18:55:00.777Z"
   },
   {
    "duration": 1693,
    "start_time": "2022-02-22T18:55:02.239Z"
   },
   {
    "duration": 5,
    "start_time": "2022-02-22T18:57:36.300Z"
   },
   {
    "duration": 798,
    "start_time": "2022-02-22T18:57:43.106Z"
   },
   {
    "duration": 538,
    "start_time": "2022-02-22T18:57:49.219Z"
   },
   {
    "duration": 6,
    "start_time": "2022-02-22T18:58:18.799Z"
   },
   {
    "duration": 85,
    "start_time": "2022-02-22T18:58:20.358Z"
   },
   {
    "duration": 95,
    "start_time": "2022-02-22T18:58:27.648Z"
   },
   {
    "duration": 91,
    "start_time": "2022-02-22T18:58:37.808Z"
   },
   {
    "duration": 97,
    "start_time": "2022-02-22T18:59:09.837Z"
   },
   {
    "duration": 98,
    "start_time": "2022-02-22T18:59:22.641Z"
   },
   {
    "duration": 97,
    "start_time": "2022-02-22T18:59:54.338Z"
   },
   {
    "duration": 94,
    "start_time": "2022-02-22T19:00:30.858Z"
   },
   {
    "duration": 100,
    "start_time": "2022-02-22T19:00:42.798Z"
   },
   {
    "duration": 96,
    "start_time": "2022-02-22T19:01:06.439Z"
   },
   {
    "duration": 98,
    "start_time": "2022-02-22T19:01:16.819Z"
   },
   {
    "duration": 115,
    "start_time": "2022-02-22T19:01:28.789Z"
   },
   {
    "duration": 95,
    "start_time": "2022-02-22T19:01:33.119Z"
   },
   {
    "duration": 95,
    "start_time": "2022-02-22T19:01:58.340Z"
   },
   {
    "duration": 123,
    "start_time": "2022-02-22T19:02:54.978Z"
   },
   {
    "duration": 124,
    "start_time": "2022-02-22T19:03:14.140Z"
   },
   {
    "duration": 121,
    "start_time": "2022-02-22T19:03:25.340Z"
   },
   {
    "duration": 115,
    "start_time": "2022-02-22T19:03:43.597Z"
   },
   {
    "duration": 122,
    "start_time": "2022-02-22T19:04:09.540Z"
   },
   {
    "duration": 123,
    "start_time": "2022-02-22T19:04:51.520Z"
   },
   {
    "duration": 126,
    "start_time": "2022-02-22T19:09:39.978Z"
   },
   {
    "duration": 10,
    "start_time": "2022-02-22T19:10:27.037Z"
   },
   {
    "duration": 150,
    "start_time": "2022-02-22T19:11:12.680Z"
   },
   {
    "duration": 10,
    "start_time": "2022-02-22T19:11:24.985Z"
   },
   {
    "duration": 115,
    "start_time": "2022-02-22T19:14:00.654Z"
   },
   {
    "duration": 110,
    "start_time": "2022-02-22T19:14:18.214Z"
   },
   {
    "duration": 108,
    "start_time": "2022-02-22T19:14:22.934Z"
   },
   {
    "duration": 114,
    "start_time": "2022-02-22T19:15:01.317Z"
   },
   {
    "duration": 5,
    "start_time": "2022-02-22T19:24:02.910Z"
   },
   {
    "duration": 106,
    "start_time": "2022-02-22T19:24:04.601Z"
   },
   {
    "duration": 7,
    "start_time": "2022-02-22T19:27:25.812Z"
   },
   {
    "duration": 256,
    "start_time": "2022-02-22T19:28:21.037Z"
   },
   {
    "duration": 8,
    "start_time": "2022-02-22T19:41:42.423Z"
   },
   {
    "duration": 86,
    "start_time": "2022-02-22T19:45:57.426Z"
   },
   {
    "duration": 11,
    "start_time": "2022-02-22T19:47:26.725Z"
   },
   {
    "duration": 371,
    "start_time": "2022-02-22T19:48:54.907Z"
   },
   {
    "duration": 70,
    "start_time": "2022-02-22T19:49:14.778Z"
   },
   {
    "duration": 13,
    "start_time": "2022-02-22T19:49:14.851Z"
   },
   {
    "duration": 12,
    "start_time": "2022-02-22T19:49:14.868Z"
   },
   {
    "duration": 8,
    "start_time": "2022-02-22T19:49:14.883Z"
   },
   {
    "duration": 9,
    "start_time": "2022-02-22T19:49:14.895Z"
   },
   {
    "duration": 8,
    "start_time": "2022-02-22T19:49:14.906Z"
   },
   {
    "duration": 8,
    "start_time": "2022-02-22T19:49:14.961Z"
   },
   {
    "duration": 16,
    "start_time": "2022-02-22T19:49:14.975Z"
   },
   {
    "duration": 19,
    "start_time": "2022-02-22T19:49:14.995Z"
   },
   {
    "duration": 52,
    "start_time": "2022-02-22T19:49:15.016Z"
   },
   {
    "duration": 65,
    "start_time": "2022-02-22T19:49:15.071Z"
   },
   {
    "duration": 25,
    "start_time": "2022-02-22T19:49:15.139Z"
   },
   {
    "duration": 22,
    "start_time": "2022-02-22T19:49:15.166Z"
   },
   {
    "duration": 15,
    "start_time": "2022-02-22T19:49:15.190Z"
   },
   {
    "duration": 58,
    "start_time": "2022-02-22T19:49:15.208Z"
   },
   {
    "duration": 57,
    "start_time": "2022-02-22T19:49:15.270Z"
   },
   {
    "duration": 34,
    "start_time": "2022-02-22T19:49:15.329Z"
   },
   {
    "duration": 17,
    "start_time": "2022-02-22T19:49:15.365Z"
   },
   {
    "duration": 20,
    "start_time": "2022-02-22T19:49:15.384Z"
   },
   {
    "duration": 67,
    "start_time": "2022-02-22T19:49:15.406Z"
   },
   {
    "duration": 8,
    "start_time": "2022-02-22T19:49:15.475Z"
   },
   {
    "duration": 33,
    "start_time": "2022-02-22T19:49:15.486Z"
   },
   {
    "duration": 6,
    "start_time": "2022-02-22T19:49:15.522Z"
   },
   {
    "duration": 398,
    "start_time": "2022-02-22T19:49:15.564Z"
   },
   {
    "duration": 34,
    "start_time": "2022-02-22T19:49:15.930Z"
   },
   {
    "duration": 30,
    "start_time": "2022-02-22T19:49:15.936Z"
   },
   {
    "duration": 4,
    "start_time": "2022-02-22T19:49:15.963Z"
   },
   {
    "duration": 348,
    "start_time": "2022-02-22T19:49:21.525Z"
   },
   {
    "duration": 112,
    "start_time": "2022-02-22T19:50:09.224Z"
   },
   {
    "duration": 7,
    "start_time": "2022-02-22T19:50:12.306Z"
   },
   {
    "duration": 8,
    "start_time": "2022-02-22T20:00:16.408Z"
   },
   {
    "duration": 7,
    "start_time": "2022-02-22T20:01:09.708Z"
   },
   {
    "duration": 8,
    "start_time": "2022-02-22T20:02:25.967Z"
   },
   {
    "duration": 8,
    "start_time": "2022-02-22T20:02:29.147Z"
   },
   {
    "duration": 559,
    "start_time": "2022-02-22T20:09:59.333Z"
   },
   {
    "duration": 47,
    "start_time": "2022-02-22T20:10:31.027Z"
   },
   {
    "duration": 50,
    "start_time": "2022-02-22T20:11:21.158Z"
   },
   {
    "duration": 50,
    "start_time": "2022-02-22T20:11:27.205Z"
   },
   {
    "duration": 53,
    "start_time": "2022-02-22T20:11:47.485Z"
   },
   {
    "duration": 128,
    "start_time": "2022-02-22T20:20:32.893Z"
   },
   {
    "duration": 106,
    "start_time": "2022-02-22T20:20:59.008Z"
   },
   {
    "duration": 8,
    "start_time": "2022-02-22T20:21:09.347Z"
   },
   {
    "duration": 1048,
    "start_time": "2022-02-23T18:11:34.316Z"
   },
   {
    "duration": 28,
    "start_time": "2022-02-23T18:11:35.368Z"
   },
   {
    "duration": 12,
    "start_time": "2022-02-23T18:11:35.400Z"
   },
   {
    "duration": 11,
    "start_time": "2022-02-23T18:11:35.415Z"
   },
   {
    "duration": 10,
    "start_time": "2022-02-23T18:11:35.449Z"
   },
   {
    "duration": 10,
    "start_time": "2022-02-23T18:11:35.462Z"
   },
   {
    "duration": 18,
    "start_time": "2022-02-23T18:11:35.474Z"
   },
   {
    "duration": 21,
    "start_time": "2022-02-23T18:11:35.497Z"
   },
   {
    "duration": 51,
    "start_time": "2022-02-23T18:11:35.521Z"
   },
   {
    "duration": 13,
    "start_time": "2022-02-23T18:11:35.575Z"
   },
   {
    "duration": 93,
    "start_time": "2022-02-23T18:11:35.592Z"
   },
   {
    "duration": 10,
    "start_time": "2022-02-23T18:11:35.688Z"
   },
   {
    "duration": 11,
    "start_time": "2022-02-23T18:11:35.701Z"
   },
   {
    "duration": 36,
    "start_time": "2022-02-23T18:11:35.715Z"
   },
   {
    "duration": 48,
    "start_time": "2022-02-23T18:11:35.754Z"
   },
   {
    "duration": 65,
    "start_time": "2022-02-23T18:11:35.805Z"
   },
   {
    "duration": 17,
    "start_time": "2022-02-23T18:11:35.873Z"
   },
   {
    "duration": 21,
    "start_time": "2022-02-23T18:11:35.893Z"
   },
   {
    "duration": 47,
    "start_time": "2022-02-23T18:11:35.917Z"
   },
   {
    "duration": 31,
    "start_time": "2022-02-23T18:11:35.967Z"
   },
   {
    "duration": 13,
    "start_time": "2022-02-23T18:11:36.001Z"
   },
   {
    "duration": 58,
    "start_time": "2022-02-23T18:11:36.017Z"
   },
   {
    "duration": 17,
    "start_time": "2022-02-23T18:11:36.082Z"
   },
   {
    "duration": 1415,
    "start_time": "2022-02-23T18:11:36.102Z"
   },
   {
    "duration": 52,
    "start_time": "2022-02-23T18:11:37.520Z"
   },
   {
    "duration": 9,
    "start_time": "2022-02-23T18:11:37.575Z"
   },
   {
    "duration": 14,
    "start_time": "2022-02-23T18:11:37.588Z"
   },
   {
    "duration": 18,
    "start_time": "2022-02-23T18:11:37.605Z"
   },
   {
    "duration": 24,
    "start_time": "2022-02-23T18:11:37.626Z"
   },
   {
    "duration": 89,
    "start_time": "2022-02-23T18:23:23.297Z"
   },
   {
    "duration": 15,
    "start_time": "2022-02-23T18:23:23.390Z"
   },
   {
    "duration": 42,
    "start_time": "2022-02-23T18:23:23.408Z"
   },
   {
    "duration": 12,
    "start_time": "2022-02-23T18:23:23.453Z"
   },
   {
    "duration": 10,
    "start_time": "2022-02-23T18:23:23.469Z"
   },
   {
    "duration": 11,
    "start_time": "2022-02-23T18:23:23.483Z"
   },
   {
    "duration": 52,
    "start_time": "2022-02-23T18:23:23.497Z"
   },
   {
    "duration": 18,
    "start_time": "2022-02-23T18:23:23.554Z"
   },
   {
    "duration": 28,
    "start_time": "2022-02-23T18:23:23.576Z"
   },
   {
    "duration": 46,
    "start_time": "2022-02-23T18:23:23.607Z"
   },
   {
    "duration": 98,
    "start_time": "2022-02-23T18:23:23.656Z"
   },
   {
    "duration": 13,
    "start_time": "2022-02-23T18:23:23.758Z"
   },
   {
    "duration": 18,
    "start_time": "2022-02-23T18:23:23.774Z"
   },
   {
    "duration": 8,
    "start_time": "2022-02-23T18:23:23.795Z"
   },
   {
    "duration": 78,
    "start_time": "2022-02-23T18:23:23.805Z"
   },
   {
    "duration": 114,
    "start_time": "2022-02-23T18:23:23.886Z"
   },
   {
    "duration": 24,
    "start_time": "2022-02-23T18:23:24.004Z"
   },
   {
    "duration": 33,
    "start_time": "2022-02-23T18:23:24.032Z"
   },
   {
    "duration": 23,
    "start_time": "2022-02-23T18:23:24.068Z"
   },
   {
    "duration": 66,
    "start_time": "2022-02-23T18:23:24.093Z"
   },
   {
    "duration": 35,
    "start_time": "2022-02-23T18:23:24.162Z"
   },
   {
    "duration": 32,
    "start_time": "2022-02-23T18:23:24.201Z"
   },
   {
    "duration": 11,
    "start_time": "2022-02-23T18:23:24.250Z"
   },
   {
    "duration": 170,
    "start_time": "2022-02-23T18:23:24.264Z"
   },
   {
    "duration": 13,
    "start_time": "2022-02-23T18:23:24.437Z"
   },
   {
    "duration": 11,
    "start_time": "2022-02-23T18:23:24.453Z"
   },
   {
    "duration": 14,
    "start_time": "2022-02-23T18:23:24.468Z"
   },
   {
    "duration": 14,
    "start_time": "2022-02-23T18:23:24.485Z"
   },
   {
    "duration": 53,
    "start_time": "2022-02-23T18:23:24.502Z"
   },
   {
    "duration": 21,
    "start_time": "2022-02-23T18:26:16.589Z"
   },
   {
    "duration": 73,
    "start_time": "2022-02-23T18:26:23.168Z"
   },
   {
    "duration": 15,
    "start_time": "2022-02-23T18:26:23.244Z"
   },
   {
    "duration": 13,
    "start_time": "2022-02-23T18:26:23.262Z"
   },
   {
    "duration": 8,
    "start_time": "2022-02-23T18:26:23.279Z"
   },
   {
    "duration": 13,
    "start_time": "2022-02-23T18:26:23.290Z"
   },
   {
    "duration": 50,
    "start_time": "2022-02-23T18:26:23.306Z"
   },
   {
    "duration": 9,
    "start_time": "2022-02-23T18:26:23.359Z"
   },
   {
    "duration": 22,
    "start_time": "2022-02-23T18:26:23.370Z"
   },
   {
    "duration": 56,
    "start_time": "2022-02-23T18:26:23.398Z"
   },
   {
    "duration": 14,
    "start_time": "2022-02-23T18:26:23.458Z"
   },
   {
    "duration": 93,
    "start_time": "2022-02-23T18:26:23.476Z"
   },
   {
    "duration": 12,
    "start_time": "2022-02-23T18:26:23.573Z"
   },
   {
    "duration": 14,
    "start_time": "2022-02-23T18:26:23.589Z"
   },
   {
    "duration": 18,
    "start_time": "2022-02-23T18:26:23.606Z"
   },
   {
    "duration": 46,
    "start_time": "2022-02-23T18:26:27.466Z"
   },
   {
    "duration": 80,
    "start_time": "2022-02-23T18:26:52.229Z"
   },
   {
    "duration": 876,
    "start_time": "2022-03-06T10:38:06.885Z"
   },
   {
    "duration": 22,
    "start_time": "2022-03-06T10:38:07.764Z"
   },
   {
    "duration": 6,
    "start_time": "2022-03-06T10:38:07.789Z"
   },
   {
    "duration": 8,
    "start_time": "2022-03-06T10:38:07.798Z"
   },
   {
    "duration": 9,
    "start_time": "2022-03-06T10:38:07.809Z"
   },
   {
    "duration": 8,
    "start_time": "2022-03-06T10:38:07.821Z"
   },
   {
    "duration": 52,
    "start_time": "2022-03-06T10:38:07.832Z"
   },
   {
    "duration": 16,
    "start_time": "2022-03-06T10:38:07.888Z"
   },
   {
    "duration": 17,
    "start_time": "2022-03-06T10:38:07.907Z"
   },
   {
    "duration": 17,
    "start_time": "2022-03-06T10:38:07.926Z"
   },
   {
    "duration": 84,
    "start_time": "2022-03-06T10:38:07.945Z"
   },
   {
    "duration": 8,
    "start_time": "2022-03-06T10:38:08.032Z"
   },
   {
    "duration": 7,
    "start_time": "2022-03-06T10:38:08.042Z"
   },
   {
    "duration": 31,
    "start_time": "2022-03-06T10:38:08.052Z"
   },
   {
    "duration": 38,
    "start_time": "2022-03-06T10:38:08.085Z"
   },
   {
    "duration": 64,
    "start_time": "2022-03-06T10:38:08.125Z"
   },
   {
    "duration": 15,
    "start_time": "2022-03-06T10:38:08.192Z"
   },
   {
    "duration": 34,
    "start_time": "2022-03-06T10:38:08.209Z"
   },
   {
    "duration": 27,
    "start_time": "2022-03-06T10:38:08.245Z"
   },
   {
    "duration": 35,
    "start_time": "2022-03-06T10:38:08.275Z"
   },
   {
    "duration": 12,
    "start_time": "2022-03-06T10:38:08.312Z"
   },
   {
    "duration": 58,
    "start_time": "2022-03-06T10:38:08.327Z"
   },
   {
    "duration": 36,
    "start_time": "2022-03-06T10:38:08.391Z"
   },
   {
    "duration": 49459,
    "start_time": "2022-03-06T10:38:08.431Z"
   },
   {
    "duration": 21,
    "start_time": "2022-03-06T10:38:57.893Z"
   },
   {
    "duration": 7,
    "start_time": "2022-03-06T10:38:57.916Z"
   },
   {
    "duration": 11,
    "start_time": "2022-03-06T10:38:57.926Z"
   },
   {
    "duration": 6,
    "start_time": "2022-03-06T10:38:57.940Z"
   },
   {
    "duration": 7,
    "start_time": "2022-03-06T10:38:57.983Z"
   },
   {
    "duration": 6230,
    "start_time": "2022-03-06T10:39:59.743Z"
   },
   {
    "duration": 11,
    "start_time": "2022-03-06T10:40:24.293Z"
   },
   {
    "duration": 10,
    "start_time": "2022-03-06T10:40:40.278Z"
   },
   {
    "duration": 238,
    "start_time": "2022-03-06T14:20:22.597Z"
   },
   {
    "duration": 641,
    "start_time": "2022-03-06T14:20:31.229Z"
   },
   {
    "duration": 16,
    "start_time": "2022-03-06T14:20:31.872Z"
   },
   {
    "duration": 5,
    "start_time": "2022-03-06T14:20:31.890Z"
   },
   {
    "duration": 6,
    "start_time": "2022-03-06T14:20:31.896Z"
   },
   {
    "duration": 10,
    "start_time": "2022-03-06T14:20:35.458Z"
   },
   {
    "duration": 9,
    "start_time": "2022-03-06T14:20:57.316Z"
   },
   {
    "duration": 343,
    "start_time": "2022-03-06T14:21:54.711Z"
   },
   {
    "duration": 535,
    "start_time": "2022-03-06T14:22:10.715Z"
   },
   {
    "duration": 55,
    "start_time": "2022-03-06T14:22:14.027Z"
   },
   {
    "duration": 10,
    "start_time": "2022-03-06T14:22:14.084Z"
   },
   {
    "duration": 8,
    "start_time": "2022-03-06T14:22:14.096Z"
   },
   {
    "duration": 4,
    "start_time": "2022-03-06T14:22:14.106Z"
   },
   {
    "duration": 4693,
    "start_time": "2022-03-06T14:22:16.281Z"
   },
   {
    "duration": 5,
    "start_time": "2022-03-06T14:22:26.049Z"
   },
   {
    "duration": 4,
    "start_time": "2022-03-06T14:22:34.000Z"
   },
   {
    "duration": 10,
    "start_time": "2022-03-06T14:23:14.309Z"
   },
   {
    "duration": 2,
    "start_time": "2022-03-07T11:36:47.385Z"
   },
   {
    "duration": 2,
    "start_time": "2022-03-07T11:38:28.765Z"
   },
   {
    "duration": 55,
    "start_time": "2022-03-07T11:38:28.769Z"
   },
   {
    "duration": 11,
    "start_time": "2022-03-07T11:38:28.826Z"
   },
   {
    "duration": 348,
    "start_time": "2022-03-07T11:38:31.606Z"
   },
   {
    "duration": 281,
    "start_time": "2022-03-07T11:38:53.746Z"
   },
   {
    "duration": 4,
    "start_time": "2022-03-07T11:39:17.434Z"
   },
   {
    "duration": 4,
    "start_time": "2022-03-07T11:39:56.105Z"
   },
   {
    "duration": 7,
    "start_time": "2022-03-07T11:40:11.506Z"
   },
   {
    "duration": 8,
    "start_time": "2022-03-07T11:40:35.977Z"
   },
   {
    "duration": 105,
    "start_time": "2022-03-07T11:42:38.425Z"
   },
   {
    "duration": 295,
    "start_time": "2022-03-07T11:44:08.165Z"
   },
   {
    "duration": 9,
    "start_time": "2022-03-07T11:44:11.884Z"
   },
   {
    "duration": 349,
    "start_time": "2022-03-07T11:50:03.964Z"
   },
   {
    "duration": 2,
    "start_time": "2022-03-07T11:50:12.105Z"
   },
   {
    "duration": 54,
    "start_time": "2022-03-07T11:50:12.109Z"
   },
   {
    "duration": 7,
    "start_time": "2022-03-07T11:50:12.165Z"
   },
   {
    "duration": 8,
    "start_time": "2022-03-07T11:50:12.174Z"
   },
   {
    "duration": 9,
    "start_time": "2022-03-07T11:50:12.183Z"
   },
   {
    "duration": 13,
    "start_time": "2022-03-07T11:50:12.194Z"
   },
   {
    "duration": 7,
    "start_time": "2022-03-07T11:50:12.209Z"
   },
   {
    "duration": 7,
    "start_time": "2022-03-07T11:50:12.217Z"
   },
   {
    "duration": 4,
    "start_time": "2022-03-07T11:50:12.226Z"
   },
   {
    "duration": 8,
    "start_time": "2022-03-07T11:50:35.966Z"
   },
   {
    "duration": 10,
    "start_time": "2022-03-07T11:50:47.505Z"
   },
   {
    "duration": 23,
    "start_time": "2022-03-07T11:53:16.406Z"
   },
   {
    "duration": 2,
    "start_time": "2022-03-07T11:55:12.800Z"
   },
   {
    "duration": 56,
    "start_time": "2022-03-07T11:55:12.804Z"
   },
   {
    "duration": 8,
    "start_time": "2022-03-07T11:55:12.862Z"
   },
   {
    "duration": 9,
    "start_time": "2022-03-07T11:55:12.871Z"
   },
   {
    "duration": 8,
    "start_time": "2022-03-07T11:55:12.882Z"
   },
   {
    "duration": 18,
    "start_time": "2022-03-07T11:55:12.891Z"
   },
   {
    "duration": 10,
    "start_time": "2022-03-07T11:55:12.910Z"
   },
   {
    "duration": 8,
    "start_time": "2022-03-07T11:55:12.922Z"
   },
   {
    "duration": 5,
    "start_time": "2022-03-07T11:55:17.894Z"
   },
   {
    "duration": 17,
    "start_time": "2022-03-07T11:55:29.574Z"
   },
   {
    "duration": 16,
    "start_time": "2022-03-07T11:55:44.106Z"
   },
   {
    "duration": 32,
    "start_time": "2022-03-07T11:56:00.925Z"
   },
   {
    "duration": 96,
    "start_time": "2022-03-07T11:56:10.765Z"
   },
   {
    "duration": 29,
    "start_time": "2022-03-07T11:56:19.424Z"
   },
   {
    "duration": 26,
    "start_time": "2022-03-07T11:56:36.985Z"
   },
   {
    "duration": 22,
    "start_time": "2022-03-07T11:57:13.974Z"
   },
   {
    "duration": 20,
    "start_time": "2022-03-07T11:57:23.174Z"
   },
   {
    "duration": 8,
    "start_time": "2022-03-07T12:01:20.966Z"
   },
   {
    "duration": 10,
    "start_time": "2022-03-07T12:05:18.186Z"
   },
   {
    "duration": 7,
    "start_time": "2022-03-07T12:07:57.566Z"
   },
   {
    "duration": 2,
    "start_time": "2022-03-07T12:09:12.853Z"
   },
   {
    "duration": 63,
    "start_time": "2022-03-07T12:09:12.857Z"
   },
   {
    "duration": 8,
    "start_time": "2022-03-07T12:09:12.922Z"
   },
   {
    "duration": 9,
    "start_time": "2022-03-07T12:09:12.931Z"
   },
   {
    "duration": 7,
    "start_time": "2022-03-07T12:09:12.942Z"
   },
   {
    "duration": 11,
    "start_time": "2022-03-07T12:09:12.950Z"
   },
   {
    "duration": 7,
    "start_time": "2022-03-07T12:09:12.962Z"
   },
   {
    "duration": 5,
    "start_time": "2022-03-07T12:09:12.970Z"
   },
   {
    "duration": 29,
    "start_time": "2022-03-07T12:09:12.977Z"
   },
   {
    "duration": 7,
    "start_time": "2022-03-07T12:09:13.008Z"
   },
   {
    "duration": 9,
    "start_time": "2022-03-07T12:09:13.016Z"
   },
   {
    "duration": 9,
    "start_time": "2022-03-07T12:09:13.026Z"
   },
   {
    "duration": 5,
    "start_time": "2022-03-07T12:09:13.037Z"
   },
   {
    "duration": 33,
    "start_time": "2022-03-07T12:09:13.043Z"
   },
   {
    "duration": 31,
    "start_time": "2022-03-07T12:09:13.078Z"
   },
   {
    "duration": 4,
    "start_time": "2022-03-07T12:09:13.110Z"
   },
   {
    "duration": 6,
    "start_time": "2022-03-07T12:09:13.116Z"
   },
   {
    "duration": 25,
    "start_time": "2022-03-07T12:09:13.123Z"
   },
   {
    "duration": 29,
    "start_time": "2022-03-07T12:09:13.149Z"
   },
   {
    "duration": 32,
    "start_time": "2022-03-07T12:09:13.179Z"
   },
   {
    "duration": 10,
    "start_time": "2022-03-07T12:09:13.212Z"
   },
   {
    "duration": 9,
    "start_time": "2022-03-07T12:09:13.223Z"
   },
   {
    "duration": 17,
    "start_time": "2022-03-07T12:09:13.233Z"
   },
   {
    "duration": 7,
    "start_time": "2022-03-07T12:09:13.251Z"
   },
   {
    "duration": 15,
    "start_time": "2022-03-07T12:09:13.260Z"
   },
   {
    "duration": 4,
    "start_time": "2022-03-07T12:09:13.305Z"
   },
   {
    "duration": 550,
    "start_time": "2022-03-07T12:09:13.311Z"
   },
   {
    "duration": 14,
    "start_time": "2022-03-07T12:09:13.863Z"
   },
   {
    "duration": 4,
    "start_time": "2022-03-07T12:09:13.879Z"
   },
   {
    "duration": 5,
    "start_time": "2022-03-07T12:09:13.885Z"
   },
   {
    "duration": 16,
    "start_time": "2022-03-07T12:09:13.891Z"
   },
   {
    "duration": 5,
    "start_time": "2022-03-07T12:09:13.909Z"
   },
   {
    "duration": 533,
    "start_time": "2022-03-07T12:10:13.332Z"
   },
   {
    "duration": 55,
    "start_time": "2022-03-07T12:10:13.867Z"
   },
   {
    "duration": 14,
    "start_time": "2022-03-07T12:10:13.924Z"
   },
   {
    "duration": 9,
    "start_time": "2022-03-07T12:10:13.940Z"
   },
   {
    "duration": 8,
    "start_time": "2022-03-07T12:10:13.951Z"
   },
   {
    "duration": 9,
    "start_time": "2022-03-07T12:10:13.961Z"
   },
   {
    "duration": 38,
    "start_time": "2022-03-07T12:10:13.971Z"
   },
   {
    "duration": 4,
    "start_time": "2022-03-07T12:10:14.011Z"
   },
   {
    "duration": 7,
    "start_time": "2022-03-07T12:10:14.017Z"
   },
   {
    "duration": 9,
    "start_time": "2022-03-07T12:10:14.025Z"
   },
   {
    "duration": 9,
    "start_time": "2022-03-07T12:10:14.036Z"
   },
   {
    "duration": 11,
    "start_time": "2022-03-07T12:10:14.046Z"
   },
   {
    "duration": 5,
    "start_time": "2022-03-07T12:10:14.058Z"
   },
   {
    "duration": 62,
    "start_time": "2022-03-07T12:10:14.064Z"
   },
   {
    "duration": 5,
    "start_time": "2022-03-07T12:10:14.128Z"
   },
   {
    "duration": 7,
    "start_time": "2022-03-07T12:10:14.134Z"
   },
   {
    "duration": 5,
    "start_time": "2022-03-07T12:10:14.142Z"
   },
   {
    "duration": 26,
    "start_time": "2022-03-07T12:10:14.148Z"
   },
   {
    "duration": 50,
    "start_time": "2022-03-07T12:10:14.175Z"
   },
   {
    "duration": 10,
    "start_time": "2022-03-07T12:10:14.226Z"
   },
   {
    "duration": 10,
    "start_time": "2022-03-07T12:10:14.238Z"
   },
   {
    "duration": 10,
    "start_time": "2022-03-07T12:10:14.249Z"
   },
   {
    "duration": 15,
    "start_time": "2022-03-07T12:10:14.261Z"
   },
   {
    "duration": 28,
    "start_time": "2022-03-07T12:10:14.278Z"
   },
   {
    "duration": 16,
    "start_time": "2022-03-07T12:10:14.308Z"
   },
   {
    "duration": 5,
    "start_time": "2022-03-07T12:10:14.326Z"
   },
   {
    "duration": 508,
    "start_time": "2022-03-07T12:10:14.333Z"
   },
   {
    "duration": 16,
    "start_time": "2022-03-07T12:10:14.842Z"
   },
   {
    "duration": 4,
    "start_time": "2022-03-07T12:10:14.860Z"
   },
   {
    "duration": 6,
    "start_time": "2022-03-07T12:10:14.866Z"
   },
   {
    "duration": 4,
    "start_time": "2022-03-07T12:10:14.873Z"
   },
   {
    "duration": 4,
    "start_time": "2022-03-07T12:10:14.905Z"
   },
   {
    "duration": 564,
    "start_time": "2022-03-07T12:17:52.325Z"
   },
   {
    "duration": 65,
    "start_time": "2022-03-07T12:17:52.891Z"
   },
   {
    "duration": 13,
    "start_time": "2022-03-07T12:17:52.957Z"
   },
   {
    "duration": 7,
    "start_time": "2022-03-07T12:17:52.972Z"
   },
   {
    "duration": 10,
    "start_time": "2022-03-07T12:17:52.981Z"
   },
   {
    "duration": 14,
    "start_time": "2022-03-07T12:17:52.993Z"
   },
   {
    "duration": 8,
    "start_time": "2022-03-07T12:17:53.008Z"
   },
   {
    "duration": 5,
    "start_time": "2022-03-07T12:17:53.018Z"
   },
   {
    "duration": 12,
    "start_time": "2022-03-07T12:17:53.024Z"
   },
   {
    "duration": 7,
    "start_time": "2022-03-07T12:17:53.037Z"
   },
   {
    "duration": 9,
    "start_time": "2022-03-07T12:17:53.045Z"
   },
   {
    "duration": 13,
    "start_time": "2022-03-07T12:17:53.055Z"
   },
   {
    "duration": 4,
    "start_time": "2022-03-07T12:17:53.069Z"
   },
   {
    "duration": 60,
    "start_time": "2022-03-07T12:17:53.074Z"
   },
   {
    "duration": 5,
    "start_time": "2022-03-07T12:17:53.135Z"
   },
   {
    "duration": 5,
    "start_time": "2022-03-07T12:17:53.141Z"
   },
   {
    "duration": 5,
    "start_time": "2022-03-07T12:17:53.148Z"
   },
   {
    "duration": 27,
    "start_time": "2022-03-07T12:17:53.154Z"
   },
   {
    "duration": 46,
    "start_time": "2022-03-07T12:17:53.182Z"
   },
   {
    "duration": 10,
    "start_time": "2022-03-07T12:17:53.229Z"
   },
   {
    "duration": 9,
    "start_time": "2022-03-07T12:17:53.240Z"
   },
   {
    "duration": 9,
    "start_time": "2022-03-07T12:17:53.251Z"
   },
   {
    "duration": 44,
    "start_time": "2022-03-07T12:17:53.263Z"
   },
   {
    "duration": 6,
    "start_time": "2022-03-07T12:17:53.308Z"
   },
   {
    "duration": 15,
    "start_time": "2022-03-07T12:17:53.316Z"
   },
   {
    "duration": 5,
    "start_time": "2022-03-07T12:17:53.333Z"
   },
   {
    "duration": 571,
    "start_time": "2022-03-07T12:17:53.340Z"
   },
   {
    "duration": 17,
    "start_time": "2022-03-07T12:17:53.912Z"
   },
   {
    "duration": 5,
    "start_time": "2022-03-07T12:17:53.930Z"
   },
   {
    "duration": 8,
    "start_time": "2022-03-07T12:17:53.936Z"
   },
   {
    "duration": 6,
    "start_time": "2022-03-07T12:17:53.945Z"
   },
   {
    "duration": 5,
    "start_time": "2022-03-07T12:17:53.953Z"
   },
   {
    "duration": 572,
    "start_time": "2022-03-07T12:20:33.518Z"
   },
   {
    "duration": 64,
    "start_time": "2022-03-07T12:20:34.092Z"
   },
   {
    "duration": 12,
    "start_time": "2022-03-07T12:20:34.158Z"
   },
   {
    "duration": 7,
    "start_time": "2022-03-07T12:20:34.172Z"
   },
   {
    "duration": 9,
    "start_time": "2022-03-07T12:20:34.180Z"
   },
   {
    "duration": 7,
    "start_time": "2022-03-07T12:20:34.190Z"
   },
   {
    "duration": 6,
    "start_time": "2022-03-07T12:20:34.205Z"
   },
   {
    "duration": 5,
    "start_time": "2022-03-07T12:20:34.214Z"
   },
   {
    "duration": 7,
    "start_time": "2022-03-07T12:20:34.220Z"
   },
   {
    "duration": 9,
    "start_time": "2022-03-07T12:20:34.229Z"
   },
   {
    "duration": 8,
    "start_time": "2022-03-07T12:20:34.239Z"
   },
   {
    "duration": 10,
    "start_time": "2022-03-07T12:20:34.249Z"
   },
   {
    "duration": 4,
    "start_time": "2022-03-07T12:20:34.260Z"
   },
   {
    "duration": 63,
    "start_time": "2022-03-07T12:20:34.266Z"
   },
   {
    "duration": 5,
    "start_time": "2022-03-07T12:20:34.330Z"
   },
   {
    "duration": 5,
    "start_time": "2022-03-07T12:20:34.336Z"
   },
   {
    "duration": 6,
    "start_time": "2022-03-07T12:20:34.343Z"
   },
   {
    "duration": 23,
    "start_time": "2022-03-07T12:20:34.350Z"
   },
   {
    "duration": 45,
    "start_time": "2022-03-07T12:20:34.374Z"
   },
   {
    "duration": 8,
    "start_time": "2022-03-07T12:20:34.421Z"
   },
   {
    "duration": 11,
    "start_time": "2022-03-07T12:20:34.430Z"
   },
   {
    "duration": 9,
    "start_time": "2022-03-07T12:20:34.442Z"
   },
   {
    "duration": 20,
    "start_time": "2022-03-07T12:20:34.454Z"
   },
   {
    "duration": 5,
    "start_time": "2022-03-07T12:20:34.476Z"
   },
   {
    "duration": 35,
    "start_time": "2022-03-07T12:20:34.482Z"
   },
   {
    "duration": 14,
    "start_time": "2022-03-07T12:20:34.518Z"
   },
   {
    "duration": 512,
    "start_time": "2022-03-07T12:20:34.533Z"
   },
   {
    "duration": 14,
    "start_time": "2022-03-07T12:20:35.047Z"
   },
   {
    "duration": 5,
    "start_time": "2022-03-07T12:20:35.062Z"
   },
   {
    "duration": 6,
    "start_time": "2022-03-07T12:20:35.068Z"
   },
   {
    "duration": 5,
    "start_time": "2022-03-07T12:20:35.075Z"
   },
   {
    "duration": 23,
    "start_time": "2022-03-07T12:20:35.082Z"
   },
   {
    "duration": 536,
    "start_time": "2022-03-07T12:25:35.049Z"
   },
   {
    "duration": 66,
    "start_time": "2022-03-07T12:25:35.587Z"
   },
   {
    "duration": 15,
    "start_time": "2022-03-07T12:25:35.655Z"
   },
   {
    "duration": 9,
    "start_time": "2022-03-07T12:25:35.671Z"
   },
   {
    "duration": 10,
    "start_time": "2022-03-07T12:25:35.682Z"
   },
   {
    "duration": 7,
    "start_time": "2022-03-07T12:25:35.705Z"
   },
   {
    "duration": 8,
    "start_time": "2022-03-07T12:25:35.714Z"
   },
   {
    "duration": 7,
    "start_time": "2022-03-07T12:25:35.725Z"
   },
   {
    "duration": 12,
    "start_time": "2022-03-07T12:25:35.734Z"
   },
   {
    "duration": 11,
    "start_time": "2022-03-07T12:25:35.748Z"
   },
   {
    "duration": 10,
    "start_time": "2022-03-07T12:25:35.761Z"
   },
   {
    "duration": 4,
    "start_time": "2022-03-07T12:25:35.773Z"
   },
   {
    "duration": 39,
    "start_time": "2022-03-07T12:25:35.805Z"
   },
   {
    "duration": 6,
    "start_time": "2022-03-07T12:25:35.845Z"
   },
   {
    "duration": 9,
    "start_time": "2022-03-07T12:25:35.852Z"
   },
   {
    "duration": 6,
    "start_time": "2022-03-07T12:25:35.862Z"
   },
   {
    "duration": 42,
    "start_time": "2022-03-07T12:25:35.870Z"
   },
   {
    "duration": 44,
    "start_time": "2022-03-07T12:25:35.913Z"
   },
   {
    "duration": 13,
    "start_time": "2022-03-07T12:25:35.959Z"
   },
   {
    "duration": 36,
    "start_time": "2022-03-07T12:25:35.974Z"
   },
   {
    "duration": 16,
    "start_time": "2022-03-07T12:25:36.012Z"
   },
   {
    "duration": 28,
    "start_time": "2022-03-07T12:25:36.030Z"
   },
   {
    "duration": 6,
    "start_time": "2022-03-07T12:25:36.062Z"
   },
   {
    "duration": 46,
    "start_time": "2022-03-07T12:25:36.070Z"
   },
   {
    "duration": 6,
    "start_time": "2022-03-07T12:25:36.118Z"
   },
   {
    "duration": 569,
    "start_time": "2022-03-07T12:25:36.126Z"
   },
   {
    "duration": 16,
    "start_time": "2022-03-07T12:25:36.696Z"
   },
   {
    "duration": 5,
    "start_time": "2022-03-07T12:25:36.713Z"
   },
   {
    "duration": 9,
    "start_time": "2022-03-07T12:25:36.719Z"
   },
   {
    "duration": 9,
    "start_time": "2022-03-07T12:25:36.729Z"
   },
   {
    "duration": 4,
    "start_time": "2022-03-07T12:25:36.740Z"
   },
   {
    "duration": 616,
    "start_time": "2022-03-08T12:52:49.065Z"
   },
   {
    "duration": 90,
    "start_time": "2022-03-08T12:52:49.684Z"
   },
   {
    "duration": 22,
    "start_time": "2022-03-08T12:52:49.780Z"
   },
   {
    "duration": 15,
    "start_time": "2022-03-08T12:52:49.804Z"
   },
   {
    "duration": 41,
    "start_time": "2022-03-08T12:52:49.821Z"
   },
   {
    "duration": 12,
    "start_time": "2022-03-08T12:52:49.865Z"
   },
   {
    "duration": 6,
    "start_time": "2022-03-08T12:52:49.880Z"
   },
   {
    "duration": 7,
    "start_time": "2022-03-08T12:52:49.891Z"
   },
   {
    "duration": 59,
    "start_time": "2022-03-08T12:52:49.901Z"
   },
   {
    "duration": 20,
    "start_time": "2022-03-08T12:52:49.962Z"
   },
   {
    "duration": 21,
    "start_time": "2022-03-08T12:52:49.984Z"
   },
   {
    "duration": 7,
    "start_time": "2022-03-08T12:52:50.008Z"
   },
   {
    "duration": 42,
    "start_time": "2022-03-08T12:52:50.051Z"
   },
   {
    "duration": 8,
    "start_time": "2022-03-08T12:52:50.096Z"
   },
   {
    "duration": 6,
    "start_time": "2022-03-08T12:52:50.107Z"
   },
   {
    "duration": 36,
    "start_time": "2022-03-08T12:52:50.115Z"
   },
   {
    "duration": 40,
    "start_time": "2022-03-08T12:52:50.154Z"
   },
   {
    "duration": 73,
    "start_time": "2022-03-08T12:52:50.196Z"
   },
   {
    "duration": 15,
    "start_time": "2022-03-08T12:52:50.272Z"
   },
   {
    "duration": 14,
    "start_time": "2022-03-08T12:52:50.289Z"
   },
   {
    "duration": 47,
    "start_time": "2022-03-08T12:52:50.305Z"
   },
   {
    "duration": 27,
    "start_time": "2022-03-08T12:52:50.355Z"
   },
   {
    "duration": 10,
    "start_time": "2022-03-08T12:52:50.384Z"
   },
   {
    "duration": 55,
    "start_time": "2022-03-08T12:52:50.397Z"
   },
   {
    "duration": 5,
    "start_time": "2022-03-08T12:52:50.455Z"
   },
   {
    "duration": 39951,
    "start_time": "2022-03-08T12:52:50.464Z"
   },
   {
    "duration": 7,
    "start_time": "2022-03-08T12:53:30.417Z"
   },
   {
    "duration": 26,
    "start_time": "2022-03-08T12:53:30.426Z"
   },
   {
    "duration": 10,
    "start_time": "2022-03-08T12:53:30.455Z"
   },
   {
    "duration": 12,
    "start_time": "2022-03-08T12:53:30.468Z"
   },
   {
    "duration": 8,
    "start_time": "2022-03-08T12:53:30.482Z"
   }
  ],
  "kernelspec": {
   "display_name": "Python 3",
   "language": "python",
   "name": "python3"
  },
  "language_info": {
   "codemirror_mode": {
    "name": "ipython",
    "version": 3
   },
   "file_extension": ".py",
   "mimetype": "text/x-python",
   "name": "python",
   "nbconvert_exporter": "python",
   "pygments_lexer": "ipython3",
   "version": "3.7.12"
  },
  "toc": {
   "base_numbering": 1,
   "nav_menu": {},
   "number_sections": true,
   "sideBar": true,
   "skip_h1_title": true,
   "title_cell": "Table of Contents",
   "title_sidebar": "Contents",
   "toc_cell": false,
   "toc_position": {
    "height": "calc(100% - 180px)",
    "left": "10px",
    "top": "150px",
    "width": "278.075px"
   },
   "toc_section_display": true,
   "toc_window_display": true
  }
 },
 "nbformat": 4,
 "nbformat_minor": 5
}
